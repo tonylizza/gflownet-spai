{
 "cells": [
  {
   "cell_type": "code",
   "execution_count": 1,
   "metadata": {},
   "outputs": [],
   "source": [
    "import torch\n",
    "from torch.nn.functional import one_hot\n",
    "from torch.optim import Adam\n",
    "from tqdm import tqdm\n",
    "from preconditioner import PreconditionerEnv\n",
    "from policy import ForwardPolicy, BackwardPolicy\n",
    "from gflownet.gflownet import GFlowNet\n",
    "from gflownet.utils import sparse_one_hot\n",
    "from gflownet.utils import trajectory_balance_loss, market_matrix_to_sparse_tensor\n",
    "import psutil"
   ]
  },
  {
   "cell_type": "code",
   "execution_count": 2,
   "metadata": {},
   "outputs": [],
   "source": [
    "def log_memory_usage(stage: str):\n",
    "    process = psutil.Process()\n",
    "    mem_info = process.memory_info()\n",
    "    print(f\"[{stage}] CPU Memory Usage: {mem_info.rss / (1024 ** 2):.2f} MB\")\n",
    "    if torch.cuda.is_available():\n",
    "        print(f\"[{stage}] GPU Memory Usage: {torch.cuda.memory_allocated() / (1024 ** 2):.2f} MB\")\n"
   ]
  },
  {
   "cell_type": "code",
   "execution_count": 3,
   "metadata": {},
   "outputs": [],
   "source": [
    "import warnings\n",
    "warnings.filterwarnings('ignore')"
   ]
  },
  {
   "cell_type": "code",
   "execution_count": 4,
   "metadata": {},
   "outputs": [],
   "source": [
    "matrix_path = '../LF10/LF10.mtx'  # Update this with your file path\n",
    "batch_size = 3\n",
    "num_epochs = 1000\n",
    "lr = 0.0001"
   ]
  },
  {
   "cell_type": "code",
   "execution_count": 5,
   "metadata": {},
   "outputs": [
    {
     "name": "stdout",
     "output_type": "stream",
     "text": [
      "[Before Loading Initial Matrix] CPU Memory Usage: 204.31 MB\n",
      "[After Loading Initial Matrix] CPU Memory Usage: 204.96 MB\n"
     ]
    }
   ],
   "source": [
    "log_memory_usage(\"Before Loading Initial Matrix\")\n",
    "\n",
    "# Load the initial matrix from a file\n",
    "initial_matrix = market_matrix_to_sparse_tensor(matrix_path)\n",
    "matrix_size = initial_matrix.size(0)\n",
    "\n",
    "log_memory_usage(\"After Loading Initial Matrix\")\n"
   ]
  },
  {
   "cell_type": "code",
   "execution_count": 6,
   "metadata": {},
   "outputs": [
    {
     "data": {
      "text/plain": [
       "torch.Size([82])"
      ]
     },
     "execution_count": 6,
     "metadata": {},
     "output_type": "execute_result"
    }
   ],
   "source": [
    "# Initialize the environment and policies\n",
    "env = PreconditionerEnv(matrix_size=matrix_size, initial_matrix=initial_matrix)\n",
    "env.data.edge_attr.shape"
   ]
  },
  {
   "cell_type": "code",
   "execution_count": 7,
   "metadata": {},
   "outputs": [],
   "source": [
    "\n",
    "node_features = -1  # Assuming each node has a single feature, can be adjusted\n",
    "hidden_dim = 8\n",
    "forward_policy = ForwardPolicy(node_features=node_features, hidden_dim=hidden_dim, num_actions=env.num_actions)\n",
    "#forward_policy = ForwardPolicy(in_channels=node_features, hidden_channels=hidden_dim, out_channels=env.num_actions)\n",
    "backward_policy = BackwardPolicy(matrix_size=matrix_size, num_actions=env.num_actions)"
   ]
  },
  {
   "cell_type": "code",
   "execution_count": 8,
   "metadata": {},
   "outputs": [
    {
     "data": {
      "text/plain": [
       "torch.Size([82])"
      ]
     },
     "execution_count": 8,
     "metadata": {},
     "output_type": "execute_result"
    }
   ],
   "source": [
    "env.data.edge_attr.shape"
   ]
  },
  {
   "cell_type": "code",
   "execution_count": 9,
   "metadata": {},
   "outputs": [],
   "source": [
    "def check_gradients(model):\n",
    "    for name, param in model.named_parameters():\n",
    "        if param.requires_grad:\n",
    "            if param.grad is not None:\n",
    "                print(f\"{name}: {param.grad.norm()}\")\n",
    "            else:\n",
    "                print(f\"{name}: No gradient\")\n"
   ]
  },
  {
   "cell_type": "code",
   "execution_count": 10,
   "metadata": {},
   "outputs": [
    {
     "name": "stdout",
     "output_type": "stream",
     "text": [
      "[After Model Initialization] CPU Memory Usage: 241.70 MB\n"
     ]
    },
    {
     "name": "stderr",
     "output_type": "stream",
     "text": [
      "  0%|          | 0/100 [00:00<?, ?it/s]"
     ]
    },
    {
     "name": "stdout",
     "output_type": "stream",
     "text": [
      "Residual for Updated Matrix 144555118858.67154\n",
      "Original Residual: 165279783455.26086\n",
      "residual_ratio 0.8746085929971028\n",
      "No. flops for Updated Matrix 2232\n",
      "No. Flops Original Matrix 2952\n",
      "computational_ratio: 0.7560975609756098\n",
      "Residual for Updated Matrix 83132622493.7965\n",
      "Original Residual: 165279783455.26086\n",
      "residual_ratio 0.5029811919877027\n",
      "No. flops for Updated Matrix 1836\n",
      "No. Flops Original Matrix 2952\n",
      "computational_ratio: 0.6219512195121951\n",
      "Residual for Updated Matrix 4.242640687119285\n",
      "Original Residual: 165279783455.26086\n",
      "residual_ratio 2.5669447275550875e-11\n",
      "No. flops for Updated Matrix 0\n",
      "No. Flops Original Matrix 2952\n",
      "computational_ratio: 0.0\n"
     ]
    },
    {
     "name": "stderr",
     "output_type": "stream",
     "text": [
      "  1%|          | 1/100 [00:02<03:52,  2.35s/it]"
     ]
    },
    {
     "name": "stdout",
     "output_type": "stream",
     "text": [
      "Epoch 0 Loss: 3938.574, Num_Actions 83\n",
      "Residual for Updated Matrix 58084666862.73246\n",
      "Original Residual: 165279783455.26086\n",
      "residual_ratio 0.351432375142573\n",
      "No. flops for Updated Matrix 288\n",
      "No. Flops Original Matrix 2952\n",
      "computational_ratio: 0.0975609756097561\n",
      "Residual for Updated Matrix 161448990828.58936\n",
      "Original Residual: 165279783455.26086\n",
      "residual_ratio 0.9768223762968055\n",
      "No. flops for Updated Matrix 2484\n",
      "No. Flops Original Matrix 2952\n",
      "computational_ratio: 0.8414634146341463\n",
      "Residual for Updated Matrix 147166757319.45587\n",
      "Original Residual: 165279783455.26086\n",
      "residual_ratio 0.8904099112599094\n",
      "No. flops for Updated Matrix 2664\n",
      "No. Flops Original Matrix 2952\n",
      "computational_ratio: 0.9024390243902439\n"
     ]
    },
    {
     "name": "stderr",
     "output_type": "stream",
     "text": [
      "  2%|▏         | 2/100 [00:03<03:03,  1.87s/it]"
     ]
    },
    {
     "name": "stdout",
     "output_type": "stream",
     "text": [
      "Residual for Updated Matrix 132166192796.49678\n",
      "Original Residual: 165279783455.26086\n",
      "residual_ratio 0.799651294510998\n",
      "No. flops for Updated Matrix 2304\n",
      "No. Flops Original Matrix 2952\n",
      "computational_ratio: 0.7804878048780488\n",
      "Residual for Updated Matrix 76662272293.2658\n",
      "Original Residual: 165279783455.26086\n",
      "residual_ratio 0.4638333297067593\n",
      "No. flops for Updated Matrix 1116\n",
      "No. Flops Original Matrix 2952\n",
      "computational_ratio: 0.3780487804878049\n",
      "Residual for Updated Matrix 127556397990.0652\n",
      "Original Residual: 165279783455.26086\n",
      "residual_ratio 0.7717604375044035\n",
      "No. flops for Updated Matrix 1656\n",
      "No. Flops Original Matrix 2952\n",
      "computational_ratio: 0.5609756097560976\n"
     ]
    },
    {
     "name": "stderr",
     "output_type": "stream",
     "text": [
      "  3%|▎         | 3/100 [00:04<02:22,  1.47s/it]"
     ]
    },
    {
     "name": "stdout",
     "output_type": "stream",
     "text": [
      "Residual for Updated Matrix 115464878194.83913\n",
      "Original Residual: 165279783455.26086\n",
      "residual_ratio 0.6986025500577571\n",
      "No. flops for Updated Matrix 1224\n",
      "No. Flops Original Matrix 2952\n",
      "computational_ratio: 0.4146341463414634\n",
      "Residual for Updated Matrix 4.242640687119285\n",
      "Original Residual: 165279783455.26086\n",
      "residual_ratio 2.5669447275550875e-11\n",
      "No. flops for Updated Matrix 0\n",
      "No. Flops Original Matrix 2952\n",
      "computational_ratio: 0.0\n",
      "Residual for Updated Matrix 73767934865.24673\n",
      "Original Residual: 165279783455.26086\n",
      "residual_ratio 0.4463215846674604\n",
      "No. flops for Updated Matrix 684\n",
      "No. Flops Original Matrix 2952\n",
      "computational_ratio: 0.23170731707317074\n"
     ]
    },
    {
     "name": "stderr",
     "output_type": "stream",
     "text": [
      "  4%|▍         | 4/100 [00:06<02:26,  1.52s/it]"
     ]
    },
    {
     "name": "stdout",
     "output_type": "stream",
     "text": [
      "Residual for Updated Matrix 40404445076.74552\n",
      "Original Residual: 165279783455.26086\n",
      "residual_ratio 0.24446090279203742\n",
      "No. flops for Updated Matrix 288\n",
      "No. Flops Original Matrix 2952\n",
      "computational_ratio: 0.0975609756097561\n",
      "Residual for Updated Matrix 93601100496.64174\n",
      "Original Residual: 165279783455.26086\n",
      "residual_ratio 0.5663191138072756\n",
      "No. flops for Updated Matrix 1692\n",
      "No. Flops Original Matrix 2952\n",
      "computational_ratio: 0.573170731707317\n",
      "Residual for Updated Matrix 73398667302.83627\n",
      "Original Residual: 165279783455.26086\n",
      "residual_ratio 0.4440873878728451\n",
      "No. flops for Updated Matrix 1620\n",
      "No. Flops Original Matrix 2952\n",
      "computational_ratio: 0.5487804878048781\n"
     ]
    },
    {
     "name": "stderr",
     "output_type": "stream",
     "text": [
      "  6%|▌         | 6/100 [00:08<01:46,  1.13s/it]"
     ]
    },
    {
     "name": "stdout",
     "output_type": "stream",
     "text": [
      "Residual for Updated Matrix 157179467038.2167\n",
      "Original Residual: 165279783455.26086\n",
      "residual_ratio 0.9509902769249645\n",
      "No. flops for Updated Matrix 2628\n",
      "No. Flops Original Matrix 2952\n",
      "computational_ratio: 0.8902439024390244\n",
      "Residual for Updated Matrix 128618858565.54074\n",
      "Original Residual: 165279783455.26086\n",
      "residual_ratio 0.778188692389933\n",
      "No. flops for Updated Matrix 2196\n",
      "No. Flops Original Matrix 2952\n",
      "computational_ratio: 0.7439024390243902\n",
      "Residual for Updated Matrix 132372034599.6477\n",
      "Original Residual: 165279783455.26086\n",
      "residual_ratio 0.8008967087948728\n",
      "No. flops for Updated Matrix 2448\n",
      "No. Flops Original Matrix 2952\n",
      "computational_ratio: 0.8292682926829268\n",
      "Residual for Updated Matrix 106133630044.67245\n",
      "Original Residual: 165279783455.26086\n",
      "residual_ratio 0.6421452631767361\n",
      "No. flops for Updated Matrix 1692\n",
      "No. Flops Original Matrix 2952\n",
      "computational_ratio: 0.573170731707317\n",
      "Residual for Updated Matrix 122330356277.59157\n",
      "Original Residual: 165279783455.26086\n",
      "residual_ratio 0.7401410730351352\n",
      "No. flops for Updated Matrix 1800\n",
      "No. Flops Original Matrix 2952\n",
      "computational_ratio: 0.6097560975609756\n",
      "Residual for Updated Matrix 61718682337.211205\n",
      "Original Residual: 165279783455.26086\n",
      "residual_ratio 0.3734194288433205\n",
      "No. flops for Updated Matrix 288\n",
      "No. Flops Original Matrix 2952\n",
      "computational_ratio: 0.0975609756097561\n"
     ]
    },
    {
     "name": "stderr",
     "output_type": "stream",
     "text": [
      "  7%|▋         | 7/100 [00:09<01:55,  1.25s/it]"
     ]
    },
    {
     "name": "stdout",
     "output_type": "stream",
     "text": [
      "Residual for Updated Matrix 130925320937.55728\n",
      "Original Residual: 165279783455.26086\n",
      "residual_ratio 0.7921435894971214\n",
      "No. flops for Updated Matrix 2268\n",
      "No. Flops Original Matrix 2952\n",
      "computational_ratio: 0.7682926829268293\n",
      "Residual for Updated Matrix 128830218396.43846\n",
      "Original Residual: 165279783455.26086\n",
      "residual_ratio 0.7794674926550298\n",
      "No. flops for Updated Matrix 1908\n",
      "No. Flops Original Matrix 2952\n",
      "computational_ratio: 0.6463414634146342\n",
      "Residual for Updated Matrix 88213650416.76927\n",
      "Original Residual: 165279783455.26086\n",
      "residual_ratio 0.5337231727475465\n",
      "No. flops for Updated Matrix 1080\n",
      "No. Flops Original Matrix 2952\n",
      "computational_ratio: 0.36585365853658536\n"
     ]
    },
    {
     "name": "stderr",
     "output_type": "stream",
     "text": [
      "  8%|▊         | 8/100 [00:10<01:46,  1.16s/it]"
     ]
    },
    {
     "name": "stdout",
     "output_type": "stream",
     "text": [
      "Residual for Updated Matrix 87283570796.29277\n",
      "Original Residual: 165279783455.26086\n",
      "residual_ratio 0.5280958685423213\n",
      "No. flops for Updated Matrix 1008\n",
      "No. Flops Original Matrix 2952\n",
      "computational_ratio: 0.34146341463414637\n",
      "Residual for Updated Matrix 105619617113.51381\n",
      "Original Residual: 165279783455.26086\n",
      "residual_ratio 0.6390353067113238\n",
      "No. flops for Updated Matrix 1548\n",
      "No. Flops Original Matrix 2952\n",
      "computational_ratio: 0.524390243902439\n",
      "Residual for Updated Matrix 118259129417.30989\n",
      "Original Residual: 165279783455.26086\n",
      "residual_ratio 0.7155087388490022\n",
      "No. flops for Updated Matrix 1872\n",
      "No. Flops Original Matrix 2952\n",
      "computational_ratio: 0.6341463414634146\n"
     ]
    },
    {
     "name": "stderr",
     "output_type": "stream",
     "text": [
      "  9%|▉         | 9/100 [00:11<01:40,  1.11s/it]"
     ]
    },
    {
     "name": "stdout",
     "output_type": "stream",
     "text": [
      "Residual for Updated Matrix 40404195669.54197\n",
      "Original Residual: 165279783455.26086\n",
      "residual_ratio 0.24445939379197498\n",
      "No. flops for Updated Matrix 324\n",
      "No. Flops Original Matrix 2952\n",
      "computational_ratio: 0.10975609756097561\n",
      "Residual for Updated Matrix 43641871996.9497\n",
      "Original Residual: 165279783455.26086\n",
      "residual_ratio 0.26404845822394846\n",
      "No. flops for Updated Matrix 576\n",
      "No. Flops Original Matrix 2952\n",
      "computational_ratio: 0.1951219512195122\n",
      "Residual for Updated Matrix 64309386830.74114\n",
      "Original Residual: 165279783455.26086\n",
      "residual_ratio 0.38909408934546963\n",
      "No. flops for Updated Matrix 468\n",
      "No. Flops Original Matrix 2952\n",
      "computational_ratio: 0.15853658536585366\n"
     ]
    },
    {
     "name": "stderr",
     "output_type": "stream",
     "text": [
      " 11%|█         | 11/100 [00:13<01:27,  1.02it/s]"
     ]
    },
    {
     "name": "stdout",
     "output_type": "stream",
     "text": [
      "Residual for Updated Matrix 165279732644.28278\n",
      "Original Residual: 165279783455.26086\n",
      "residual_ratio 0.9999996925759641\n",
      "No. flops for Updated Matrix 2844\n",
      "No. Flops Original Matrix 2952\n",
      "computational_ratio: 0.9634146341463414\n",
      "Residual for Updated Matrix 133395774129.59581\n",
      "Original Residual: 165279783455.26086\n",
      "residual_ratio 0.8070906879285956\n",
      "No. flops for Updated Matrix 2088\n",
      "No. Flops Original Matrix 2952\n",
      "computational_ratio: 0.7073170731707317\n",
      "Residual for Updated Matrix 151179168248.99576\n",
      "Original Residual: 165279783455.26086\n",
      "residual_ratio 0.9146863886708687\n",
      "No. flops for Updated Matrix 2376\n",
      "No. Flops Original Matrix 2952\n",
      "computational_ratio: 0.8048780487804879\n",
      "Residual for Updated Matrix 87283426480.92062\n",
      "Original Residual: 165279783455.26086\n",
      "residual_ratio 0.5280949953842791\n",
      "No. flops for Updated Matrix 936\n",
      "No. Flops Original Matrix 2952\n",
      "computational_ratio: 0.3170731707317073\n",
      "Residual for Updated Matrix 151718356428.62296\n",
      "Original Residual: 165279783455.26086\n",
      "residual_ratio 0.9179486641189313\n",
      "No. flops for Updated Matrix 2628\n",
      "No. Flops Original Matrix 2952\n",
      "computational_ratio: 0.8902439024390244\n",
      "Residual for Updated Matrix 161280295430.6311\n",
      "Original Residual: 165279783455.26086\n",
      "residual_ratio 0.9758017106447119\n",
      "No. flops for Updated Matrix 2520\n",
      "No. Flops Original Matrix 2952\n",
      "computational_ratio: 0.8536585365853658\n"
     ]
    },
    {
     "name": "stderr",
     "output_type": "stream",
     "text": [
      " 12%|█▏        | 12/100 [00:14<01:27,  1.00it/s]"
     ]
    },
    {
     "name": "stdout",
     "output_type": "stream",
     "text": [
      "Residual for Updated Matrix 118489076624.16205\n",
      "Original Residual: 165279783455.26086\n",
      "residual_ratio 0.7168999991837207\n",
      "No. flops for Updated Matrix 2376\n",
      "No. Flops Original Matrix 2952\n",
      "computational_ratio: 0.8048780487804879\n",
      "Residual for Updated Matrix 48931933811.23943\n",
      "Original Residual: 165279783455.26086\n",
      "residual_ratio 0.29605516650791525\n",
      "No. flops for Updated Matrix 144\n",
      "No. Flops Original Matrix 2952\n",
      "computational_ratio: 0.04878048780487805\n",
      "Residual for Updated Matrix 121661504140.09073\n",
      "Original Residual: 165279783455.26086\n",
      "residual_ratio 0.7360942856814847\n",
      "No. flops for Updated Matrix 1980\n",
      "No. Flops Original Matrix 2952\n",
      "computational_ratio: 0.6707317073170732\n"
     ]
    },
    {
     "name": "stderr",
     "output_type": "stream",
     "text": [
      " 13%|█▎        | 13/100 [00:16<01:38,  1.14s/it]"
     ]
    },
    {
     "name": "stdout",
     "output_type": "stream",
     "text": [
      "Residual for Updated Matrix 143041581728.52408\n",
      "Original Residual: 165279783455.26086\n",
      "residual_ratio 0.8654511685468393\n",
      "No. flops for Updated Matrix 2520\n",
      "No. Flops Original Matrix 2952\n",
      "computational_ratio: 0.8536585365853658\n",
      "Residual for Updated Matrix 53703932889.22894\n",
      "Original Residual: 165279783455.26086\n",
      "residual_ratio 0.3249274156011096\n",
      "No. flops for Updated Matrix 396\n",
      "No. Flops Original Matrix 2952\n",
      "computational_ratio: 0.13414634146341464\n",
      "Residual for Updated Matrix 44260996179.23778\n",
      "Original Residual: 165279783455.26086\n",
      "residual_ratio 0.26779437420559465\n",
      "No. flops for Updated Matrix 540\n",
      "No. Flops Original Matrix 2952\n",
      "computational_ratio: 0.18292682926829268\n"
     ]
    },
    {
     "name": "stderr",
     "output_type": "stream",
     "text": [
      " 14%|█▍        | 14/100 [00:17<01:42,  1.19s/it]"
     ]
    },
    {
     "name": "stdout",
     "output_type": "stream",
     "text": [
      "Residual for Updated Matrix 108165133833.03593\n",
      "Original Residual: 165279783455.26086\n",
      "residual_ratio 0.654436565512048\n",
      "No. flops for Updated Matrix 1368\n",
      "No. Flops Original Matrix 2952\n",
      "computational_ratio: 0.4634146341463415\n",
      "Residual for Updated Matrix 61276599642.563385\n",
      "Original Residual: 165279783455.26086\n",
      "residual_ratio 0.3707446752503169\n",
      "No. flops for Updated Matrix 792\n",
      "No. Flops Original Matrix 2952\n",
      "computational_ratio: 0.2682926829268293\n",
      "Residual for Updated Matrix 126270333044.96286\n",
      "Original Residual: 165279783455.26086\n",
      "residual_ratio 0.7639792986487222\n",
      "No. flops for Updated Matrix 1908\n",
      "No. Flops Original Matrix 2952\n",
      "computational_ratio: 0.6463414634146342\n"
     ]
    },
    {
     "name": "stderr",
     "output_type": "stream",
     "text": [
      " 15%|█▌        | 15/100 [00:18<01:38,  1.16s/it]"
     ]
    },
    {
     "name": "stdout",
     "output_type": "stream",
     "text": [
      "Residual for Updated Matrix 24466172852.870007\n",
      "Original Residual: 165279783455.26086\n",
      "residual_ratio 0.14802882930623326\n",
      "No. flops for Updated Matrix 396\n",
      "No. Flops Original Matrix 2952\n",
      "computational_ratio: 0.13414634146341464\n",
      "Residual for Updated Matrix 84753021542.89249\n",
      "Original Residual: 165279783455.26086\n",
      "residual_ratio 0.5127851681015425\n",
      "No. flops for Updated Matrix 1080\n",
      "No. Flops Original Matrix 2952\n",
      "computational_ratio: 0.36585365853658536\n",
      "Residual for Updated Matrix 127556542827.77457\n",
      "Original Residual: 165279783455.26086\n",
      "residual_ratio 0.7717613138227671\n",
      "No. flops for Updated Matrix 1620\n",
      "No. Flops Original Matrix 2952\n",
      "computational_ratio: 0.5487804878048781\n"
     ]
    },
    {
     "name": "stderr",
     "output_type": "stream",
     "text": [
      " 16%|█▌        | 16/100 [00:19<01:42,  1.22s/it]"
     ]
    },
    {
     "name": "stdout",
     "output_type": "stream",
     "text": [
      "Residual for Updated Matrix 139575562262.7853\n",
      "Original Residual: 165279783455.26086\n",
      "residual_ratio 0.8444805489509044\n",
      "No. flops for Updated Matrix 2448\n",
      "No. Flops Original Matrix 2952\n",
      "computational_ratio: 0.8292682926829268\n",
      "Residual for Updated Matrix 51107812722.027466\n",
      "Original Residual: 165279783455.26086\n",
      "residual_ratio 0.3092199883953847\n",
      "No. flops for Updated Matrix 216\n",
      "No. Flops Original Matrix 2952\n",
      "computational_ratio: 0.07317073170731707\n",
      "Residual for Updated Matrix 62594393760.361275\n",
      "Original Residual: 165279783455.26086\n",
      "residual_ratio 0.3787177866027685\n",
      "No. flops for Updated Matrix 504\n",
      "No. Flops Original Matrix 2952\n",
      "computational_ratio: 0.17073170731707318\n"
     ]
    },
    {
     "name": "stderr",
     "output_type": "stream",
     "text": [
      " 17%|█▋        | 17/100 [00:21<01:52,  1.36s/it]"
     ]
    },
    {
     "name": "stdout",
     "output_type": "stream",
     "text": [
      "Residual for Updated Matrix 120988357577.76883\n",
      "Original Residual: 165279783455.26086\n",
      "residual_ratio 0.7320215155685924\n",
      "No. flops for Updated Matrix 1944\n",
      "No. Flops Original Matrix 2952\n",
      "computational_ratio: 0.6585365853658537\n",
      "Residual for Updated Matrix 121884763907.9608\n",
      "Original Residual: 165279783455.26086\n",
      "residual_ratio 0.7374450846915191\n",
      "No. flops for Updated Matrix 1548\n",
      "No. Flops Original Matrix 2952\n",
      "computational_ratio: 0.524390243902439\n",
      "Residual for Updated Matrix 36884832614.474144\n",
      "Original Residual: 165279783455.26086\n",
      "residual_ratio 0.2231660269839257\n",
      "No. flops for Updated Matrix 900\n",
      "No. Flops Original Matrix 2952\n",
      "computational_ratio: 0.3048780487804878\n"
     ]
    },
    {
     "name": "stderr",
     "output_type": "stream",
     "text": [
      " 18%|█▊        | 18/100 [00:22<01:44,  1.28s/it]"
     ]
    },
    {
     "name": "stdout",
     "output_type": "stream",
     "text": [
      "Residual for Updated Matrix 141126645252.9621\n",
      "Original Residual: 165279783455.26086\n",
      "residual_ratio 0.8538651388732204\n",
      "No. flops for Updated Matrix 2376\n",
      "No. Flops Original Matrix 2952\n",
      "computational_ratio: 0.8048780487804879\n",
      "Residual for Updated Matrix 47234870069.952705\n",
      "Original Residual: 165279783455.26086\n",
      "residual_ratio 0.2857873424231499\n",
      "No. flops for Updated Matrix 648\n",
      "No. Flops Original Matrix 2952\n",
      "computational_ratio: 0.21951219512195122\n",
      "Residual for Updated Matrix 37614422865.39377\n",
      "Original Residual: 165279783455.26086\n",
      "residual_ratio 0.22758030098445473\n",
      "No. flops for Updated Matrix 324\n",
      "No. Flops Original Matrix 2952\n",
      "computational_ratio: 0.10975609756097561\n"
     ]
    },
    {
     "name": "stderr",
     "output_type": "stream",
     "text": [
      " 19%|█▉        | 19/100 [00:24<01:45,  1.31s/it]"
     ]
    },
    {
     "name": "stdout",
     "output_type": "stream",
     "text": [
      "Residual for Updated Matrix 88828205184.28618\n",
      "Original Residual: 165279783455.26086\n",
      "residual_ratio 0.537441442185401\n",
      "No. flops for Updated Matrix 936\n",
      "No. Flops Original Matrix 2952\n",
      "computational_ratio: 0.3170731707317073\n",
      "Residual for Updated Matrix 75228823402.45245\n",
      "Original Residual: 165279783455.26086\n",
      "residual_ratio 0.45516046687473993\n",
      "No. flops for Updated Matrix 792\n",
      "No. Flops Original Matrix 2952\n",
      "computational_ratio: 0.2682926829268293\n",
      "Residual for Updated Matrix 124534890502.77446\n",
      "Original Residual: 165279783455.26086\n",
      "residual_ratio 0.7534792695108078\n",
      "No. flops for Updated Matrix 1944\n",
      "No. Flops Original Matrix 2952\n",
      "computational_ratio: 0.6585365853658537\n"
     ]
    },
    {
     "name": "stderr",
     "output_type": "stream",
     "text": [
      " 20%|██        | 20/100 [00:25<01:39,  1.25s/it]"
     ]
    },
    {
     "name": "stdout",
     "output_type": "stream",
     "text": [
      "Residual for Updated Matrix 65150826236.7635\n",
      "Original Residual: 165279783455.26086\n",
      "residual_ratio 0.3941850895176118\n",
      "No. flops for Updated Matrix 1620\n",
      "No. Flops Original Matrix 2952\n",
      "computational_ratio: 0.5487804878048781\n",
      "Residual for Updated Matrix 71900451112.3474\n",
      "Original Residual: 165279783455.26086\n",
      "residual_ratio 0.4350226604199898\n",
      "No. flops for Updated Matrix 936\n",
      "No. Flops Original Matrix 2952\n",
      "computational_ratio: 0.3170731707317073\n",
      "Residual for Updated Matrix 155788498490.73734\n",
      "Original Residual: 165279783455.26086\n",
      "residual_ratio 0.9425744349000028\n",
      "No. flops for Updated Matrix 2736\n",
      "No. Flops Original Matrix 2952\n",
      "computational_ratio: 0.926829268292683\n"
     ]
    },
    {
     "name": "stderr",
     "output_type": "stream",
     "text": [
      " 21%|██        | 21/100 [00:26<01:33,  1.19s/it]"
     ]
    },
    {
     "name": "stdout",
     "output_type": "stream",
     "text": [
      "Residual for Updated Matrix 157525183433.04797\n",
      "Original Residual: 165279783455.26086\n",
      "residual_ratio 0.9530819809894537\n",
      "No. flops for Updated Matrix 2412\n",
      "No. Flops Original Matrix 2952\n",
      "computational_ratio: 0.8170731707317073\n",
      "Residual for Updated Matrix 115700059569.33562\n",
      "Original Residual: 165279783455.26086\n",
      "residual_ratio 0.7000254789216501\n",
      "No. flops for Updated Matrix 1152\n",
      "No. Flops Original Matrix 2952\n",
      "computational_ratio: 0.3902439024390244\n",
      "Residual for Updated Matrix 139575640476.19778\n",
      "Original Residual: 165279783455.26086\n",
      "residual_ratio 0.8444810221691701\n",
      "No. flops for Updated Matrix 2340\n",
      "No. Flops Original Matrix 2952\n",
      "computational_ratio: 0.7926829268292683\n"
     ]
    },
    {
     "name": "stderr",
     "output_type": "stream",
     "text": [
      " 22%|██▏       | 22/100 [00:27<01:26,  1.12s/it]"
     ]
    },
    {
     "name": "stdout",
     "output_type": "stream",
     "text": [
      "Residual for Updated Matrix 18069863309.54983\n",
      "Original Residual: 165279783455.26086\n",
      "residual_ratio 0.10932893867471162\n",
      "No. flops for Updated Matrix 324\n",
      "No. Flops Original Matrix 2952\n",
      "computational_ratio: 0.10975609756097561\n",
      "Residual for Updated Matrix 107661124707.30795\n",
      "Original Residual: 165279783455.26086\n",
      "residual_ratio 0.6513871355382702\n",
      "No. flops for Updated Matrix 1944\n",
      "No. Flops Original Matrix 2952\n",
      "computational_ratio: 0.6585365853658537\n",
      "Residual for Updated Matrix 18069770361.163063\n",
      "Original Residual: 165279783455.26086\n",
      "residual_ratio 0.1093283763047422\n",
      "No. flops for Updated Matrix 252\n",
      "No. Flops Original Matrix 2952\n",
      "computational_ratio: 0.08536585365853659\n"
     ]
    },
    {
     "name": "stderr",
     "output_type": "stream",
     "text": [
      " 23%|██▎       | 23/100 [00:28<01:34,  1.23s/it]"
     ]
    },
    {
     "name": "stdout",
     "output_type": "stream",
     "text": [
      "Residual for Updated Matrix 165279742801.50305\n",
      "Original Residual: 165279783455.26086\n",
      "residual_ratio 0.9999997540306688\n",
      "No. flops for Updated Matrix 2808\n",
      "No. Flops Original Matrix 2952\n",
      "computational_ratio: 0.9512195121951219\n",
      "Residual for Updated Matrix 25553857067.3561\n",
      "Original Residual: 165279783455.26086\n",
      "residual_ratio 0.1546096959539713\n",
      "No. flops for Updated Matrix 216\n",
      "No. Flops Original Matrix 2952\n",
      "computational_ratio: 0.07317073170731707\n",
      "Residual for Updated Matrix 69592634341.16496\n",
      "Original Residual: 165279783455.26086\n",
      "residual_ratio 0.42105956872821537\n",
      "No. flops for Updated Matrix 756\n",
      "No. Flops Original Matrix 2952\n",
      "computational_ratio: 0.25609756097560976\n"
     ]
    },
    {
     "name": "stderr",
     "output_type": "stream",
     "text": [
      " 24%|██▍       | 24/100 [00:30<01:39,  1.31s/it]"
     ]
    },
    {
     "name": "stdout",
     "output_type": "stream",
     "text": [
      "Residual for Updated Matrix 125405459812.129\n",
      "Original Residual: 165279783455.26086\n",
      "residual_ratio 0.7587465156987857\n",
      "No. flops for Updated Matrix 2016\n",
      "No. Flops Original Matrix 2952\n",
      "computational_ratio: 0.6829268292682927\n",
      "Residual for Updated Matrix 4.242640687119285\n",
      "Original Residual: 165279783455.26086\n",
      "residual_ratio 2.5669447275550875e-11\n",
      "No. flops for Updated Matrix 0\n",
      "No. Flops Original Matrix 2952\n",
      "computational_ratio: 0.0\n",
      "Residual for Updated Matrix 80471197505.37422\n",
      "Original Residual: 165279783455.26086\n",
      "residual_ratio 0.4868786479694097\n",
      "No. flops for Updated Matrix 864\n",
      "No. Flops Original Matrix 2952\n",
      "computational_ratio: 0.2926829268292683\n"
     ]
    },
    {
     "name": "stderr",
     "output_type": "stream",
     "text": [
      " 25%|██▌       | 25/100 [00:31<01:46,  1.42s/it]"
     ]
    },
    {
     "name": "stdout",
     "output_type": "stream",
     "text": [
      "Residual for Updated Matrix 155788476937.99518\n",
      "Original Residual: 165279783455.26086\n",
      "residual_ratio 0.9425743044984394\n",
      "No. flops for Updated Matrix 2844\n",
      "No. Flops Original Matrix 2952\n",
      "computational_ratio: 0.9634146341463414\n",
      "Residual for Updated Matrix 18069537992.40926\n",
      "Original Residual: 165279783455.26086\n",
      "residual_ratio 0.10932697039320877\n",
      "No. flops for Updated Matrix 108\n",
      "No. Flops Original Matrix 2952\n",
      "computational_ratio: 0.036585365853658534\n",
      "Residual for Updated Matrix 44261015152.01601\n",
      "Original Residual: 165279783455.26086\n",
      "residual_ratio 0.26779448899748165\n",
      "No. flops for Updated Matrix 720\n",
      "No. Flops Original Matrix 2952\n",
      "computational_ratio: 0.24390243902439024\n"
     ]
    },
    {
     "name": "stderr",
     "output_type": "stream",
     "text": [
      " 26%|██▌       | 26/100 [00:33<01:52,  1.52s/it]"
     ]
    },
    {
     "name": "stdout",
     "output_type": "stream",
     "text": [
      "Residual for Updated Matrix 106133495529.2636\n",
      "Original Residual: 165279783455.26086\n",
      "residual_ratio 0.6421444493118699\n",
      "No. flops for Updated Matrix 1404\n",
      "No. Flops Original Matrix 2952\n",
      "computational_ratio: 0.47560975609756095\n",
      "Residual for Updated Matrix 115464994569.92184\n",
      "Original Residual: 165279783455.26086\n",
      "residual_ratio 0.6986032541673601\n",
      "No. flops for Updated Matrix 1620\n",
      "No. Flops Original Matrix 2952\n",
      "computational_ratio: 0.5487804878048781\n",
      "Residual for Updated Matrix 40404923112.05831\n",
      "Original Residual: 165279783455.26086\n",
      "residual_ratio 0.24446379507143662\n",
      "No. flops for Updated Matrix 756\n",
      "No. Flops Original Matrix 2952\n",
      "computational_ratio: 0.25609756097560976\n"
     ]
    },
    {
     "name": "stderr",
     "output_type": "stream",
     "text": [
      " 27%|██▋       | 27/100 [00:34<01:43,  1.42s/it]"
     ]
    },
    {
     "name": "stdout",
     "output_type": "stream",
     "text": [
      "Residual for Updated Matrix 140740313005.2693\n",
      "Original Residual: 165279783455.26086\n",
      "residual_ratio 0.8515276948155363\n",
      "No. flops for Updated Matrix 1836\n",
      "No. Flops Original Matrix 2952\n",
      "computational_ratio: 0.6219512195121951\n",
      "Residual for Updated Matrix 1192.6099512971205\n",
      "Original Residual: 165279783455.26086\n",
      "residual_ratio 7.215703738019144e-09\n",
      "No. flops for Updated Matrix 36\n",
      "No. Flops Original Matrix 2952\n",
      "computational_ratio: 0.012195121951219513\n",
      "Residual for Updated Matrix 157179440314.5409\n",
      "Original Residual: 165279783455.26086\n",
      "residual_ratio 0.9509901152374596\n",
      "No. flops for Updated Matrix 2448\n",
      "No. Flops Original Matrix 2952\n",
      "computational_ratio: 0.8292682926829268\n"
     ]
    },
    {
     "name": "stderr",
     "output_type": "stream",
     "text": [
      " 28%|██▊       | 28/100 [00:36<01:48,  1.50s/it]"
     ]
    },
    {
     "name": "stdout",
     "output_type": "stream",
     "text": [
      "Residual for Updated Matrix 157352548274.60428\n",
      "Original Residual: 165279783455.26086\n",
      "residual_ratio 0.9520374784203273\n",
      "No. flops for Updated Matrix 2772\n",
      "No. Flops Original Matrix 2952\n",
      "computational_ratio: 0.9390243902439024\n",
      "Residual for Updated Matrix 98694605326.76863\n",
      "Original Residual: 165279783455.26086\n",
      "residual_ratio 0.5971365841817188\n",
      "No. flops for Updated Matrix 1044\n",
      "No. Flops Original Matrix 2952\n",
      "computational_ratio: 0.35365853658536583\n",
      "Residual for Updated Matrix 44261280799.530014\n",
      "Original Residual: 165279783455.26086\n",
      "residual_ratio 0.2677960962570536\n",
      "No. flops for Updated Matrix 1224\n",
      "No. Flops Original Matrix 2952\n",
      "computational_ratio: 0.4146341463414634\n"
     ]
    },
    {
     "name": "stderr",
     "output_type": "stream",
     "text": [
      " 29%|██▉       | 29/100 [00:37<01:36,  1.36s/it]"
     ]
    },
    {
     "name": "stdout",
     "output_type": "stream",
     "text": [
      "Residual for Updated Matrix 145118318891.44092\n",
      "Original Residual: 165279783455.26086\n",
      "residual_ratio 0.8780161484826885\n",
      "No. flops for Updated Matrix 1872\n",
      "No. Flops Original Matrix 2952\n",
      "computational_ratio: 0.6341463414634146\n",
      "Residual for Updated Matrix 165279783455.26086\n",
      "Original Residual: 165279783455.26086\n",
      "residual_ratio 1.0\n",
      "No. flops for Updated Matrix 2952\n",
      "No. Flops Original Matrix 2952\n",
      "computational_ratio: 1.0\n",
      "Residual for Updated Matrix 48932397187.32011\n",
      "Original Residual: 165279783455.26086\n",
      "residual_ratio 0.29605797009387713\n",
      "No. flops for Updated Matrix 684\n",
      "No. Flops Original Matrix 2952\n",
      "computational_ratio: 0.23170731707317074\n"
     ]
    },
    {
     "name": "stderr",
     "output_type": "stream",
     "text": [
      " 30%|███       | 30/100 [00:38<01:31,  1.31s/it]"
     ]
    },
    {
     "name": "stdout",
     "output_type": "stream",
     "text": [
      "Residual for Updated Matrix 64731201322.15306\n",
      "Original Residual: 165279783455.26086\n",
      "residual_ratio 0.39164621328097865\n",
      "No. flops for Updated Matrix 792\n",
      "No. Flops Original Matrix 2952\n",
      "computational_ratio: 0.2682926829268293\n",
      "Residual for Updated Matrix 18069305629.27557\n",
      "Original Residual: 165279783455.26086\n",
      "residual_ratio 0.10932556451567896\n",
      "No. flops for Updated Matrix 252\n",
      "No. Flops Original Matrix 2952\n",
      "computational_ratio: 0.08536585365853659\n",
      "Residual for Updated Matrix 41729823905.60446\n",
      "Original Residual: 165279783455.26086\n",
      "residual_ratio 0.2524799042763763\n",
      "No. flops for Updated Matrix 540\n",
      "No. Flops Original Matrix 2952\n",
      "computational_ratio: 0.18292682926829268\n"
     ]
    },
    {
     "name": "stderr",
     "output_type": "stream",
     "text": [
      " 31%|███       | 31/100 [00:40<01:34,  1.36s/it]"
     ]
    },
    {
     "name": "stdout",
     "output_type": "stream",
     "text": [
      "Residual for Updated Matrix 92431200954.6592\n",
      "Original Residual: 165279783455.26086\n",
      "residual_ratio 0.5592408159203521\n",
      "No. flops for Updated Matrix 1692\n",
      "No. Flops Original Matrix 2952\n",
      "computational_ratio: 0.573170731707317\n",
      "Residual for Updated Matrix 16495266237.502295\n",
      "Original Residual: 165279783455.26086\n",
      "residual_ratio 0.09980208040366506\n",
      "No. flops for Updated Matrix 252\n",
      "No. Flops Original Matrix 2952\n",
      "computational_ratio: 0.08536585365853659\n",
      "Residual for Updated Matrix 71520473834.0088\n",
      "Original Residual: 165279783455.26086\n",
      "residual_ratio 0.43272366613045865\n",
      "No. flops for Updated Matrix 936\n",
      "No. Flops Original Matrix 2952\n",
      "computational_ratio: 0.3170731707317073\n"
     ]
    },
    {
     "name": "stderr",
     "output_type": "stream",
     "text": [
      " 32%|███▏      | 32/100 [00:41<01:35,  1.41s/it]"
     ]
    },
    {
     "name": "stdout",
     "output_type": "stream",
     "text": [
      "Residual for Updated Matrix 104583916322.16641\n",
      "Original Residual: 165279783455.26086\n",
      "residual_ratio 0.6327689577986163\n",
      "No. flops for Updated Matrix 1368\n",
      "No. Flops Original Matrix 2952\n",
      "computational_ratio: 0.4634146341463415\n",
      "Residual for Updated Matrix 101145514673.51338\n",
      "Original Residual: 165279783455.26086\n",
      "residual_ratio 0.6119654355724164\n",
      "No. flops for Updated Matrix 1368\n",
      "No. Flops Original Matrix 2952\n",
      "computational_ratio: 0.4634146341463415\n",
      "Residual for Updated Matrix 18069305627.84121\n",
      "Original Residual: 165279783455.26086\n",
      "residual_ratio 0.10932556450700058\n",
      "No. flops for Updated Matrix 288\n",
      "No. Flops Original Matrix 2952\n",
      "computational_ratio: 0.0975609756097561\n"
     ]
    },
    {
     "name": "stderr",
     "output_type": "stream",
     "text": [
      " 33%|███▎      | 33/100 [00:43<01:41,  1.52s/it]"
     ]
    },
    {
     "name": "stdout",
     "output_type": "stream",
     "text": [
      "Residual for Updated Matrix 88213688498.65343\n",
      "Original Residual: 165279783455.26086\n",
      "residual_ratio 0.5337234031561504\n",
      "No. flops for Updated Matrix 1152\n",
      "No. Flops Original Matrix 2952\n",
      "computational_ratio: 0.3902439024390244\n",
      "Residual for Updated Matrix 137414606928.02963\n",
      "Original Residual: 165279783455.26086\n",
      "residual_ratio 0.8314060198731202\n",
      "No. flops for Updated Matrix 2196\n",
      "No. Flops Original Matrix 2952\n",
      "computational_ratio: 0.7439024390243902\n",
      "Residual for Updated Matrix 87594697834.50293\n",
      "Original Residual: 165279783455.26086\n",
      "residual_ratio 0.5299782950055335\n",
      "No. flops for Updated Matrix 1188\n",
      "No. Flops Original Matrix 2952\n",
      "computational_ratio: 0.4024390243902439\n"
     ]
    },
    {
     "name": "stderr",
     "output_type": "stream",
     "text": [
      " 34%|███▍      | 34/100 [00:44<01:29,  1.36s/it]"
     ]
    },
    {
     "name": "stdout",
     "output_type": "stream",
     "text": [
      "Residual for Updated Matrix 148821208501.53787\n",
      "Original Residual: 165279783455.26086\n",
      "residual_ratio 0.9004199145857538\n",
      "No. flops for Updated Matrix 2232\n",
      "No. Flops Original Matrix 2952\n",
      "computational_ratio: 0.7560975609756098\n",
      "Residual for Updated Matrix 72277234090.63399\n",
      "Original Residual: 165279783455.26086\n",
      "residual_ratio 0.43730232808659575\n",
      "No. flops for Updated Matrix 288\n",
      "No. Flops Original Matrix 2952\n",
      "computational_ratio: 0.0975609756097561\n",
      "Residual for Updated Matrix 144930905979.19388\n",
      "Original Residual: 165279783455.26086\n",
      "residual_ratio 0.8768822353789254\n",
      "No. flops for Updated Matrix 2052\n",
      "No. Flops Original Matrix 2952\n",
      "computational_ratio: 0.6951219512195121\n"
     ]
    },
    {
     "name": "stderr",
     "output_type": "stream",
     "text": [
      " 35%|███▌      | 35/100 [00:46<01:33,  1.44s/it]"
     ]
    },
    {
     "name": "stdout",
     "output_type": "stream",
     "text": [
      "Residual for Updated Matrix 94469162346.38673\n",
      "Original Residual: 165279783455.26086\n",
      "residual_ratio 0.5715711889951642\n",
      "No. flops for Updated Matrix 1548\n",
      "No. Flops Original Matrix 2952\n",
      "computational_ratio: 0.524390243902439\n",
      "Residual for Updated Matrix 149368813056.29855\n",
      "Original Residual: 165279783455.26086\n",
      "residual_ratio 0.9037331120217179\n",
      "No. flops for Updated Matrix 2448\n",
      "No. Flops Original Matrix 2952\n",
      "computational_ratio: 0.8292682926829268\n",
      "Residual for Updated Matrix 4.242640687119285\n",
      "Original Residual: 165279783455.26086\n",
      "residual_ratio 2.5669447275550875e-11\n",
      "No. flops for Updated Matrix 0\n",
      "No. Flops Original Matrix 2952\n",
      "computational_ratio: 0.0\n"
     ]
    },
    {
     "name": "stderr",
     "output_type": "stream",
     "text": [
      " 36%|███▌      | 36/100 [00:47<01:36,  1.51s/it]"
     ]
    },
    {
     "name": "stdout",
     "output_type": "stream",
     "text": [
      "Residual for Updated Matrix 18069305617.798817\n",
      "Original Residual: 165279783455.26086\n",
      "residual_ratio 0.10932556444624063\n",
      "No. flops for Updated Matrix 72\n",
      "No. Flops Original Matrix 2952\n",
      "computational_ratio: 0.024390243902439025\n",
      "Residual for Updated Matrix 60830462156.76276\n",
      "Original Residual: 165279783455.26086\n",
      "residual_ratio 0.3680453887648563\n",
      "No. flops for Updated Matrix 540\n",
      "No. Flops Original Matrix 2952\n",
      "computational_ratio: 0.18292682926829268\n",
      "Residual for Updated Matrix 90947225515.20348\n",
      "Original Residual: 165279783455.26086\n",
      "residual_ratio 0.5502622499491702\n",
      "No. flops for Updated Matrix 1584\n",
      "No. Flops Original Matrix 2952\n",
      "computational_ratio: 0.5365853658536586\n"
     ]
    },
    {
     "name": "stderr",
     "output_type": "stream",
     "text": [
      " 37%|███▋      | 37/100 [00:49<01:37,  1.54s/it]"
     ]
    },
    {
     "name": "stdout",
     "output_type": "stream",
     "text": [
      "Residual for Updated Matrix 104584044797.0852\n",
      "Original Residual: 165279783455.26086\n",
      "residual_ratio 0.6327697351164232\n",
      "No. flops for Updated Matrix 1332\n",
      "No. Flops Original Matrix 2952\n",
      "computational_ratio: 0.45121951219512196\n",
      "Residual for Updated Matrix 88521461125.6468\n",
      "Original Residual: 165279783455.26086\n",
      "residual_ratio 0.5355855342683725\n",
      "No. flops for Updated Matrix 1188\n",
      "No. Flops Original Matrix 2952\n",
      "computational_ratio: 0.4024390243902439\n",
      "Residual for Updated Matrix 51108289237.219444\n",
      "Original Residual: 165279783455.26086\n",
      "residual_ratio 0.3092228714775259\n",
      "No. flops for Updated Matrix 900\n",
      "No. Flops Original Matrix 2952\n",
      "computational_ratio: 0.3048780487804878\n"
     ]
    },
    {
     "name": "stderr",
     "output_type": "stream",
     "text": [
      " 38%|███▊      | 38/100 [00:50<01:27,  1.42s/it]"
     ]
    },
    {
     "name": "stdout",
     "output_type": "stream",
     "text": [
      "Residual for Updated Matrix 153501091693.66946\n",
      "Original Residual: 165279783455.26086\n",
      "residual_ratio 0.9287348306286973\n",
      "No. flops for Updated Matrix 2484\n",
      "No. Flops Original Matrix 2952\n",
      "computational_ratio: 0.8414634146341463\n",
      "Residual for Updated Matrix 85710594970.92772\n",
      "Original Residual: 165279783455.26086\n",
      "residual_ratio 0.5185788193758645\n",
      "No. flops for Updated Matrix 1008\n",
      "No. Flops Original Matrix 2952\n",
      "computational_ratio: 0.34146341463414637\n",
      "Residual for Updated Matrix 140740366719.0269\n",
      "Original Residual: 165279783455.26086\n",
      "residual_ratio 0.8515280198023947\n",
      "No. flops for Updated Matrix 2448\n",
      "No. Flops Original Matrix 2952\n",
      "computational_ratio: 0.8292682926829268\n"
     ]
    },
    {
     "name": "stderr",
     "output_type": "stream",
     "text": [
      " 39%|███▉      | 39/100 [00:51<01:20,  1.31s/it]"
     ]
    },
    {
     "name": "stdout",
     "output_type": "stream",
     "text": [
      "Residual for Updated Matrix 43642102893.072044\n",
      "Original Residual: 165279783455.26086\n",
      "residual_ratio 0.26404985522555097\n",
      "No. flops for Updated Matrix 432\n",
      "No. Flops Original Matrix 2952\n",
      "computational_ratio: 0.14634146341463414\n",
      "Residual for Updated Matrix 82475435202.67854\n",
      "Original Residual: 165279783455.26086\n",
      "residual_ratio 0.49900498099940693\n",
      "No. flops for Updated Matrix 1548\n",
      "No. Flops Original Matrix 2952\n",
      "computational_ratio: 0.524390243902439\n",
      "Residual for Updated Matrix 115465416411.45345\n",
      "Original Residual: 165279783455.26086\n",
      "residual_ratio 0.6986058064548981\n",
      "No. flops for Updated Matrix 1872\n",
      "No. Flops Original Matrix 2952\n",
      "computational_ratio: 0.6341463414634146\n"
     ]
    },
    {
     "name": "stderr",
     "output_type": "stream",
     "text": [
      " 40%|████      | 40/100 [00:53<01:20,  1.35s/it]"
     ]
    },
    {
     "name": "stdout",
     "output_type": "stream",
     "text": [
      "Residual for Updated Matrix 82144256550.09819\n",
      "Original Residual: 165279783455.26086\n",
      "residual_ratio 0.497001235316439\n",
      "No. flops for Updated Matrix 1008\n",
      "No. Flops Original Matrix 2952\n",
      "computational_ratio: 0.34146341463414637\n",
      "Residual for Updated Matrix 18069584464.390873\n",
      "Original Residual: 165279783455.26086\n",
      "residual_ratio 0.10932725156481149\n",
      "No. flops for Updated Matrix 144\n",
      "No. Flops Original Matrix 2952\n",
      "computational_ratio: 0.04878048780487805\n",
      "Residual for Updated Matrix 72277617511.77739\n",
      "Original Residual: 165279783455.26086\n",
      "residual_ratio 0.43730464791746304\n",
      "No. flops for Updated Matrix 684\n",
      "No. Flops Original Matrix 2952\n",
      "computational_ratio: 0.23170731707317074\n"
     ]
    },
    {
     "name": "stderr",
     "output_type": "stream",
     "text": [
      " 41%|████      | 41/100 [00:54<01:24,  1.43s/it]"
     ]
    },
    {
     "name": "stdout",
     "output_type": "stream",
     "text": [
      "Residual for Updated Matrix 78762373129.90715\n",
      "Original Residual: 165279783455.26086\n",
      "residual_ratio 0.476539667969901\n",
      "No. flops for Updated Matrix 936\n",
      "No. Flops Original Matrix 2952\n",
      "computational_ratio: 0.3170731707317073\n",
      "Residual for Updated Matrix 65979792206.129326\n",
      "Original Residual: 165279783455.26086\n",
      "residual_ratio 0.39920062107286836\n",
      "No. flops for Updated Matrix 288\n",
      "No. Flops Original Matrix 2952\n",
      "computational_ratio: 0.0975609756097561\n",
      "Residual for Updated Matrix 139575508111.5562\n",
      "Original Residual: 165279783455.26086\n",
      "residual_ratio 0.8444802213171917\n",
      "No. flops for Updated Matrix 2340\n",
      "No. Flops Original Matrix 2952\n",
      "computational_ratio: 0.7926829268292683\n"
     ]
    },
    {
     "name": "stderr",
     "output_type": "stream",
     "text": [
      " 42%|████▏     | 42/100 [00:56<01:27,  1.50s/it]"
     ]
    },
    {
     "name": "stdout",
     "output_type": "stream",
     "text": [
      "Residual for Updated Matrix 127769876897.15077\n",
      "Original Residual: 165279783455.26086\n",
      "residual_ratio 0.7730520589152179\n",
      "No. flops for Updated Matrix 2088\n",
      "No. Flops Original Matrix 2952\n",
      "computational_ratio: 0.7073170731707317\n",
      "Residual for Updated Matrix 77015828025.4231\n",
      "Original Residual: 165279783455.26086\n",
      "residual_ratio 0.46597246448032953\n",
      "No. flops for Updated Matrix 396\n",
      "No. Flops Original Matrix 2952\n",
      "computational_ratio: 0.13414634146341464\n",
      "Residual for Updated Matrix 161280436022.47195\n",
      "Original Residual: 165279783455.26086\n",
      "residual_ratio 0.9758025612740987\n",
      "No. flops for Updated Matrix 2772\n",
      "No. Flops Original Matrix 2952\n",
      "computational_ratio: 0.9390243902439024\n"
     ]
    },
    {
     "name": "stderr",
     "output_type": "stream",
     "text": [
      " 43%|████▎     | 43/100 [00:57<01:27,  1.54s/it]"
     ]
    },
    {
     "name": "stdout",
     "output_type": "stream",
     "text": [
      "Residual for Updated Matrix 109415744307.70758\n",
      "Original Residual: 165279783455.26086\n",
      "residual_ratio 0.6620031925279296\n",
      "No. flops for Updated Matrix 1872\n",
      "No. Flops Original Matrix 2952\n",
      "computational_ratio: 0.6341463414634146\n",
      "Residual for Updated Matrix 157352468216.7863\n",
      "Original Residual: 165279783455.26086\n",
      "residual_ratio 0.9520369940427686\n",
      "No. flops for Updated Matrix 2448\n",
      "No. Flops Original Matrix 2952\n",
      "computational_ratio: 0.8292682926829268\n",
      "Residual for Updated Matrix 133803150858.4188\n",
      "Original Residual: 165279783455.26086\n",
      "residual_ratio 0.8095554583942058\n",
      "No. flops for Updated Matrix 2160\n",
      "No. Flops Original Matrix 2952\n",
      "computational_ratio: 0.7317073170731707\n"
     ]
    },
    {
     "name": "stderr",
     "output_type": "stream",
     "text": [
      " 44%|████▍     | 44/100 [00:58<01:11,  1.28s/it]"
     ]
    },
    {
     "name": "stdout",
     "output_type": "stream",
     "text": [
      "Residual for Updated Matrix 131960176271.86092\n",
      "Original Residual: 165279783455.26086\n",
      "residual_ratio 0.7984048231015552\n",
      "No. flops for Updated Matrix 2124\n",
      "No. Flops Original Matrix 2952\n",
      "computational_ratio: 0.7195121951219512\n",
      "Residual for Updated Matrix 104323235614.00407\n",
      "Original Residual: 165279783455.26086\n",
      "residual_ratio 0.6311917491242542\n",
      "No. flops for Updated Matrix 864\n",
      "No. Flops Original Matrix 2952\n",
      "computational_ratio: 0.2926829268292683\n",
      "Residual for Updated Matrix 121213092777.66881\n",
      "Original Residual: 165279783455.26086\n",
      "residual_ratio 0.7333812414540078\n",
      "No. flops for Updated Matrix 1836\n",
      "No. Flops Original Matrix 2952\n",
      "computational_ratio: 0.6219512195121951\n"
     ]
    },
    {
     "name": "stderr",
     "output_type": "stream",
     "text": [
      " 45%|████▌     | 45/100 [00:59<01:09,  1.27s/it]"
     ]
    },
    {
     "name": "stdout",
     "output_type": "stream",
     "text": [
      "Residual for Updated Matrix 93600849275.14012\n",
      "Original Residual: 165279783455.26086\n",
      "residual_ratio 0.5663175938300807\n",
      "No. flops for Updated Matrix 1044\n",
      "No. Flops Original Matrix 2952\n",
      "computational_ratio: 0.35365853658536583\n",
      "Residual for Updated Matrix 165279783455.26086\n",
      "Original Residual: 165279783455.26086\n",
      "residual_ratio 1.0\n",
      "No. flops for Updated Matrix 2952\n",
      "No. Flops Original Matrix 2952\n",
      "computational_ratio: 1.0\n",
      "Residual for Updated Matrix 115464827287.62064\n",
      "Original Residual: 165279783455.26086\n",
      "residual_ratio 0.6986022420514333\n",
      "No. flops for Updated Matrix 1368\n",
      "No. Flops Original Matrix 2952\n",
      "computational_ratio: 0.4634146341463415\n"
     ]
    },
    {
     "name": "stderr",
     "output_type": "stream",
     "text": [
      " 46%|████▌     | 46/100 [01:00<01:05,  1.21s/it]"
     ]
    },
    {
     "name": "stdout",
     "output_type": "stream",
     "text": [
      "Residual for Updated Matrix 122774263024.86545\n",
      "Original Residual: 165279783455.26086\n",
      "residual_ratio 0.7428268627790093\n",
      "No. flops for Updated Matrix 1656\n",
      "No. Flops Original Matrix 2952\n",
      "computational_ratio: 0.5609756097560976\n",
      "Residual for Updated Matrix 100876423468.05447\n",
      "Original Residual: 165279783455.26086\n",
      "residual_ratio 0.6103373404731042\n",
      "No. flops for Updated Matrix 1872\n",
      "No. Flops Original Matrix 2952\n",
      "computational_ratio: 0.6341463414634146\n",
      "Residual for Updated Matrix 157697991735.7404\n",
      "Original Residual: 165279783455.26086\n",
      "residual_ratio 0.9541275311413221\n",
      "No. flops for Updated Matrix 2844\n",
      "No. Flops Original Matrix 2952\n",
      "computational_ratio: 0.9634146341463414\n"
     ]
    },
    {
     "name": "stderr",
     "output_type": "stream",
     "text": [
      " 47%|████▋     | 47/100 [01:01<00:56,  1.07s/it]"
     ]
    },
    {
     "name": "stdout",
     "output_type": "stream",
     "text": [
      "Residual for Updated Matrix 129462253475.91972\n",
      "Original Residual: 165279783455.26086\n",
      "residual_ratio 0.783291524041496\n",
      "No. flops for Updated Matrix 1764\n",
      "No. Flops Original Matrix 2952\n",
      "computational_ratio: 0.5975609756097561\n",
      "Residual for Updated Matrix 165279661506.2943\n",
      "Original Residual: 165279783455.26086\n",
      "residual_ratio 0.9999992621664671\n",
      "No. flops for Updated Matrix 2808\n",
      "No. Flops Original Matrix 2952\n",
      "computational_ratio: 0.9512195121951219\n",
      "Residual for Updated Matrix 79107435058.93661\n",
      "Original Residual: 165279783455.26086\n",
      "residual_ratio 0.47862741228935596\n",
      "No. flops for Updated Matrix 900\n",
      "No. Flops Original Matrix 2952\n",
      "computational_ratio: 0.3048780487804878\n"
     ]
    },
    {
     "name": "stderr",
     "output_type": "stream",
     "text": [
      " 48%|████▊     | 48/100 [01:02<00:56,  1.09s/it]"
     ]
    },
    {
     "name": "stdout",
     "output_type": "stream",
     "text": [
      "Residual for Updated Matrix 81812650834.69603\n",
      "Original Residual: 165279783455.26086\n",
      "residual_ratio 0.49499490575531685\n",
      "No. flops for Updated Matrix 756\n",
      "No. Flops Original Matrix 2952\n",
      "computational_ratio: 0.25609756097560976\n",
      "Residual for Updated Matrix 61719335472.16902\n",
      "Original Residual: 165279783455.26086\n",
      "residual_ratio 0.3734233805362872\n",
      "No. flops for Updated Matrix 1512\n",
      "No. Flops Original Matrix 2952\n",
      "computational_ratio: 0.5121951219512195\n",
      "Residual for Updated Matrix 141319127101.14316\n",
      "Original Residual: 165279783455.26086\n",
      "residual_ratio 0.8550297207970172\n",
      "No. flops for Updated Matrix 2232\n",
      "No. Flops Original Matrix 2952\n",
      "computational_ratio: 0.7560975609756098\n"
     ]
    },
    {
     "name": "stderr",
     "output_type": "stream",
     "text": [
      " 49%|████▉     | 49/100 [01:04<00:58,  1.14s/it]"
     ]
    },
    {
     "name": "stdout",
     "output_type": "stream",
     "text": [
      "Residual for Updated Matrix 155788455374.38004\n",
      "Original Residual: 165279783455.26086\n",
      "residual_ratio 0.9425741740310907\n",
      "No. flops for Updated Matrix 2772\n",
      "No. Flops Original Matrix 2952\n",
      "computational_ratio: 0.9390243902439024\n",
      "Residual for Updated Matrix 65979779479.279526\n",
      "Original Residual: 165279783455.26086\n",
      "residual_ratio 0.3992005440710141\n",
      "No. flops for Updated Matrix 396\n",
      "No. Flops Original Matrix 2952\n",
      "computational_ratio: 0.13414634146341464\n",
      "Residual for Updated Matrix 66799841880.20674\n",
      "Original Residual: 165279783455.26086\n",
      "residual_ratio 0.4041622059499407\n",
      "No. flops for Updated Matrix 1008\n",
      "No. Flops Original Matrix 2952\n",
      "computational_ratio: 0.34146341463414637\n"
     ]
    },
    {
     "name": "stderr",
     "output_type": "stream",
     "text": [
      " 50%|█████     | 50/100 [01:05<01:01,  1.23s/it]"
     ]
    },
    {
     "name": "stdout",
     "output_type": "stream",
     "text": [
      "Residual for Updated Matrix 112359782537.21968\n",
      "Original Residual: 165279783455.26086\n",
      "residual_ratio 0.6798156446498131\n",
      "No. flops for Updated Matrix 1404\n",
      "No. Flops Original Matrix 2952\n",
      "computational_ratio: 0.47560975609756095\n",
      "Residual for Updated Matrix 146052839895.8365\n",
      "Original Residual: 165279783455.26086\n",
      "residual_ratio 0.8836703246006559\n",
      "No. flops for Updated Matrix 1836\n",
      "No. Flops Original Matrix 2952\n",
      "computational_ratio: 0.6219512195121951\n",
      "Residual for Updated Matrix 115700342656.8919\n",
      "Original Residual: 165279783455.26086\n",
      "residual_ratio 0.7000271916995252\n",
      "No. flops for Updated Matrix 2016\n",
      "No. Flops Original Matrix 2952\n",
      "computational_ratio: 0.6829268292682927\n"
     ]
    },
    {
     "name": "stderr",
     "output_type": "stream",
     "text": [
      " 51%|█████     | 51/100 [01:06<00:54,  1.12s/it]"
     ]
    },
    {
     "name": "stdout",
     "output_type": "stream",
     "text": [
      "Residual for Updated Matrix 132166033941.50449\n",
      "Original Residual: 165279783455.26086\n",
      "residual_ratio 0.7996503333832123\n",
      "No. flops for Updated Matrix 1584\n",
      "No. Flops Original Matrix 2952\n",
      "computational_ratio: 0.5365853658536586\n",
      "Residual for Updated Matrix 32154817468.7019\n",
      "Original Residual: 165279783455.26086\n",
      "residual_ratio 0.19454779523840435\n",
      "No. flops for Updated Matrix 504\n",
      "No. Flops Original Matrix 2952\n",
      "computational_ratio: 0.17073170731707318\n",
      "Residual for Updated Matrix 44260578770.59838\n",
      "Original Residual: 165279783455.26086\n",
      "residual_ratio 0.2677918487385915\n",
      "No. flops for Updated Matrix 360\n",
      "No. Flops Original Matrix 2952\n",
      "computational_ratio: 0.12195121951219512\n"
     ]
    },
    {
     "name": "stderr",
     "output_type": "stream",
     "text": [
      " 52%|█████▏    | 52/100 [01:07<00:59,  1.25s/it]"
     ]
    },
    {
     "name": "stdout",
     "output_type": "stream",
     "text": [
      "Residual for Updated Matrix 114280690411.97421\n",
      "Original Residual: 165279783455.26086\n",
      "residual_ratio 0.6914378033591055\n",
      "No. flops for Updated Matrix 1296\n",
      "No. Flops Original Matrix 2952\n",
      "computational_ratio: 0.43902439024390244\n",
      "Residual for Updated Matrix 136420881381.19699\n",
      "Original Residual: 165279783455.26086\n",
      "residual_ratio 0.8253936357444732\n",
      "No. flops for Updated Matrix 2304\n",
      "No. Flops Original Matrix 2952\n",
      "computational_ratio: 0.7804878048780488\n",
      "Residual for Updated Matrix 104844189173.47273\n",
      "Original Residual: 165279783455.26086\n",
      "residual_ratio 0.6343436987975769\n",
      "No. flops for Updated Matrix 1692\n",
      "No. Flops Original Matrix 2952\n",
      "computational_ratio: 0.573170731707317\n"
     ]
    },
    {
     "name": "stderr",
     "output_type": "stream",
     "text": [
      " 53%|█████▎    | 53/100 [01:08<00:54,  1.15s/it]"
     ]
    },
    {
     "name": "stdout",
     "output_type": "stream",
     "text": [
      "Residual for Updated Matrix 136819312584.38788\n",
      "Original Residual: 165279783455.26086\n",
      "residual_ratio 0.8278042826781844\n",
      "No. flops for Updated Matrix 2268\n",
      "No. Flops Original Matrix 2952\n",
      "computational_ratio: 0.7682926829268293\n",
      "Residual for Updated Matrix 155788455373.27087\n",
      "Original Residual: 165279783455.26086\n",
      "residual_ratio 0.9425741740243798\n",
      "No. flops for Updated Matrix 2808\n",
      "No. Flops Original Matrix 2952\n",
      "computational_ratio: 0.9512195121951219\n",
      "Residual for Updated Matrix 36138750661.135315\n",
      "Original Residual: 165279783455.26086\n",
      "residual_ratio 0.21865197246532947\n",
      "No. flops for Updated Matrix 360\n",
      "No. Flops Original Matrix 2952\n",
      "computational_ratio: 0.12195121951219512\n"
     ]
    },
    {
     "name": "stderr",
     "output_type": "stream",
     "text": [
      " 54%|█████▍    | 54/100 [01:10<00:56,  1.23s/it]"
     ]
    },
    {
     "name": "stdout",
     "output_type": "stream",
     "text": [
      "Residual for Updated Matrix 161280430812.24783\n",
      "Original Residual: 165279783455.26086\n",
      "residual_ratio 0.9758025297504361\n",
      "No. flops for Updated Matrix 2664\n",
      "No. Flops Original Matrix 2952\n",
      "computational_ratio: 0.9024390243902439\n",
      "Residual for Updated Matrix 78416510337.91602\n",
      "Original Residual: 165279783455.26086\n",
      "residual_ratio 0.47444707815183196\n",
      "No. flops for Updated Matrix 1116\n",
      "No. Flops Original Matrix 2952\n",
      "computational_ratio: 0.3780487804878049\n",
      "Residual for Updated Matrix 111386906761.25401\n",
      "Original Residual: 165279783455.26086\n",
      "residual_ratio 0.6739294088644848\n",
      "No. flops for Updated Matrix 1404\n",
      "No. Flops Original Matrix 2952\n",
      "computational_ratio: 0.47560975609756095\n"
     ]
    },
    {
     "name": "stderr",
     "output_type": "stream",
     "text": [
      " 55%|█████▌    | 55/100 [01:11<00:53,  1.18s/it]"
     ]
    },
    {
     "name": "stdout",
     "output_type": "stream",
     "text": [
      "Residual for Updated Matrix 92430764845.6231\n",
      "Original Residual: 165279783455.26086\n",
      "residual_ratio 0.5592381773094646\n",
      "No. flops for Updated Matrix 1044\n",
      "No. Flops Original Matrix 2952\n",
      "computational_ratio: 0.35365853658536583\n",
      "Residual for Updated Matrix 104843988923.89946\n",
      "Original Residual: 165279783455.26086\n",
      "residual_ratio 0.6343424872182228\n",
      "No. flops for Updated Matrix 1548\n",
      "No. Flops Original Matrix 2952\n",
      "computational_ratio: 0.524390243902439\n",
      "Residual for Updated Matrix 57140617091.388794\n",
      "Original Residual: 165279783455.26086\n",
      "residual_ratio 0.34572054668050817\n",
      "No. flops for Updated Matrix 612\n",
      "No. Flops Original Matrix 2952\n",
      "computational_ratio: 0.2073170731707317\n"
     ]
    },
    {
     "name": "stderr",
     "output_type": "stream",
     "text": [
      " 56%|█████▌    | 56/100 [01:12<00:54,  1.23s/it]"
     ]
    },
    {
     "name": "stdout",
     "output_type": "stream",
     "text": [
      "Residual for Updated Matrix 36138890081.83068\n",
      "Original Residual: 165279783455.26086\n",
      "residual_ratio 0.21865281600887998\n",
      "No. flops for Updated Matrix 108\n",
      "No. Flops Original Matrix 2952\n",
      "computational_ratio: 0.036585365853658534\n",
      "Residual for Updated Matrix 52680992565.34464\n",
      "Original Residual: 165279783455.26086\n",
      "residual_ratio 0.3187382719411943\n",
      "No. flops for Updated Matrix 792\n",
      "No. Flops Original Matrix 2952\n",
      "computational_ratio: 0.2682926829268293\n",
      "Residual for Updated Matrix 84108446402.67665\n",
      "Original Residual: 165279783455.26086\n",
      "residual_ratio 0.5088852649994168\n",
      "No. flops for Updated Matrix 1080\n",
      "No. Flops Original Matrix 2952\n",
      "computational_ratio: 0.36585365853658536\n"
     ]
    },
    {
     "name": "stderr",
     "output_type": "stream",
     "text": [
      " 57%|█████▋    | 57/100 [01:14<00:59,  1.39s/it]"
     ]
    },
    {
     "name": "stdout",
     "output_type": "stream",
     "text": [
      "Residual for Updated Matrix 40404299596.93482\n",
      "Original Residual: 165279783455.26086\n",
      "residual_ratio 0.24446002258873817\n",
      "No. flops for Updated Matrix 252\n",
      "No. Flops Original Matrix 2952\n",
      "computational_ratio: 0.08536585365853659\n",
      "Residual for Updated Matrix 114756061713.41884\n",
      "Original Residual: 165279783455.26086\n",
      "residual_ratio 0.6943139645659195\n",
      "No. flops for Updated Matrix 1872\n",
      "No. Flops Original Matrix 2952\n",
      "computational_ratio: 0.6341463414634146\n",
      "Residual for Updated Matrix 165279722482.25247\n",
      "Original Residual: 165279783455.26086\n",
      "residual_ratio 0.9999996310921571\n",
      "No. flops for Updated Matrix 2844\n",
      "No. Flops Original Matrix 2952\n",
      "computational_ratio: 0.9634146341463414\n"
     ]
    },
    {
     "name": "stderr",
     "output_type": "stream",
     "text": [
      " 58%|█████▊    | 58/100 [01:16<01:01,  1.48s/it]"
     ]
    },
    {
     "name": "stdout",
     "output_type": "stream",
     "text": [
      "Residual for Updated Matrix 64730954831.23366\n",
      "Original Residual: 165279783455.26086\n",
      "residual_ratio 0.3916447219254465\n",
      "No. flops for Updated Matrix 576\n",
      "No. Flops Original Matrix 2952\n",
      "computational_ratio: 0.1951219512195122\n",
      "Residual for Updated Matrix 101682048016.22885\n",
      "Original Residual: 165279783455.26086\n",
      "residual_ratio 0.6152116483366091\n",
      "No. flops for Updated Matrix 1296\n",
      "No. Flops Original Matrix 2952\n",
      "computational_ratio: 0.43902439024390244\n",
      "Residual for Updated Matrix 161280503712.51224\n",
      "Original Residual: 165279783455.26086\n",
      "residual_ratio 0.9758029708223137\n",
      "No. flops for Updated Matrix 2808\n",
      "No. Flops Original Matrix 2952\n",
      "computational_ratio: 0.9512195121951219\n"
     ]
    },
    {
     "name": "stderr",
     "output_type": "stream",
     "text": [
      " 59%|█████▉    | 59/100 [01:17<01:03,  1.55s/it]"
     ]
    },
    {
     "name": "stdout",
     "output_type": "stream",
     "text": [
      "Residual for Updated Matrix 128195165526.6691\n",
      "Original Residual: 165279783455.26086\n",
      "residual_ratio 0.7756252025909139\n",
      "No. flops for Updated Matrix 2412\n",
      "No. Flops Original Matrix 2952\n",
      "computational_ratio: 0.8170731707317073\n",
      "Residual for Updated Matrix 58551600729.16534\n",
      "Original Residual: 165279783455.26086\n",
      "residual_ratio 0.3542574869419194\n",
      "No. flops for Updated Matrix 756\n",
      "No. Flops Original Matrix 2952\n",
      "computational_ratio: 0.25609756097560976\n",
      "Residual for Updated Matrix 113083813168.08748\n",
      "Original Residual: 165279783455.26086\n",
      "residual_ratio 0.6841962810212529\n",
      "No. flops for Updated Matrix 1188\n",
      "No. Flops Original Matrix 2952\n",
      "computational_ratio: 0.4024390243902439\n"
     ]
    },
    {
     "name": "stderr",
     "output_type": "stream",
     "text": [
      " 60%|██████    | 60/100 [01:19<00:59,  1.48s/it]"
     ]
    },
    {
     "name": "stdout",
     "output_type": "stream",
     "text": [
      "Residual for Updated Matrix 138400954974.7917\n",
      "Original Residual: 165279783455.26086\n",
      "residual_ratio 0.8373737675682221\n",
      "No. flops for Updated Matrix 2052\n",
      "No. Flops Original Matrix 2952\n",
      "computational_ratio: 0.6951219512195121\n",
      "Residual for Updated Matrix 101949367034.5167\n",
      "Original Residual: 165279783455.26086\n",
      "residual_ratio 0.6168290210890377\n",
      "No. flops for Updated Matrix 1080\n",
      "No. Flops Original Matrix 2952\n",
      "computational_ratio: 0.36585365853658536\n",
      "Residual for Updated Matrix 151538973211.3738\n",
      "Original Residual: 165279783455.26086\n",
      "residual_ratio 0.9168633334541697\n",
      "No. flops for Updated Matrix 2844\n",
      "No. Flops Original Matrix 2952\n",
      "computational_ratio: 0.9634146341463414\n"
     ]
    },
    {
     "name": "stderr",
     "output_type": "stream",
     "text": [
      " 61%|██████    | 61/100 [01:20<00:53,  1.36s/it]"
     ]
    },
    {
     "name": "stdout",
     "output_type": "stream",
     "text": [
      "Residual for Updated Matrix 97864047830.9938\n",
      "Original Residual: 165279783455.26086\n",
      "residual_ratio 0.5921114233398325\n",
      "No. flops for Updated Matrix 972\n",
      "No. Flops Original Matrix 2952\n",
      "computational_ratio: 0.32926829268292684\n",
      "Residual for Updated Matrix 131132508576.12143\n",
      "Original Residual: 165279783455.26086\n",
      "residual_ratio 0.7933971465519093\n",
      "No. flops for Updated Matrix 1404\n",
      "No. Flops Original Matrix 2952\n",
      "computational_ratio: 0.47560975609756095\n",
      "Residual for Updated Matrix 157179451010.8278\n",
      "Original Residual: 165279783455.26086\n",
      "residual_ratio 0.9509901799537042\n",
      "No. flops for Updated Matrix 2592\n",
      "No. Flops Original Matrix 2952\n",
      "computational_ratio: 0.8780487804878049\n"
     ]
    },
    {
     "name": "stderr",
     "output_type": "stream",
     "text": [
      " 62%|██████▏   | 62/100 [01:21<00:49,  1.31s/it]"
     ]
    },
    {
     "name": "stdout",
     "output_type": "stream",
     "text": [
      "Residual for Updated Matrix 41072378741.80651\n",
      "Original Residual: 165279783455.26086\n",
      "residual_ratio 0.24850213306895022\n",
      "No. flops for Updated Matrix 576\n",
      "No. Flops Original Matrix 2952\n",
      "computational_ratio: 0.1951219512195122\n",
      "Residual for Updated Matrix 69200629170.11247\n",
      "Original Residual: 165279783455.26086\n",
      "residual_ratio 0.418687801517142\n",
      "No. flops for Updated Matrix 684\n",
      "No. Flops Original Matrix 2952\n",
      "computational_ratio: 0.23170731707317074\n",
      "Residual for Updated Matrix 123437561985.53305\n",
      "Original Residual: 165279783455.26086\n",
      "residual_ratio 0.7468400514872772\n",
      "No. flops for Updated Matrix 2196\n",
      "No. Flops Original Matrix 2952\n",
      "computational_ratio: 0.7439024390243902\n"
     ]
    },
    {
     "name": "stderr",
     "output_type": "stream",
     "text": [
      " 63%|██████▎   | 63/100 [01:22<00:49,  1.35s/it]"
     ]
    },
    {
     "name": "stdout",
     "output_type": "stream",
     "text": [
      "Residual for Updated Matrix 127556700836.57861\n",
      "Original Residual: 165279783455.26086\n",
      "residual_ratio 0.7717622698308205\n",
      "No. flops for Updated Matrix 1620\n",
      "No. Flops Original Matrix 2952\n",
      "computational_ratio: 0.5487804878048781\n",
      "Residual for Updated Matrix 85392947703.3552\n",
      "Original Residual: 165279783455.26086\n",
      "residual_ratio 0.5166569432641469\n",
      "No. flops for Updated Matrix 1296\n",
      "No. Flops Original Matrix 2952\n",
      "computational_ratio: 0.43902439024390244\n",
      "Residual for Updated Matrix 59929331164.63023\n",
      "Original Residual: 165279783455.26086\n",
      "residual_ratio 0.3625932337989319\n",
      "No. flops for Updated Matrix 360\n",
      "No. Flops Original Matrix 2952\n",
      "computational_ratio: 0.12195121951219512\n"
     ]
    },
    {
     "name": "stderr",
     "output_type": "stream",
     "text": [
      " 64%|██████▍   | 64/100 [01:24<00:50,  1.41s/it]"
     ]
    },
    {
     "name": "stdout",
     "output_type": "stream",
     "text": [
      "Residual for Updated Matrix 48932139755.21513\n",
      "Original Residual: 165279783455.26086\n",
      "residual_ratio 0.2960564125403785\n",
      "No. flops for Updated Matrix 396\n",
      "No. Flops Original Matrix 2952\n",
      "computational_ratio: 0.13414634146341464\n",
      "Residual for Updated Matrix 110406295204.5318\n",
      "Original Residual: 165279783455.26086\n",
      "residual_ratio 0.6679963689232288\n",
      "No. flops for Updated Matrix 2232\n",
      "No. Flops Original Matrix 2952\n",
      "computational_ratio: 0.7560975609756098\n",
      "Residual for Updated Matrix 133599595775.85118\n",
      "Original Residual: 165279783455.26086\n",
      "residual_ratio 0.8083238795627712\n",
      "No. flops for Updated Matrix 2412\n",
      "No. Flops Original Matrix 2952\n",
      "computational_ratio: 0.8170731707317073\n"
     ]
    },
    {
     "name": "stderr",
     "output_type": "stream",
     "text": [
      " 65%|██████▌   | 65/100 [01:25<00:50,  1.44s/it]"
     ]
    },
    {
     "name": "stdout",
     "output_type": "stream",
     "text": [
      "Residual for Updated Matrix 77368158876.20268\n",
      "Original Residual: 165279783455.26086\n",
      "residual_ratio 0.46810418829684186\n",
      "No. flops for Updated Matrix 684\n",
      "No. Flops Original Matrix 2952\n",
      "computational_ratio: 0.23170731707317074\n",
      "Residual for Updated Matrix 88828063379.41995\n",
      "Original Residual: 165279783455.26086\n",
      "residual_ratio 0.5374405842167901\n",
      "No. flops for Updated Matrix 648\n",
      "No. Flops Original Matrix 2952\n",
      "computational_ratio: 0.21951219512195122\n",
      "Residual for Updated Matrix 85073008862.15573\n",
      "Original Residual: 165279783455.26086\n",
      "residual_ratio 0.5147212023373924\n",
      "No. flops for Updated Matrix 756\n",
      "No. Flops Original Matrix 2952\n",
      "computational_ratio: 0.25609756097560976\n"
     ]
    },
    {
     "name": "stderr",
     "output_type": "stream",
     "text": [
      " 66%|██████▌   | 66/100 [01:27<00:49,  1.46s/it]"
     ]
    },
    {
     "name": "stdout",
     "output_type": "stream",
     "text": [
      "Residual for Updated Matrix 104062474865.17268\n",
      "Original Residual: 165279783455.26086\n",
      "residual_ratio 0.6296140561760905\n",
      "No. flops for Updated Matrix 1512\n",
      "No. Flops Original Matrix 2952\n",
      "computational_ratio: 0.5121951219512195\n",
      "Residual for Updated Matrix 151539028627.85596\n",
      "Original Residual: 165279783455.26086\n",
      "residual_ratio 0.9168636687431022\n",
      "No. flops for Updated Matrix 2844\n",
      "No. Flops Original Matrix 2952\n",
      "computational_ratio: 0.9634146341463414\n",
      "Residual for Updated Matrix 125188525918.51376\n",
      "Original Residual: 165279783455.26086\n",
      "residual_ratio 0.7574339904214644\n",
      "No. flops for Updated Matrix 1764\n",
      "No. Flops Original Matrix 2952\n",
      "computational_ratio: 0.5975609756097561\n"
     ]
    },
    {
     "name": "stderr",
     "output_type": "stream",
     "text": [
      " 67%|██████▋   | 67/100 [01:28<00:44,  1.35s/it]"
     ]
    },
    {
     "name": "stdout",
     "output_type": "stream",
     "text": [
      "Residual for Updated Matrix 154560986005.1297\n",
      "Original Residual: 165279783455.26086\n",
      "residual_ratio 0.9351475587270925\n",
      "No. flops for Updated Matrix 2628\n",
      "No. Flops Original Matrix 2952\n",
      "computational_ratio: 0.8902439024390244\n",
      "Residual for Updated Matrix 62594259602.435326\n",
      "Original Residual: 165279783455.26086\n",
      "residual_ratio 0.3787169749007978\n",
      "No. flops for Updated Matrix 612\n",
      "No. Flops Original Matrix 2952\n",
      "computational_ratio: 0.2073170731707317\n",
      "Residual for Updated Matrix 60830627807.019775\n",
      "Original Residual: 165279783455.26086\n",
      "residual_ratio 0.36804639100634984\n",
      "No. flops for Updated Matrix 468\n",
      "No. Flops Original Matrix 2952\n",
      "computational_ratio: 0.15853658536585366\n"
     ]
    },
    {
     "name": "stderr",
     "output_type": "stream",
     "text": [
      " 68%|██████▊   | 68/100 [01:30<00:46,  1.45s/it]"
     ]
    },
    {
     "name": "stdout",
     "output_type": "stream",
     "text": [
      "Residual for Updated Matrix 4.242640687119285\n",
      "Original Residual: 165279783455.26086\n",
      "residual_ratio 2.5669447275550875e-11\n",
      "No. flops for Updated Matrix 0\n",
      "No. Flops Original Matrix 2952\n",
      "computational_ratio: 0.0\n",
      "Residual for Updated Matrix 84752863015.29628\n",
      "Original Residual: 165279783455.26086\n",
      "residual_ratio 0.5127842089546166\n",
      "No. flops for Updated Matrix 1080\n",
      "No. Flops Original Matrix 2952\n",
      "computational_ratio: 0.36585365853658536\n",
      "Residual for Updated Matrix 131547283844.37798\n",
      "Original Residual: 165279783455.26086\n",
      "residual_ratio 0.7959066807465062\n",
      "No. flops for Updated Matrix 2232\n",
      "No. Flops Original Matrix 2952\n",
      "computational_ratio: 0.7560975609756098\n"
     ]
    },
    {
     "name": "stderr",
     "output_type": "stream",
     "text": [
      " 69%|██████▉   | 69/100 [01:31<00:46,  1.51s/it]"
     ]
    },
    {
     "name": "stdout",
     "output_type": "stream",
     "text": [
      "Residual for Updated Matrix 125838786268.73958\n",
      "Original Residual: 165279783455.26086\n",
      "residual_ratio 0.761368291015474\n",
      "No. flops for Updated Matrix 1584\n",
      "No. Flops Original Matrix 2952\n",
      "computational_ratio: 0.5365853658536586\n",
      "Residual for Updated Matrix 144930813274.3265\n",
      "Original Residual: 165279783455.26086\n",
      "residual_ratio 0.8768816744823328\n",
      "No. flops for Updated Matrix 1728\n",
      "No. Flops Original Matrix 2952\n",
      "computational_ratio: 0.5853658536585366\n",
      "Residual for Updated Matrix 127556760095.75105\n",
      "Original Residual: 165279783455.26086\n",
      "residual_ratio 0.7717626283693616\n",
      "No. flops for Updated Matrix 2196\n",
      "No. Flops Original Matrix 2952\n",
      "computational_ratio: 0.7439024390243902\n"
     ]
    },
    {
     "name": "stderr",
     "output_type": "stream",
     "text": [
      " 70%|███████   | 70/100 [01:32<00:38,  1.28s/it]"
     ]
    },
    {
     "name": "stdout",
     "output_type": "stream",
     "text": [
      "Residual for Updated Matrix 161280482885.44513\n",
      "Original Residual: 165279783455.26086\n",
      "residual_ratio 0.975802844811336\n",
      "No. flops for Updated Matrix 2700\n",
      "No. Flops Original Matrix 2952\n",
      "computational_ratio: 0.9146341463414634\n",
      "Residual for Updated Matrix 151538696117.71246\n",
      "Original Residual: 165279783455.26086\n",
      "residual_ratio 0.9168616569414375\n",
      "No. flops for Updated Matrix 2484\n",
      "No. Flops Original Matrix 2952\n",
      "computational_ratio: 0.8414634146341463\n",
      "Residual for Updated Matrix 104844020971.19951\n",
      "Original Residual: 165279783455.26086\n",
      "residual_ratio 0.6343426811155004\n",
      "No. flops for Updated Matrix 1224\n",
      "No. Flops Original Matrix 2952\n",
      "computational_ratio: 0.4146341463414634\n"
     ]
    },
    {
     "name": "stderr",
     "output_type": "stream",
     "text": [
      " 71%|███████   | 71/100 [01:33<00:34,  1.17s/it]"
     ]
    },
    {
     "name": "stdout",
     "output_type": "stream",
     "text": [
      "Residual for Updated Matrix 36884172341.49085\n",
      "Original Residual: 165279783455.26086\n",
      "residual_ratio 0.2231620321034298\n",
      "No. flops for Updated Matrix 540\n",
      "No. Flops Original Matrix 2952\n",
      "computational_ratio: 0.18292682926829268\n",
      "Residual for Updated Matrix 80132521906.19662\n",
      "Original Residual: 165279783455.26086\n",
      "residual_ratio 0.4848295431599926\n",
      "No. flops for Updated Matrix 1152\n",
      "No. Flops Original Matrix 2952\n",
      "computational_ratio: 0.3902439024390244\n",
      "Residual for Updated Matrix 143421205803.42096\n",
      "Original Residual: 165279783455.26086\n",
      "residual_ratio 0.8677480258330763\n",
      "No. flops for Updated Matrix 2268\n",
      "No. Flops Original Matrix 2952\n",
      "computational_ratio: 0.7682926829268293\n"
     ]
    },
    {
     "name": "stderr",
     "output_type": "stream",
     "text": [
      " 72%|███████▏  | 72/100 [01:35<00:35,  1.26s/it]"
     ]
    },
    {
     "name": "stdout",
     "output_type": "stream",
     "text": [
      "Residual for Updated Matrix 129462045899.10825\n",
      "Original Residual: 165279783455.26086\n",
      "residual_ratio 0.7832902681298102\n",
      "No. flops for Updated Matrix 1476\n",
      "No. Flops Original Matrix 2952\n",
      "computational_ratio: 0.5\n",
      "Residual for Updated Matrix 72652756593.9201\n",
      "Original Residual: 165279783455.26086\n",
      "residual_ratio 0.43957436944238426\n",
      "No. flops for Updated Matrix 720\n",
      "No. Flops Original Matrix 2952\n",
      "computational_ratio: 0.24390243902439024\n",
      "Residual for Updated Matrix 4.242640687119285\n",
      "Original Residual: 165279783455.26086\n",
      "residual_ratio 2.5669447275550875e-11\n",
      "No. flops for Updated Matrix 0\n",
      "No. Flops Original Matrix 2952\n",
      "computational_ratio: 0.0\n"
     ]
    },
    {
     "name": "stderr",
     "output_type": "stream",
     "text": [
      " 73%|███████▎  | 73/100 [01:36<00:36,  1.36s/it]"
     ]
    },
    {
     "name": "stdout",
     "output_type": "stream",
     "text": [
      "Residual for Updated Matrix 105361602538.98175\n",
      "Original Residual: 165279783455.26086\n",
      "residual_ratio 0.6374742290698959\n",
      "No. flops for Updated Matrix 1152\n",
      "No. Flops Original Matrix 2952\n",
      "computational_ratio: 0.3902439024390244\n",
      "Residual for Updated Matrix 165279783455.26086\n",
      "Original Residual: 165279783455.26086\n",
      "residual_ratio 1.0\n",
      "No. flops for Updated Matrix 2952\n",
      "No. Flops Original Matrix 2952\n",
      "computational_ratio: 1.0\n",
      "Residual for Updated Matrix 77719465164.12369\n",
      "Original Residual: 165279783455.26086\n",
      "residual_ratio 0.4702297131527968\n",
      "No. flops for Updated Matrix 792\n",
      "No. Flops Original Matrix 2952\n",
      "computational_ratio: 0.2682926829268293\n"
     ]
    },
    {
     "name": "stderr",
     "output_type": "stream",
     "text": [
      " 74%|███████▍  | 74/100 [01:37<00:33,  1.30s/it]"
     ]
    },
    {
     "name": "stdout",
     "output_type": "stream",
     "text": [
      "Residual for Updated Matrix 165279686915.03726\n",
      "Original Residual: 165279783455.26086\n",
      "residual_ratio 0.9999994158981723\n",
      "No. flops for Updated Matrix 2772\n",
      "No. Flops Original Matrix 2952\n",
      "computational_ratio: 0.9390243902439024\n",
      "Residual for Updated Matrix 97026848317.84929\n",
      "Original Residual: 165279783455.26086\n",
      "residual_ratio 0.5870460759897669\n",
      "No. flops for Updated Matrix 1512\n",
      "No. Flops Original Matrix 2952\n",
      "computational_ratio: 0.5121951219512195\n",
      "Residual for Updated Matrix 138204202333.34738\n",
      "Original Residual: 165279783455.26086\n",
      "residual_ratio 0.8361833458643023\n",
      "No. flops for Updated Matrix 2016\n",
      "No. Flops Original Matrix 2952\n",
      "computational_ratio: 0.6829268292682927\n"
     ]
    },
    {
     "name": "stderr",
     "output_type": "stream",
     "text": [
      " 75%|███████▌  | 75/100 [01:38<00:28,  1.15s/it]"
     ]
    },
    {
     "name": "stdout",
     "output_type": "stream",
     "text": [
      "Residual for Updated Matrix 43641564108.607025\n",
      "Original Residual: 165279783455.26086\n",
      "residual_ratio 0.26404659539271624\n",
      "No. flops for Updated Matrix 360\n",
      "No. Flops Original Matrix 2952\n",
      "computational_ratio: 0.12195121951219512\n",
      "Residual for Updated Matrix 100384687.02785611\n",
      "Original Residual: 165279783455.26086\n",
      "residual_ratio 0.0006073621645022845\n",
      "No. flops for Updated Matrix 108\n",
      "No. Flops Original Matrix 2952\n",
      "computational_ratio: 0.036585365853658534\n",
      "Residual for Updated Matrix 165279763128.48773\n",
      "Original Residual: 165279783455.26086\n",
      "residual_ratio 0.9999998770159744\n",
      "No. flops for Updated Matrix 2844\n",
      "No. Flops Original Matrix 2952\n",
      "computational_ratio: 0.9634146341463414\n"
     ]
    },
    {
     "name": "stderr",
     "output_type": "stream",
     "text": [
      " 76%|███████▌  | 76/100 [01:40<00:30,  1.26s/it]"
     ]
    },
    {
     "name": "stdout",
     "output_type": "stream",
     "text": [
      "Residual for Updated Matrix 85392514993.7765\n",
      "Original Residual: 165279783455.26086\n",
      "residual_ratio 0.5166543252211555\n",
      "No. flops for Updated Matrix 1008\n",
      "No. Flops Original Matrix 2952\n",
      "computational_ratio: 0.34146341463414637\n",
      "Residual for Updated Matrix 121661448925.75603\n",
      "Original Residual: 165279783455.26086\n",
      "residual_ratio 0.7360939516156144\n",
      "No. flops for Updated Matrix 2268\n",
      "No. Flops Original Matrix 2952\n",
      "computational_ratio: 0.7682926829268293\n",
      "Residual for Updated Matrix 161280493296.24695\n",
      "Original Residual: 165279783455.26086\n",
      "residual_ratio 0.9758029078002969\n",
      "No. flops for Updated Matrix 2808\n",
      "No. Flops Original Matrix 2952\n",
      "computational_ratio: 0.9512195121951219\n"
     ]
    },
    {
     "name": "stderr",
     "output_type": "stream",
     "text": [
      " 78%|███████▊  | 78/100 [01:41<00:21,  1.04it/s]"
     ]
    },
    {
     "name": "stdout",
     "output_type": "stream",
     "text": [
      "Residual for Updated Matrix 165279783455.26086\n",
      "Original Residual: 165279783455.26086\n",
      "residual_ratio 1.0\n",
      "No. flops for Updated Matrix 2952\n",
      "No. Flops Original Matrix 2952\n",
      "computational_ratio: 1.0\n",
      "Residual for Updated Matrix 138401070258.3773\n",
      "Original Residual: 165279783455.26086\n",
      "residual_ratio 0.8373744650738891\n",
      "No. flops for Updated Matrix 2232\n",
      "No. Flops Original Matrix 2952\n",
      "computational_ratio: 0.7560975609756098\n",
      "Residual for Updated Matrix 161280337084.59674\n",
      "Original Residual: 165279783455.26086\n",
      "residual_ratio 0.9758019626656473\n",
      "No. flops for Updated Matrix 2520\n",
      "No. Flops Original Matrix 2952\n",
      "computational_ratio: 0.8536585365853658\n",
      "Residual for Updated Matrix 81812804810.85513\n",
      "Original Residual: 165279783455.26086\n",
      "residual_ratio 0.49499583736447006\n",
      "No. flops for Updated Matrix 1188\n",
      "No. Flops Original Matrix 2952\n",
      "computational_ratio: 0.4024390243902439\n",
      "Residual for Updated Matrix 119631684644.19408\n",
      "Original Residual: 165279783455.26086\n",
      "residual_ratio 0.7238131738996189\n",
      "No. flops for Updated Matrix 2160\n",
      "No. Flops Original Matrix 2952\n",
      "computational_ratio: 0.7317073170731707\n",
      "Residual for Updated Matrix 143420977438.0151\n",
      "Original Residual: 165279783455.26086\n",
      "residual_ratio 0.8677466441431861\n",
      "No. flops for Updated Matrix 1944\n",
      "No. Flops Original Matrix 2952\n",
      "computational_ratio: 0.6585365853658537\n"
     ]
    },
    {
     "name": "stderr",
     "output_type": "stream",
     "text": [
      " 79%|███████▉  | 79/100 [01:42<00:19,  1.05it/s]"
     ]
    },
    {
     "name": "stdout",
     "output_type": "stream",
     "text": [
      "Residual for Updated Matrix 141511359022.13455\n",
      "Original Residual: 165279783455.26086\n",
      "residual_ratio 0.8561927905746554\n",
      "No. flops for Updated Matrix 2160\n",
      "No. Flops Original Matrix 2952\n",
      "computational_ratio: 0.7317073170731707\n",
      "Residual for Updated Matrix 78762618358.19237\n",
      "Original Residual: 165279783455.26086\n",
      "residual_ratio 0.4765411516860585\n",
      "No. flops for Updated Matrix 720\n",
      "No. Flops Original Matrix 2952\n",
      "computational_ratio: 0.24390243902439024\n",
      "Residual for Updated Matrix 90346899898.4375\n",
      "Original Residual: 165279783455.26086\n",
      "residual_ratio 0.5466300718072592\n",
      "No. flops for Updated Matrix 1188\n",
      "No. Flops Original Matrix 2952\n",
      "computational_ratio: 0.4024390243902439\n"
     ]
    },
    {
     "name": "stderr",
     "output_type": "stream",
     "text": [
      " 81%|████████  | 81/100 [01:44<00:16,  1.15it/s]"
     ]
    },
    {
     "name": "stdout",
     "output_type": "stream",
     "text": [
      "Residual for Updated Matrix 147351508888.48422\n",
      "Original Residual: 165279783455.26086\n",
      "residual_ratio 0.8915277223143894\n",
      "No. flops for Updated Matrix 2592\n",
      "No. Flops Original Matrix 2952\n",
      "computational_ratio: 0.8780487804878049\n",
      "Residual for Updated Matrix 131340194219.61325\n",
      "Original Residual: 165279783455.26086\n",
      "residual_ratio 0.7946537167091907\n",
      "No. flops for Updated Matrix 2124\n",
      "No. Flops Original Matrix 2952\n",
      "computational_ratio: 0.7195121951219512\n",
      "Residual for Updated Matrix 155788476934.22394\n",
      "Original Residual: 165279783455.26086\n",
      "residual_ratio 0.9425743044756221\n",
      "No. flops for Updated Matrix 2772\n",
      "No. Flops Original Matrix 2952\n",
      "computational_ratio: 0.9390243902439024\n",
      "Residual for Updated Matrix 95614208436.36621\n",
      "Original Residual: 165279783455.26086\n",
      "residual_ratio 0.5784991148796353\n",
      "No. flops for Updated Matrix 1260\n",
      "No. Flops Original Matrix 2952\n",
      "computational_ratio: 0.4268292682926829\n",
      "Residual for Updated Matrix 51637645475.588776\n",
      "Original Residual: 165279783455.26086\n",
      "residual_ratio 0.3124256602717926\n",
      "No. flops for Updated Matrix 468\n",
      "No. Flops Original Matrix 2952\n",
      "computational_ratio: 0.15853658536585366\n",
      "Residual for Updated Matrix 63027860148.1196\n",
      "Original Residual: 165279783455.26086\n",
      "residual_ratio 0.38134040855142115\n",
      "No. flops for Updated Matrix 1152\n",
      "No. Flops Original Matrix 2952\n",
      "computational_ratio: 0.3902439024390244\n"
     ]
    },
    {
     "name": "stderr",
     "output_type": "stream",
     "text": [
      " 82%|████████▏ | 82/100 [01:45<00:18,  1.00s/it]"
     ]
    },
    {
     "name": "stdout",
     "output_type": "stream",
     "text": [
      "Residual for Updated Matrix 149368762454.8842\n",
      "Original Residual: 165279783455.26086\n",
      "residual_ratio 0.9037328058656152\n",
      "No. flops for Updated Matrix 2340\n",
      "No. Flops Original Matrix 2952\n",
      "computational_ratio: 0.7926829268292683\n",
      "Residual for Updated Matrix 165279783455.26086\n",
      "Original Residual: 165279783455.26086\n",
      "residual_ratio 1.0\n",
      "No. flops for Updated Matrix 2952\n",
      "No. Flops Original Matrix 2952\n",
      "computational_ratio: 1.0\n",
      "Residual for Updated Matrix 40404195670.18315\n",
      "Original Residual: 165279783455.26086\n",
      "residual_ratio 0.24445939379585438\n",
      "No. flops for Updated Matrix 216\n",
      "No. Flops Original Matrix 2952\n",
      "computational_ratio: 0.07317073170731707\n"
     ]
    },
    {
     "name": "stderr",
     "output_type": "stream",
     "text": [
      " 83%|████████▎ | 83/100 [01:47<00:19,  1.15s/it]"
     ]
    },
    {
     "name": "stdout",
     "output_type": "stream",
     "text": [
      "Residual for Updated Matrix 118258845366.10912\n",
      "Original Residual: 165279783455.26086\n",
      "residual_ratio 0.715507020240744\n",
      "No. flops for Updated Matrix 1656\n",
      "No. Flops Original Matrix 2952\n",
      "computational_ratio: 0.5609756097560976\n",
      "Residual for Updated Matrix 121437246096.35898\n",
      "Original Residual: 165279783455.26086\n",
      "residual_ratio 0.734737446756339\n",
      "No. flops for Updated Matrix 1656\n",
      "No. Flops Original Matrix 2952\n",
      "computational_ratio: 0.5609756097560976\n",
      "Residual for Updated Matrix 137612281020.0128\n",
      "Original Residual: 165279783455.26086\n",
      "residual_ratio 0.8326020166723094\n",
      "No. flops for Updated Matrix 2448\n",
      "No. Flops Original Matrix 2952\n",
      "computational_ratio: 0.8292682926829268\n"
     ]
    },
    {
     "name": "stderr",
     "output_type": "stream",
     "text": [
      " 84%|████████▍ | 84/100 [01:47<00:16,  1.03s/it]"
     ]
    },
    {
     "name": "stdout",
     "output_type": "stream",
     "text": [
      "Residual for Updated Matrix 44871765864.52862\n",
      "Original Residual: 165279783455.26086\n",
      "residual_ratio 0.2714897425835195\n",
      "No. flops for Updated Matrix 1044\n",
      "No. Flops Original Matrix 2952\n",
      "computational_ratio: 0.35365853658536583\n",
      "Residual for Updated Matrix 87594573205.37135\n",
      "Original Residual: 165279783455.26086\n",
      "residual_ratio 0.5299775409560727\n",
      "No. flops for Updated Matrix 1404\n",
      "No. Flops Original Matrix 2952\n",
      "computational_ratio: 0.47560975609756095\n",
      "Residual for Updated Matrix 80470926175.56795\n",
      "Original Residual: 165279783455.26086\n",
      "residual_ratio 0.48687700632999925\n",
      "No. flops for Updated Matrix 396\n",
      "No. Flops Original Matrix 2952\n",
      "computational_ratio: 0.13414634146341464\n"
     ]
    },
    {
     "name": "stderr",
     "output_type": "stream",
     "text": [
      " 85%|████████▌ | 85/100 [01:49<00:17,  1.16s/it]"
     ]
    },
    {
     "name": "stdout",
     "output_type": "stream",
     "text": [
      "Residual for Updated Matrix 16494960778.72101\n",
      "Original Residual: 165279783455.26086\n",
      "residual_ratio 0.09980023227212169\n",
      "No. flops for Updated Matrix 72\n",
      "No. Flops Original Matrix 2952\n",
      "computational_ratio: 0.024390243902439025\n",
      "Residual for Updated Matrix 110158859758.04909\n",
      "Original Residual: 165279783455.26086\n",
      "residual_ratio 0.6664992986747692\n",
      "No. flops for Updated Matrix 1296\n",
      "No. Flops Original Matrix 2952\n",
      "computational_ratio: 0.43902439024390244\n",
      "Residual for Updated Matrix 149186767993.64517\n",
      "Original Residual: 165279783455.26086\n",
      "residual_ratio 0.9026316762692767\n",
      "No. flops for Updated Matrix 2808\n",
      "No. Flops Original Matrix 2952\n",
      "computational_ratio: 0.9512195121951219\n"
     ]
    },
    {
     "name": "stderr",
     "output_type": "stream",
     "text": [
      " 86%|████████▌ | 86/100 [01:50<00:18,  1.33s/it]"
     ]
    },
    {
     "name": "stdout",
     "output_type": "stream",
     "text": [
      "Residual for Updated Matrix 102482265600.64153\n",
      "Original Residual: 165279783455.26086\n",
      "residual_ratio 0.620053242194513\n",
      "No. flops for Updated Matrix 2160\n",
      "No. Flops Original Matrix 2952\n",
      "computational_ratio: 0.7317073170731707\n",
      "Residual for Updated Matrix 149551001524.5262\n",
      "Original Residual: 165279783455.26086\n",
      "residual_ratio 0.9048354154276089\n",
      "No. flops for Updated Matrix 2592\n",
      "No. Flops Original Matrix 2952\n",
      "computational_ratio: 0.8780487804878049\n",
      "Residual for Updated Matrix 113324336244.93219\n",
      "Original Residual: 165279783455.26086\n",
      "residual_ratio 0.6856515290365663\n",
      "No. flops for Updated Matrix 1188\n",
      "No. Flops Original Matrix 2952\n",
      "computational_ratio: 0.4024390243902439\n"
     ]
    },
    {
     "name": "stderr",
     "output_type": "stream",
     "text": [
      " 87%|████████▋ | 87/100 [01:51<00:16,  1.24s/it]"
     ]
    },
    {
     "name": "stdout",
     "output_type": "stream",
     "text": [
      "Residual for Updated Matrix 94756911619.66324\n",
      "Original Residual: 165279783455.26086\n",
      "residual_ratio 0.5733121718743825\n",
      "No. flops for Updated Matrix 1548\n",
      "No. Flops Original Matrix 2952\n",
      "computational_ratio: 0.524390243902439\n",
      "Residual for Updated Matrix 78416446074.58249\n",
      "Original Residual: 165279783455.26086\n",
      "residual_ratio 0.47444668933638107\n",
      "No. flops for Updated Matrix 720\n",
      "No. Flops Original Matrix 2952\n",
      "computational_ratio: 0.24390243902439024\n",
      "Residual for Updated Matrix 136818999547.5418\n",
      "Original Residual: 165279783455.26086\n",
      "residual_ratio 0.8278023886967214\n",
      "No. flops for Updated Matrix 2160\n",
      "No. Flops Original Matrix 2952\n",
      "computational_ratio: 0.7317073170731707\n"
     ]
    },
    {
     "name": "stderr",
     "output_type": "stream",
     "text": [
      " 88%|████████▊ | 88/100 [01:53<00:14,  1.24s/it]"
     ]
    },
    {
     "name": "stdout",
     "output_type": "stream",
     "text": [
      "Residual for Updated Matrix 165279783455.26086\n",
      "Original Residual: 165279783455.26086\n",
      "residual_ratio 1.0\n",
      "No. flops for Updated Matrix 2952\n",
      "No. Flops Original Matrix 2952\n",
      "computational_ratio: 1.0\n",
      "Residual for Updated Matrix 88521261900.70035\n",
      "Original Residual: 165279783455.26086\n",
      "residual_ratio 0.535584328888366\n",
      "No. flops for Updated Matrix 900\n",
      "No. Flops Original Matrix 2952\n",
      "computational_ratio: 0.3048780487804878\n",
      "Residual for Updated Matrix 87594323930.62689\n",
      "Original Residual: 165279783455.26086\n",
      "residual_ratio 0.5299760327574338\n",
      "No. flops for Updated Matrix 684\n",
      "No. Flops Original Matrix 2952\n",
      "computational_ratio: 0.23170731707317074\n"
     ]
    },
    {
     "name": "stderr",
     "output_type": "stream",
     "text": [
      " 89%|████████▉ | 89/100 [01:54<00:13,  1.25s/it]"
     ]
    },
    {
     "name": "stdout",
     "output_type": "stream",
     "text": [
      "Residual for Updated Matrix 133191791916.49777\n",
      "Original Residual: 165279783455.26086\n",
      "residual_ratio 0.8058565248093461\n",
      "No. flops for Updated Matrix 2556\n",
      "No. Flops Original Matrix 2952\n",
      "computational_ratio: 0.8658536585365854\n",
      "Residual for Updated Matrix 165279783455.26086\n",
      "Original Residual: 165279783455.26086\n",
      "residual_ratio 1.0\n",
      "No. flops for Updated Matrix 2952\n",
      "No. Flops Original Matrix 2952\n",
      "computational_ratio: 1.0\n",
      "Residual for Updated Matrix 91246109694.4347\n",
      "Original Residual: 165279783455.26086\n",
      "residual_ratio 0.552070602870398\n",
      "No. flops for Updated Matrix 1368\n",
      "No. Flops Original Matrix 2952\n",
      "computational_ratio: 0.4634146341463415\n"
     ]
    },
    {
     "name": "stderr",
     "output_type": "stream",
     "text": [
      " 90%|█████████ | 90/100 [01:55<00:11,  1.15s/it]"
     ]
    },
    {
     "name": "stdout",
     "output_type": "stream",
     "text": [
      "Residual for Updated Matrix 121213217478.46962\n",
      "Original Residual: 165279783455.26086\n",
      "residual_ratio 0.7333819959370923\n",
      "No. flops for Updated Matrix 2052\n",
      "No. Flops Original Matrix 2952\n",
      "computational_ratio: 0.6951219512195121\n",
      "Residual for Updated Matrix 73397923609.9825\n",
      "Original Residual: 165279783455.26086\n",
      "residual_ratio 0.44408288827320724\n",
      "No. flops for Updated Matrix 828\n",
      "No. Flops Original Matrix 2952\n",
      "computational_ratio: 0.2804878048780488\n",
      "Residual for Updated Matrix 124096896114.0875\n",
      "Original Residual: 165279783455.26086\n",
      "residual_ratio 0.750829251586471\n",
      "No. flops for Updated Matrix 2160\n",
      "No. Flops Original Matrix 2952\n",
      "computational_ratio: 0.7317073170731707\n"
     ]
    },
    {
     "name": "stderr",
     "output_type": "stream",
     "text": [
      " 91%|█████████ | 91/100 [01:56<00:10,  1.16s/it]"
     ]
    },
    {
     "name": "stdout",
     "output_type": "stream",
     "text": [
      "Residual for Updated Matrix 157179269349.14575\n",
      "Original Residual: 165279783455.26086\n",
      "residual_ratio 0.9509890808375374\n",
      "No. flops for Updated Matrix 2412\n",
      "No. Flops Original Matrix 2952\n",
      "computational_ratio: 0.8170731707317073\n",
      "Residual for Updated Matrix 132371774481.00845\n",
      "Original Residual: 165279783455.26086\n",
      "residual_ratio 0.8008951349869103\n",
      "No. flops for Updated Matrix 1944\n",
      "No. Flops Original Matrix 2952\n",
      "computational_ratio: 0.6585365853658537\n",
      "Residual for Updated Matrix 136819036370.1578\n",
      "Original Residual: 165279783455.26086\n",
      "residual_ratio 0.8278026114863164\n",
      "No. flops for Updated Matrix 1800\n",
      "No. Flops Original Matrix 2952\n",
      "computational_ratio: 0.6097560975609756\n"
     ]
    },
    {
     "name": "stderr",
     "output_type": "stream",
     "text": [
      " 92%|█████████▏| 92/100 [01:57<00:08,  1.01s/it]"
     ]
    },
    {
     "name": "stdout",
     "output_type": "stream",
     "text": [
      "Residual for Updated Matrix 71900719753.13586\n",
      "Original Residual: 165279783455.26086\n",
      "residual_ratio 0.43502428578991015\n",
      "No. flops for Updated Matrix 1800\n",
      "No. Flops Original Matrix 2952\n",
      "computational_ratio: 0.6097560975609756\n",
      "Residual for Updated Matrix 157179429635.12848\n",
      "Original Residual: 165279783455.26086\n",
      "residual_ratio 0.9509900506233114\n",
      "No. flops for Updated Matrix 2520\n",
      "No. Flops Original Matrix 2952\n",
      "computational_ratio: 0.8536585365853658\n",
      "Residual for Updated Matrix 61719076932.27558\n",
      "Original Residual: 165279783455.26086\n",
      "residual_ratio 0.3734218162802842\n",
      "No. flops for Updated Matrix 1224\n",
      "No. Flops Original Matrix 2952\n",
      "computational_ratio: 0.4146341463414634\n"
     ]
    },
    {
     "name": "stderr",
     "output_type": "stream",
     "text": [
      " 93%|█████████▎| 93/100 [01:58<00:07,  1.07s/it]"
     ]
    },
    {
     "name": "stdout",
     "output_type": "stream",
     "text": [
      "Residual for Updated Matrix 127556588914.49167\n",
      "Original Residual: 165279783455.26086\n",
      "residual_ratio 0.771761592663386\n",
      "No. flops for Updated Matrix 1800\n",
      "No. Flops Original Matrix 2952\n",
      "computational_ratio: 0.6097560975609756\n",
      "Residual for Updated Matrix 76661746482.1555\n",
      "Original Residual: 165279783455.26086\n",
      "residual_ratio 0.46383014836721914\n",
      "No. flops for Updated Matrix 900\n",
      "No. Flops Original Matrix 2952\n",
      "computational_ratio: 0.3048780487804878\n",
      "Residual for Updated Matrix 63027460432.47854\n",
      "Original Residual: 165279783455.26086\n",
      "residual_ratio 0.38133799013319297\n",
      "No. flops for Updated Matrix 756\n",
      "No. Flops Original Matrix 2952\n",
      "computational_ratio: 0.25609756097560976\n"
     ]
    },
    {
     "name": "stderr",
     "output_type": "stream",
     "text": [
      " 94%|█████████▍| 94/100 [01:59<00:06,  1.16s/it]"
     ]
    },
    {
     "name": "stdout",
     "output_type": "stream",
     "text": [
      "Residual for Updated Matrix 1192.6099512971205\n",
      "Original Residual: 165279783455.26086\n",
      "residual_ratio 7.215703738019144e-09\n",
      "No. flops for Updated Matrix 36\n",
      "No. Flops Original Matrix 2952\n",
      "computational_ratio: 0.012195121951219513\n",
      "Residual for Updated Matrix 137809890929.49716\n",
      "Original Residual: 165279783455.26086\n",
      "residual_ratio 0.8337976251451258\n",
      "No. flops for Updated Matrix 2196\n",
      "No. Flops Original Matrix 2952\n",
      "computational_ratio: 0.7439024390243902\n",
      "Residual for Updated Matrix 120085343887.03102\n",
      "Original Residual: 165279783455.26086\n",
      "residual_ratio 0.7265579696232879\n",
      "No. flops for Updated Matrix 1440\n",
      "No. Flops Original Matrix 2952\n",
      "computational_ratio: 0.4878048780487805\n"
     ]
    },
    {
     "name": "stderr",
     "output_type": "stream",
     "text": [
      " 95%|█████████▌| 95/100 [02:01<00:06,  1.31s/it]"
     ]
    },
    {
     "name": "stdout",
     "output_type": "stream",
     "text": [
      "Residual for Updated Matrix 53703839060.31678\n",
      "Original Residual: 165279783455.26086\n",
      "residual_ratio 0.3249268479036562\n",
      "No. flops for Updated Matrix 432\n",
      "No. Flops Original Matrix 2952\n",
      "computational_ratio: 0.14634146341463414\n",
      "Residual for Updated Matrix 48932225561.214966\n",
      "Original Residual: 165279783455.26086\n",
      "residual_ratio 0.2960569316964304\n",
      "No. flops for Updated Matrix 468\n",
      "No. Flops Original Matrix 2952\n",
      "computational_ratio: 0.15853658536585366\n",
      "Residual for Updated Matrix 95043833906.2235\n",
      "Original Residual: 165279783455.26086\n",
      "residual_ratio 0.5750481511972131\n",
      "No. flops for Updated Matrix 1512\n",
      "No. Flops Original Matrix 2952\n",
      "computational_ratio: 0.5121951219512195\n"
     ]
    },
    {
     "name": "stderr",
     "output_type": "stream",
     "text": [
      " 96%|█████████▌| 96/100 [02:02<00:05,  1.35s/it]"
     ]
    },
    {
     "name": "stdout",
     "output_type": "stream",
     "text": [
      "Residual for Updated Matrix 118028527876.92827\n",
      "Original Residual: 165279783455.26086\n",
      "residual_ratio 0.714113519569543\n",
      "No. flops for Updated Matrix 1548\n",
      "No. Flops Original Matrix 2952\n",
      "computational_ratio: 0.524390243902439\n",
      "Residual for Updated Matrix 151538745983.37357\n",
      "Original Residual: 165279783455.26086\n",
      "residual_ratio 0.9168619586459779\n",
      "No. flops for Updated Matrix 2232\n",
      "No. Flops Original Matrix 2952\n",
      "computational_ratio: 0.7560975609756098\n",
      "Residual for Updated Matrix 64309478234.42868\n",
      "Original Residual: 165279783455.26086\n",
      "residual_ratio 0.3890946423694731\n",
      "No. flops for Updated Matrix 792\n",
      "No. Flops Original Matrix 2952\n",
      "computational_ratio: 0.2682926829268293\n"
     ]
    },
    {
     "name": "stderr",
     "output_type": "stream",
     "text": [
      " 97%|█████████▋| 97/100 [02:04<00:04,  1.36s/it]"
     ]
    },
    {
     "name": "stdout",
     "output_type": "stream",
     "text": [
      "Residual for Updated Matrix 41729763555.46862\n",
      "Original Residual: 165279783455.26086\n",
      "residual_ratio 0.2524795391371283\n",
      "No. flops for Updated Matrix 468\n",
      "No. Flops Original Matrix 2952\n",
      "computational_ratio: 0.15853658536585366\n",
      "Residual for Updated Matrix 114280815334.16602\n",
      "Original Residual: 165279783455.26086\n",
      "residual_ratio 0.6914385591816823\n",
      "No. flops for Updated Matrix 1440\n",
      "No. Flops Original Matrix 2952\n",
      "computational_ratio: 0.4878048780487805\n",
      "Residual for Updated Matrix 104843948878.93898\n",
      "Original Residual: 165279783455.26086\n",
      "residual_ratio 0.6343422449323265\n",
      "No. flops for Updated Matrix 1548\n",
      "No. Flops Original Matrix 2952\n",
      "computational_ratio: 0.524390243902439\n"
     ]
    },
    {
     "name": "stderr",
     "output_type": "stream",
     "text": [
      " 99%|█████████▉| 99/100 [02:06<00:01,  1.17s/it]"
     ]
    },
    {
     "name": "stdout",
     "output_type": "stream",
     "text": [
      "Residual for Updated Matrix 141895432192.9149\n",
      "Original Residual: 165279783455.26086\n",
      "residual_ratio 0.8585165664336932\n",
      "No. flops for Updated Matrix 2088\n",
      "No. Flops Original Matrix 2952\n",
      "computational_ratio: 0.7073170731707317\n",
      "Residual for Updated Matrix 157352313440.9901\n",
      "Original Residual: 165279783455.26086\n",
      "residual_ratio 0.952036057595534\n",
      "No. flops for Updated Matrix 2412\n",
      "No. Flops Original Matrix 2952\n",
      "computational_ratio: 0.8170731707317073\n",
      "Residual for Updated Matrix 134815923841.59016\n",
      "Original Residual: 165279783455.26086\n",
      "residual_ratio 0.8156830861173238\n",
      "No. flops for Updated Matrix 2556\n",
      "No. Flops Original Matrix 2952\n",
      "computational_ratio: 0.8658536585365854\n",
      "Residual for Updated Matrix 111874845085.72237\n",
      "Original Residual: 165279783455.26086\n",
      "residual_ratio 0.6768816049181566\n",
      "No. flops for Updated Matrix 1980\n",
      "No. Flops Original Matrix 2952\n",
      "computational_ratio: 0.6707317073170732\n",
      "Residual for Updated Matrix 82144593923.2539\n",
      "Original Residual: 165279783455.26086\n",
      "residual_ratio 0.4970032765410139\n",
      "No. flops for Updated Matrix 1116\n",
      "No. Flops Original Matrix 2952\n",
      "computational_ratio: 0.3780487804878049\n",
      "Residual for Updated Matrix 31297277370.998726\n",
      "Original Residual: 165279783455.26086\n",
      "residual_ratio 0.18935938029874355\n",
      "No. flops for Updated Matrix 288\n",
      "No. Flops Original Matrix 2952\n",
      "computational_ratio: 0.0975609756097561\n"
     ]
    },
    {
     "name": "stderr",
     "output_type": "stream",
     "text": [
      "100%|██████████| 100/100 [02:08<00:00,  1.28s/it]\n"
     ]
    }
   ],
   "source": [
    "import pandas as pd\n",
    "# Initialize the GFlowNet model\n",
    "model = GFlowNet(forward_policy, backward_policy, env)\n",
    "opt = Adam(model.parameters(), lr=lr)\n",
    "\n",
    "log_memory_usage(\"After Model Initialization\")\n",
    "\n",
    "report_data = pd.DataFrame(columns=['epoch', 'num_actions', 'loss', 'reward'])\n",
    "\n",
    "detailed_report_data = pd.DataFrame(columns=['epoch', 'sample_number', 'num_actions', 'loss', 'reward'])\n",
    "\n",
    "for epoch in (p := tqdm(range(num_epochs))):\n",
    "   #log_memory_usage(f\"Start of Epoch {epoch}\")\n",
    "\n",
    "    model.train()\n",
    "    #opt.zero_grad()\n",
    "\n",
    "    # Initialize the starting states\n",
    "    initial_indices = torch.zeros(batch_size).long()\n",
    "    #s0 = [sparse_one_hot(initial_indices[i:i+1], env.state_dim).float() for i in range(batch_size)]\n",
    "    s0 = [initial_matrix.clone() for _ in range(batch_size)]\n",
    "    #s0 = one_hot(torch.zeros(batch_size).long(), env.state_dim).float()\n",
    "    # Sample final states and log information\n",
    "    s, log = model.sample_states(s0, return_log=True)\n",
    "    \n",
    "    # Calculate the trajectory balance loss\n",
    "    loss = trajectory_balance_loss(log.total_flow,\n",
    "                                    log.rewards,\n",
    "                                    log.fwd_probs,\n",
    "                                    log.back_probs)\n",
    "    \n",
    "    #print(f\"log.total_flow {log.total_flow}\")\n",
    "    #print(f\"log.rewards {log.rewards}\")\n",
    "    #print(f\"log.fwd_probs {log.fwd_probs}\")\n",
    "    #print(f\"log.back_probs {log.back_probs}\")\n",
    "    #print(f\"log._actions shape {len(log._actions)}\")\n",
    "    #print(f\"Loss Calculation: {loss}\")\n",
    "    # Backpropagation and optimization step\n",
    "    loss.backward()\n",
    "    #check_gradients(model)\n",
    "    opt.step()\n",
    "    #named_params = model.named_parameters()\n",
    "    opt.zero_grad()\n",
    "\n",
    "    #Capture data\n",
    "    total_length = len(log._actions)\n",
    "    report_data = report_data.append({'epoch': epoch, 'num_actions': total_length, 'loss': loss.item(), 'reward': log.rewards}, ignore_index=True)\n",
    "\n",
    "        # Capture data for each sample in the batch\n",
    "    for sample_id in range(batch_size):\n",
    "        sum_actions = log._actions.t()[sample_id]\n",
    "        mask_actions = sum_actions != -1\n",
    "        num_actions = mask_actions.sum()\n",
    "        reward = log.rewards[sample_id].item() if isinstance(log.rewards, torch.Tensor) else log.rewards[sample_id]\n",
    "        detailed_report_data = detailed_report_data.append({\n",
    "            'epoch': epoch,\n",
    "            'sample_number': sample_id + 1,  # Sample number within the batch/epoch\n",
    "            'num_actions': num_actions.item(),\n",
    "            'loss': loss.item(),\n",
    "            'reward': reward\n",
    "        }, ignore_index=True)\n",
    "    \n",
    "    if epoch % 100 == 0:\n",
    "       tqdm.write(f\"Epoch {epoch} Loss: {loss.item():.3f}, Num_Actions {total_length}\")\n",
    "        "
   ]
  },
  {
   "cell_type": "code",
   "execution_count": 11,
   "metadata": {},
   "outputs": [
    {
     "data": {
      "text/plain": [
       "torch.Size([75, 3])"
      ]
     },
     "execution_count": 11,
     "metadata": {},
     "output_type": "execute_result"
    }
   ],
   "source": [
    "log._actions.shape"
   ]
  },
  {
   "cell_type": "code",
   "execution_count": 12,
   "metadata": {},
   "outputs": [],
   "source": [
    "report_data.to_csv('training_log.csv', index=False)"
   ]
  },
  {
   "cell_type": "code",
   "execution_count": 13,
   "metadata": {},
   "outputs": [],
   "source": [
    "detailed_report_data.to_csv('detailed_training_log.csv', index=False)"
   ]
  },
  {
   "cell_type": "code",
   "execution_count": 14,
   "metadata": {},
   "outputs": [
    {
     "data": {
      "application/vnd.plotly.v1+json": {
       "config": {
        "plotlyServerURL": "https://plot.ly"
       },
       "data": [
        {
         "hoverinfo": "text",
         "marker": {
          "color": [
           3938.574462890625,
           1765.619140625,
           245.81980895996094,
           3176.224853515625,
           1845.2789306640625,
           11.763319969177246,
           1863.6151123046875,
           298.4870910644531,
           334.4514465332031,
           215.33604431152344,
           97.53719329833984,
           274.9440002441406,
           2770.385498046875,
           2381.43212890625,
           587.6829223632812,
           1439.74853515625,
           3349.281982421875,
           449.4645080566406,
           2677.88671875,
           1024.82861328125,
           220.2887420654297,
           241.33644104003906,
           3987.154052734375,
           2113.924072265625,
           4531.04052734375,
           2554.266357421875,
           550.5336303710938,
           3566.3662109375,
           156.02288818359375,
           448.061279296875,
           801.8484497070312,
           2264.410400390625,
           1368.4146728515625,
           373.5373229980469,
           2097.471435546875,
           3895.4794921875,
           3764.6943359375,
           191.77723693847656,
           291.0339050292969,
           1479.6724853515625,
           1641.8720703125,
           2227.770263671875,
           1158.3826904296875,
           20.07832145690918,
           502.3917541503906,
           164.84149169921875,
           63.26450729370117,
           160.6374969482422,
           727.4691772460938,
           1214.04736328125,
           90.59265899658203,
           2278.656494140625,
           186.2096710205078,
           1159.13671875,
           167.07095336914062,
           826.2653198242188,
           1910.7996826171875,
           1426.0135498046875,
           604.0451049804688,
           817.9755859375,
           108.52863311767578,
           325.8682556152344,
           1973.1199951171875,
           1352.5093994140625,
           1468.5821533203125,
           76.4618911743164,
           37.6055908203125,
           1834.1285400390625,
           4323.31005859375,
           66.61842346191406,
           79.8929214477539,
           1375.3072509765625,
           3771.1689453125,
           240.9721221923828,
           38.85362243652344,
           3150.873046875,
           148.9847869873047,
           363.060302734375,
           229.28594970703125,
           915.2097778320312,
           31.566221237182617,
           750.1715698242188,
           1396.7816162109375,
           35.43059158325195,
           1207.3511962890625,
           2631.12548828125,
           137.7859344482422,
           746.9951782226562,
           392.9971618652344,
           256.27191162109375,
           580.3060913085938,
           35.5695915222168,
           113.32056427001953,
           895.8837890625,
           3683.495849609375,
           2097.966064453125,
           719.18994140625,
           1066.93798828125,
           11.200729370117188,
           2184.219482421875
          ],
          "colorscale": [
           [
            0,
            "#440154"
           ],
           [
            0.1111111111111111,
            "#482878"
           ],
           [
            0.2222222222222222,
            "#3e4989"
           ],
           [
            0.3333333333333333,
            "#31688e"
           ],
           [
            0.4444444444444444,
            "#26828e"
           ],
           [
            0.5555555555555556,
            "#1f9e89"
           ],
           [
            0.6666666666666666,
            "#35b779"
           ],
           [
            0.7777777777777778,
            "#6ece58"
           ],
           [
            0.8888888888888888,
            "#b5de2b"
           ],
           [
            1,
            "#fde725"
           ]
          ],
          "opacity": 0.8,
          "size": 5
         },
         "mode": "markers",
         "text": [
          "Epoch: 0<br>Num Actions: 83<br>Loss: 3938.574462890625",
          "Epoch: 1<br>Num Actions: 75<br>Loss: 1765.619140625",
          "Epoch: 2<br>Num Actions: 52<br>Loss: 245.81980895996094",
          "Epoch: 3<br>Num Actions: 83<br>Loss: 3176.224853515625",
          "Epoch: 4<br>Num Actions: 75<br>Loss: 1845.2789306640625",
          "Epoch: 5<br>Num Actions: 22<br>Loss: 11.763319969177246",
          "Epoch: 6<br>Num Actions: 75<br>Loss: 1863.6151123046875",
          "Epoch: 7<br>Num Actions: 53<br>Loss: 298.4870910644531",
          "Epoch: 8<br>Num Actions: 55<br>Loss: 334.4514465332031",
          "Epoch: 9<br>Num Actions: 74<br>Loss: 215.33604431152344",
          "Epoch: 10<br>Num Actions: 25<br>Loss: 97.53719329833984",
          "Epoch: 11<br>Num Actions: 57<br>Loss: 274.9440002441406",
          "Epoch: 12<br>Num Actions: 79<br>Loss: 2770.385498046875",
          "Epoch: 13<br>Num Actions: 72<br>Loss: 2381.43212890625",
          "Epoch: 14<br>Num Actions: 61<br>Loss: 587.6829223632812",
          "Epoch: 15<br>Num Actions: 72<br>Loss: 1439.74853515625",
          "Epoch: 16<br>Num Actions: 77<br>Loss: 3349.281982421875",
          "Epoch: 17<br>Num Actions: 58<br>Loss: 449.4645080566406",
          "Epoch: 18<br>Num Actions: 74<br>Loss: 2677.88671875",
          "Epoch: 19<br>Num Actions: 61<br>Loss: 1024.82861328125",
          "Epoch: 20<br>Num Actions: 57<br>Loss: 220.2887420654297",
          "Epoch: 21<br>Num Actions: 51<br>Loss: 241.33644104003906",
          "Epoch: 22<br>Num Actions: 76<br>Loss: 3987.154052734375",
          "Epoch: 23<br>Num Actions: 77<br>Loss: 2113.924072265625",
          "Epoch: 24<br>Num Actions: 83<br>Loss: 4531.04052734375",
          "Epoch: 25<br>Num Actions: 80<br>Loss: 2554.266357421875",
          "Epoch: 26<br>Num Actions: 62<br>Loss: 550.5336303710938",
          "Epoch: 27<br>Num Actions: 82<br>Loss: 3566.3662109375",
          "Epoch: 28<br>Num Actions: 54<br>Loss: 156.02288818359375",
          "Epoch: 29<br>Num Actions: 64<br>Loss: 448.061279296875",
          "Epoch: 30<br>Num Actions: 76<br>Loss: 801.8484497070312",
          "Epoch: 31<br>Num Actions: 76<br>Loss: 2264.410400390625",
          "Epoch: 32<br>Num Actions: 75<br>Loss: 1368.4146728515625",
          "Epoch: 33<br>Num Actions: 51<br>Loss: 373.5373229980469",
          "Epoch: 34<br>Num Actions: 75<br>Loss: 2097.471435546875",
          "Epoch: 35<br>Num Actions: 83<br>Loss: 3895.4794921875",
          "Epoch: 36<br>Num Actions: 81<br>Loss: 3764.6943359375",
          "Epoch: 37<br>Num Actions: 58<br>Loss: 191.77723693847656",
          "Epoch: 38<br>Num Actions: 55<br>Loss: 291.0339050292969",
          "Epoch: 39<br>Num Actions: 71<br>Loss: 1479.6724853515625",
          "Epoch: 40<br>Num Actions: 79<br>Loss: 1641.8720703125",
          "Epoch: 41<br>Num Actions: 75<br>Loss: 2227.770263671875",
          "Epoch: 42<br>Num Actions: 72<br>Loss: 1158.3826904296875",
          "Epoch: 43<br>Num Actions: 31<br>Loss: 20.07832145690918",
          "Epoch: 44<br>Num Actions: 59<br>Loss: 502.3917541503906",
          "Epoch: 45<br>Num Actions: 54<br>Loss: 164.84149169921875",
          "Epoch: 46<br>Num Actions: 37<br>Loss: 63.26450729370117",
          "Epoch: 47<br>Num Actions: 58<br>Loss: 160.6374969482422",
          "Epoch: 48<br>Num Actions: 62<br>Loss: 727.4691772460938",
          "Epoch: 49<br>Num Actions: 72<br>Loss: 1214.04736328125",
          "Epoch: 50<br>Num Actions: 44<br>Loss: 90.59265899658203",
          "Epoch: 51<br>Num Actions: 73<br>Loss: 2278.656494140625",
          "Epoch: 52<br>Num Actions: 47<br>Loss: 186.2096710205078",
          "Epoch: 53<br>Num Actions: 73<br>Loss: 1159.13671875",
          "Epoch: 54<br>Num Actions: 52<br>Loss: 167.07095336914062",
          "Epoch: 55<br>Num Actions: 66<br>Loss: 826.2653198242188",
          "Epoch: 56<br>Num Actions: 80<br>Loss: 1910.7996826171875",
          "Epoch: 57<br>Num Actions: 76<br>Loss: 1426.0135498046875",
          "Epoch: 58<br>Num Actions: 67<br>Loss: 604.0451049804688",
          "Epoch: 59<br>Num Actions: 62<br>Loss: 817.9755859375",
          "Epoch: 60<br>Num Actions: 53<br>Loss: 108.52863311767578",
          "Epoch: 61<br>Num Actions: 56<br>Loss: 325.8682556152344",
          "Epoch: 62<br>Num Actions: 67<br>Loss: 1973.1199951171875",
          "Epoch: 63<br>Num Actions: 73<br>Loss: 1352.5093994140625",
          "Epoch: 64<br>Num Actions: 72<br>Loss: 1468.5821533203125",
          "Epoch: 65<br>Num Actions: 65<br>Loss: 76.4618911743164",
          "Epoch: 66<br>Num Actions: 41<br>Loss: 37.6055908203125",
          "Epoch: 67<br>Num Actions: 70<br>Loss: 1834.1285400390625",
          "Epoch: 68<br>Num Actions: 83<br>Loss: 4323.31005859375",
          "Epoch: 69<br>Num Actions: 39<br>Loss: 66.61842346191406",
          "Epoch: 70<br>Num Actions: 49<br>Loss: 79.8929214477539",
          "Epoch: 71<br>Num Actions: 68<br>Loss: 1375.3072509765625",
          "Epoch: 72<br>Num Actions: 83<br>Loss: 3771.1689453125",
          "Epoch: 73<br>Num Actions: 61<br>Loss: 240.9721221923828",
          "Epoch: 74<br>Num Actions: 41<br>Loss: 38.85362243652344",
          "Epoch: 75<br>Num Actions: 80<br>Loss: 3150.873046875",
          "Epoch: 76<br>Num Actions: 55<br>Loss: 148.9847869873047",
          "Epoch: 77<br>Num Actions: 21<br>Loss: 363.060302734375",
          "Epoch: 78<br>Num Actions: 50<br>Loss: 229.28594970703125",
          "Epoch: 79<br>Num Actions: 63<br>Loss: 915.2097778320312",
          "Epoch: 80<br>Num Actions: 24<br>Loss: 31.566221237182617",
          "Epoch: 81<br>Num Actions: 70<br>Loss: 750.1715698242188",
          "Epoch: 82<br>Num Actions: 77<br>Loss: 1396.7816162109375",
          "Epoch: 83<br>Num Actions: 37<br>Loss: 35.43059158325195",
          "Epoch: 84<br>Num Actions: 72<br>Loss: 1207.3511962890625",
          "Epoch: 85<br>Num Actions: 81<br>Loss: 2631.12548828125",
          "Epoch: 86<br>Num Actions: 50<br>Loss: 137.7859344482422",
          "Epoch: 87<br>Num Actions: 63<br>Loss: 746.9951782226562",
          "Epoch: 88<br>Num Actions: 64<br>Loss: 392.9971618652344",
          "Epoch: 89<br>Num Actions: 45<br>Loss: 256.27191162109375",
          "Epoch: 90<br>Num Actions: 60<br>Loss: 580.3060913085938",
          "Epoch: 91<br>Num Actions: 33<br>Loss: 35.5695915222168",
          "Epoch: 92<br>Num Actions: 49<br>Loss: 113.32056427001953",
          "Epoch: 93<br>Num Actions: 62<br>Loss: 895.8837890625",
          "Epoch: 94<br>Num Actions: 82<br>Loss: 3683.495849609375",
          "Epoch: 95<br>Num Actions: 71<br>Loss: 2097.966064453125",
          "Epoch: 96<br>Num Actions: 61<br>Loss: 719.18994140625",
          "Epoch: 97<br>Num Actions: 70<br>Loss: 1066.93798828125",
          "Epoch: 98<br>Num Actions: 25<br>Loss: 11.200729370117188",
          "Epoch: 99<br>Num Actions: 75<br>Loss: 2184.219482421875"
         ],
         "type": "scatter3d",
         "x": [
          0,
          1,
          2,
          3,
          4,
          5,
          6,
          7,
          8,
          9,
          10,
          11,
          12,
          13,
          14,
          15,
          16,
          17,
          18,
          19,
          20,
          21,
          22,
          23,
          24,
          25,
          26,
          27,
          28,
          29,
          30,
          31,
          32,
          33,
          34,
          35,
          36,
          37,
          38,
          39,
          40,
          41,
          42,
          43,
          44,
          45,
          46,
          47,
          48,
          49,
          50,
          51,
          52,
          53,
          54,
          55,
          56,
          57,
          58,
          59,
          60,
          61,
          62,
          63,
          64,
          65,
          66,
          67,
          68,
          69,
          70,
          71,
          72,
          73,
          74,
          75,
          76,
          77,
          78,
          79,
          80,
          81,
          82,
          83,
          84,
          85,
          86,
          87,
          88,
          89,
          90,
          91,
          92,
          93,
          94,
          95,
          96,
          97,
          98,
          99
         ],
         "y": [
          83,
          75,
          52,
          83,
          75,
          22,
          75,
          53,
          55,
          74,
          25,
          57,
          79,
          72,
          61,
          72,
          77,
          58,
          74,
          61,
          57,
          51,
          76,
          77,
          83,
          80,
          62,
          82,
          54,
          64,
          76,
          76,
          75,
          51,
          75,
          83,
          81,
          58,
          55,
          71,
          79,
          75,
          72,
          31,
          59,
          54,
          37,
          58,
          62,
          72,
          44,
          73,
          47,
          73,
          52,
          66,
          80,
          76,
          67,
          62,
          53,
          56,
          67,
          73,
          72,
          65,
          41,
          70,
          83,
          39,
          49,
          68,
          83,
          61,
          41,
          80,
          55,
          21,
          50,
          63,
          24,
          70,
          77,
          37,
          72,
          81,
          50,
          63,
          64,
          45,
          60,
          33,
          49,
          62,
          82,
          71,
          61,
          70,
          25,
          75
         ],
         "z": [
          3938.574462890625,
          1765.619140625,
          245.81980895996094,
          3176.224853515625,
          1845.2789306640625,
          11.763319969177246,
          1863.6151123046875,
          298.4870910644531,
          334.4514465332031,
          215.33604431152344,
          97.53719329833984,
          274.9440002441406,
          2770.385498046875,
          2381.43212890625,
          587.6829223632812,
          1439.74853515625,
          3349.281982421875,
          449.4645080566406,
          2677.88671875,
          1024.82861328125,
          220.2887420654297,
          241.33644104003906,
          3987.154052734375,
          2113.924072265625,
          4531.04052734375,
          2554.266357421875,
          550.5336303710938,
          3566.3662109375,
          156.02288818359375,
          448.061279296875,
          801.8484497070312,
          2264.410400390625,
          1368.4146728515625,
          373.5373229980469,
          2097.471435546875,
          3895.4794921875,
          3764.6943359375,
          191.77723693847656,
          291.0339050292969,
          1479.6724853515625,
          1641.8720703125,
          2227.770263671875,
          1158.3826904296875,
          20.07832145690918,
          502.3917541503906,
          164.84149169921875,
          63.26450729370117,
          160.6374969482422,
          727.4691772460938,
          1214.04736328125,
          90.59265899658203,
          2278.656494140625,
          186.2096710205078,
          1159.13671875,
          167.07095336914062,
          826.2653198242188,
          1910.7996826171875,
          1426.0135498046875,
          604.0451049804688,
          817.9755859375,
          108.52863311767578,
          325.8682556152344,
          1973.1199951171875,
          1352.5093994140625,
          1468.5821533203125,
          76.4618911743164,
          37.6055908203125,
          1834.1285400390625,
          4323.31005859375,
          66.61842346191406,
          79.8929214477539,
          1375.3072509765625,
          3771.1689453125,
          240.9721221923828,
          38.85362243652344,
          3150.873046875,
          148.9847869873047,
          363.060302734375,
          229.28594970703125,
          915.2097778320312,
          31.566221237182617,
          750.1715698242188,
          1396.7816162109375,
          35.43059158325195,
          1207.3511962890625,
          2631.12548828125,
          137.7859344482422,
          746.9951782226562,
          392.9971618652344,
          256.27191162109375,
          580.3060913085938,
          35.5695915222168,
          113.32056427001953,
          895.8837890625,
          3683.495849609375,
          2097.966064453125,
          719.18994140625,
          1066.93798828125,
          11.200729370117188,
          2184.219482421875
         ]
        }
       ],
       "layout": {
        "height": 800,
        "scene": {
         "xaxis": {
          "range": [
           0,
           108.9
          ],
          "title": {
           "text": "Epoch"
          }
         },
         "yaxis": {
          "title": {
           "text": "Number of Actions"
          }
         },
         "zaxis": {
          "title": {
           "text": "Loss"
          }
         }
        },
        "template": {
         "data": {
          "bar": [
           {
            "error_x": {
             "color": "#2a3f5f"
            },
            "error_y": {
             "color": "#2a3f5f"
            },
            "marker": {
             "line": {
              "color": "#E5ECF6",
              "width": 0.5
             },
             "pattern": {
              "fillmode": "overlay",
              "size": 10,
              "solidity": 0.2
             }
            },
            "type": "bar"
           }
          ],
          "barpolar": [
           {
            "marker": {
             "line": {
              "color": "#E5ECF6",
              "width": 0.5
             },
             "pattern": {
              "fillmode": "overlay",
              "size": 10,
              "solidity": 0.2
             }
            },
            "type": "barpolar"
           }
          ],
          "carpet": [
           {
            "aaxis": {
             "endlinecolor": "#2a3f5f",
             "gridcolor": "white",
             "linecolor": "white",
             "minorgridcolor": "white",
             "startlinecolor": "#2a3f5f"
            },
            "baxis": {
             "endlinecolor": "#2a3f5f",
             "gridcolor": "white",
             "linecolor": "white",
             "minorgridcolor": "white",
             "startlinecolor": "#2a3f5f"
            },
            "type": "carpet"
           }
          ],
          "choropleth": [
           {
            "colorbar": {
             "outlinewidth": 0,
             "ticks": ""
            },
            "type": "choropleth"
           }
          ],
          "contour": [
           {
            "colorbar": {
             "outlinewidth": 0,
             "ticks": ""
            },
            "colorscale": [
             [
              0,
              "#0d0887"
             ],
             [
              0.1111111111111111,
              "#46039f"
             ],
             [
              0.2222222222222222,
              "#7201a8"
             ],
             [
              0.3333333333333333,
              "#9c179e"
             ],
             [
              0.4444444444444444,
              "#bd3786"
             ],
             [
              0.5555555555555556,
              "#d8576b"
             ],
             [
              0.6666666666666666,
              "#ed7953"
             ],
             [
              0.7777777777777778,
              "#fb9f3a"
             ],
             [
              0.8888888888888888,
              "#fdca26"
             ],
             [
              1,
              "#f0f921"
             ]
            ],
            "type": "contour"
           }
          ],
          "contourcarpet": [
           {
            "colorbar": {
             "outlinewidth": 0,
             "ticks": ""
            },
            "type": "contourcarpet"
           }
          ],
          "heatmap": [
           {
            "colorbar": {
             "outlinewidth": 0,
             "ticks": ""
            },
            "colorscale": [
             [
              0,
              "#0d0887"
             ],
             [
              0.1111111111111111,
              "#46039f"
             ],
             [
              0.2222222222222222,
              "#7201a8"
             ],
             [
              0.3333333333333333,
              "#9c179e"
             ],
             [
              0.4444444444444444,
              "#bd3786"
             ],
             [
              0.5555555555555556,
              "#d8576b"
             ],
             [
              0.6666666666666666,
              "#ed7953"
             ],
             [
              0.7777777777777778,
              "#fb9f3a"
             ],
             [
              0.8888888888888888,
              "#fdca26"
             ],
             [
              1,
              "#f0f921"
             ]
            ],
            "type": "heatmap"
           }
          ],
          "heatmapgl": [
           {
            "colorbar": {
             "outlinewidth": 0,
             "ticks": ""
            },
            "colorscale": [
             [
              0,
              "#0d0887"
             ],
             [
              0.1111111111111111,
              "#46039f"
             ],
             [
              0.2222222222222222,
              "#7201a8"
             ],
             [
              0.3333333333333333,
              "#9c179e"
             ],
             [
              0.4444444444444444,
              "#bd3786"
             ],
             [
              0.5555555555555556,
              "#d8576b"
             ],
             [
              0.6666666666666666,
              "#ed7953"
             ],
             [
              0.7777777777777778,
              "#fb9f3a"
             ],
             [
              0.8888888888888888,
              "#fdca26"
             ],
             [
              1,
              "#f0f921"
             ]
            ],
            "type": "heatmapgl"
           }
          ],
          "histogram": [
           {
            "marker": {
             "pattern": {
              "fillmode": "overlay",
              "size": 10,
              "solidity": 0.2
             }
            },
            "type": "histogram"
           }
          ],
          "histogram2d": [
           {
            "colorbar": {
             "outlinewidth": 0,
             "ticks": ""
            },
            "colorscale": [
             [
              0,
              "#0d0887"
             ],
             [
              0.1111111111111111,
              "#46039f"
             ],
             [
              0.2222222222222222,
              "#7201a8"
             ],
             [
              0.3333333333333333,
              "#9c179e"
             ],
             [
              0.4444444444444444,
              "#bd3786"
             ],
             [
              0.5555555555555556,
              "#d8576b"
             ],
             [
              0.6666666666666666,
              "#ed7953"
             ],
             [
              0.7777777777777778,
              "#fb9f3a"
             ],
             [
              0.8888888888888888,
              "#fdca26"
             ],
             [
              1,
              "#f0f921"
             ]
            ],
            "type": "histogram2d"
           }
          ],
          "histogram2dcontour": [
           {
            "colorbar": {
             "outlinewidth": 0,
             "ticks": ""
            },
            "colorscale": [
             [
              0,
              "#0d0887"
             ],
             [
              0.1111111111111111,
              "#46039f"
             ],
             [
              0.2222222222222222,
              "#7201a8"
             ],
             [
              0.3333333333333333,
              "#9c179e"
             ],
             [
              0.4444444444444444,
              "#bd3786"
             ],
             [
              0.5555555555555556,
              "#d8576b"
             ],
             [
              0.6666666666666666,
              "#ed7953"
             ],
             [
              0.7777777777777778,
              "#fb9f3a"
             ],
             [
              0.8888888888888888,
              "#fdca26"
             ],
             [
              1,
              "#f0f921"
             ]
            ],
            "type": "histogram2dcontour"
           }
          ],
          "mesh3d": [
           {
            "colorbar": {
             "outlinewidth": 0,
             "ticks": ""
            },
            "type": "mesh3d"
           }
          ],
          "parcoords": [
           {
            "line": {
             "colorbar": {
              "outlinewidth": 0,
              "ticks": ""
             }
            },
            "type": "parcoords"
           }
          ],
          "pie": [
           {
            "automargin": true,
            "type": "pie"
           }
          ],
          "scatter": [
           {
            "fillpattern": {
             "fillmode": "overlay",
             "size": 10,
             "solidity": 0.2
            },
            "type": "scatter"
           }
          ],
          "scatter3d": [
           {
            "line": {
             "colorbar": {
              "outlinewidth": 0,
              "ticks": ""
             }
            },
            "marker": {
             "colorbar": {
              "outlinewidth": 0,
              "ticks": ""
             }
            },
            "type": "scatter3d"
           }
          ],
          "scattercarpet": [
           {
            "marker": {
             "colorbar": {
              "outlinewidth": 0,
              "ticks": ""
             }
            },
            "type": "scattercarpet"
           }
          ],
          "scattergeo": [
           {
            "marker": {
             "colorbar": {
              "outlinewidth": 0,
              "ticks": ""
             }
            },
            "type": "scattergeo"
           }
          ],
          "scattergl": [
           {
            "marker": {
             "colorbar": {
              "outlinewidth": 0,
              "ticks": ""
             }
            },
            "type": "scattergl"
           }
          ],
          "scattermapbox": [
           {
            "marker": {
             "colorbar": {
              "outlinewidth": 0,
              "ticks": ""
             }
            },
            "type": "scattermapbox"
           }
          ],
          "scatterpolar": [
           {
            "marker": {
             "colorbar": {
              "outlinewidth": 0,
              "ticks": ""
             }
            },
            "type": "scatterpolar"
           }
          ],
          "scatterpolargl": [
           {
            "marker": {
             "colorbar": {
              "outlinewidth": 0,
              "ticks": ""
             }
            },
            "type": "scatterpolargl"
           }
          ],
          "scatterternary": [
           {
            "marker": {
             "colorbar": {
              "outlinewidth": 0,
              "ticks": ""
             }
            },
            "type": "scatterternary"
           }
          ],
          "surface": [
           {
            "colorbar": {
             "outlinewidth": 0,
             "ticks": ""
            },
            "colorscale": [
             [
              0,
              "#0d0887"
             ],
             [
              0.1111111111111111,
              "#46039f"
             ],
             [
              0.2222222222222222,
              "#7201a8"
             ],
             [
              0.3333333333333333,
              "#9c179e"
             ],
             [
              0.4444444444444444,
              "#bd3786"
             ],
             [
              0.5555555555555556,
              "#d8576b"
             ],
             [
              0.6666666666666666,
              "#ed7953"
             ],
             [
              0.7777777777777778,
              "#fb9f3a"
             ],
             [
              0.8888888888888888,
              "#fdca26"
             ],
             [
              1,
              "#f0f921"
             ]
            ],
            "type": "surface"
           }
          ],
          "table": [
           {
            "cells": {
             "fill": {
              "color": "#EBF0F8"
             },
             "line": {
              "color": "white"
             }
            },
            "header": {
             "fill": {
              "color": "#C8D4E3"
             },
             "line": {
              "color": "white"
             }
            },
            "type": "table"
           }
          ]
         },
         "layout": {
          "annotationdefaults": {
           "arrowcolor": "#2a3f5f",
           "arrowhead": 0,
           "arrowwidth": 1
          },
          "autotypenumbers": "strict",
          "coloraxis": {
           "colorbar": {
            "outlinewidth": 0,
            "ticks": ""
           }
          },
          "colorscale": {
           "diverging": [
            [
             0,
             "#8e0152"
            ],
            [
             0.1,
             "#c51b7d"
            ],
            [
             0.2,
             "#de77ae"
            ],
            [
             0.3,
             "#f1b6da"
            ],
            [
             0.4,
             "#fde0ef"
            ],
            [
             0.5,
             "#f7f7f7"
            ],
            [
             0.6,
             "#e6f5d0"
            ],
            [
             0.7,
             "#b8e186"
            ],
            [
             0.8,
             "#7fbc41"
            ],
            [
             0.9,
             "#4d9221"
            ],
            [
             1,
             "#276419"
            ]
           ],
           "sequential": [
            [
             0,
             "#0d0887"
            ],
            [
             0.1111111111111111,
             "#46039f"
            ],
            [
             0.2222222222222222,
             "#7201a8"
            ],
            [
             0.3333333333333333,
             "#9c179e"
            ],
            [
             0.4444444444444444,
             "#bd3786"
            ],
            [
             0.5555555555555556,
             "#d8576b"
            ],
            [
             0.6666666666666666,
             "#ed7953"
            ],
            [
             0.7777777777777778,
             "#fb9f3a"
            ],
            [
             0.8888888888888888,
             "#fdca26"
            ],
            [
             1,
             "#f0f921"
            ]
           ],
           "sequentialminus": [
            [
             0,
             "#0d0887"
            ],
            [
             0.1111111111111111,
             "#46039f"
            ],
            [
             0.2222222222222222,
             "#7201a8"
            ],
            [
             0.3333333333333333,
             "#9c179e"
            ],
            [
             0.4444444444444444,
             "#bd3786"
            ],
            [
             0.5555555555555556,
             "#d8576b"
            ],
            [
             0.6666666666666666,
             "#ed7953"
            ],
            [
             0.7777777777777778,
             "#fb9f3a"
            ],
            [
             0.8888888888888888,
             "#fdca26"
            ],
            [
             1,
             "#f0f921"
            ]
           ]
          },
          "colorway": [
           "#636efa",
           "#EF553B",
           "#00cc96",
           "#ab63fa",
           "#FFA15A",
           "#19d3f3",
           "#FF6692",
           "#B6E880",
           "#FF97FF",
           "#FECB52"
          ],
          "font": {
           "color": "#2a3f5f"
          },
          "geo": {
           "bgcolor": "white",
           "lakecolor": "white",
           "landcolor": "#E5ECF6",
           "showlakes": true,
           "showland": true,
           "subunitcolor": "white"
          },
          "hoverlabel": {
           "align": "left"
          },
          "hovermode": "closest",
          "mapbox": {
           "style": "light"
          },
          "paper_bgcolor": "white",
          "plot_bgcolor": "#E5ECF6",
          "polar": {
           "angularaxis": {
            "gridcolor": "white",
            "linecolor": "white",
            "ticks": ""
           },
           "bgcolor": "#E5ECF6",
           "radialaxis": {
            "gridcolor": "white",
            "linecolor": "white",
            "ticks": ""
           }
          },
          "scene": {
           "xaxis": {
            "backgroundcolor": "#E5ECF6",
            "gridcolor": "white",
            "gridwidth": 2,
            "linecolor": "white",
            "showbackground": true,
            "ticks": "",
            "zerolinecolor": "white"
           },
           "yaxis": {
            "backgroundcolor": "#E5ECF6",
            "gridcolor": "white",
            "gridwidth": 2,
            "linecolor": "white",
            "showbackground": true,
            "ticks": "",
            "zerolinecolor": "white"
           },
           "zaxis": {
            "backgroundcolor": "#E5ECF6",
            "gridcolor": "white",
            "gridwidth": 2,
            "linecolor": "white",
            "showbackground": true,
            "ticks": "",
            "zerolinecolor": "white"
           }
          },
          "shapedefaults": {
           "line": {
            "color": "#2a3f5f"
           }
          },
          "ternary": {
           "aaxis": {
            "gridcolor": "white",
            "linecolor": "white",
            "ticks": ""
           },
           "baxis": {
            "gridcolor": "white",
            "linecolor": "white",
            "ticks": ""
           },
           "bgcolor": "#E5ECF6",
           "caxis": {
            "gridcolor": "white",
            "linecolor": "white",
            "ticks": ""
           }
          },
          "title": {
           "x": 0.05
          },
          "xaxis": {
           "automargin": true,
           "gridcolor": "white",
           "linecolor": "white",
           "ticks": "",
           "title": {
            "standoff": 15
           },
           "zerolinecolor": "white",
           "zerolinewidth": 2
          },
          "yaxis": {
           "automargin": true,
           "gridcolor": "white",
           "linecolor": "white",
           "ticks": "",
           "title": {
            "standoff": 15
           },
           "zerolinecolor": "white",
           "zerolinewidth": 2
          }
         }
        },
        "width": 1000
       }
      }
     },
     "metadata": {},
     "output_type": "display_data"
    }
   ],
   "source": [
    "import plotly.graph_objects as go\n",
    "# Extract the data\n",
    "epochs = report_data['epoch'].values\n",
    "num_actions = report_data['num_actions'].values\n",
    "losses = report_data['loss'].values\n",
    "\n",
    "# Extract the data\n",
    "epochs = report_data['epoch'].values\n",
    "num_actions = report_data['num_actions'].values\n",
    "losses = report_data['loss'].values\n",
    "\n",
    "# Create the 3D scatter plot\n",
    "fig = go.Figure(data=[go.Scatter3d(\n",
    "    x=epochs,\n",
    "    y=num_actions,\n",
    "    z=losses,\n",
    "    mode='markers',\n",
    "    marker=dict(\n",
    "        size=5,\n",
    "        color=losses,\n",
    "        colorscale='Viridis',\n",
    "        opacity=0.8\n",
    "    ),\n",
    "    text=[f'Epoch: {e}<br>Num Actions: {n}<br>Loss: {l}' for e, n, l in zip(epochs, num_actions, losses)],\n",
    "    hoverinfo='text'\n",
    ")])\n",
    "\n",
    "# Update the layout\n",
    "fig.update_layout(\n",
    "    scene=dict(\n",
    "        xaxis=dict(\n",
    "            title='Epoch',\n",
    "            range=[0, max(epochs) * 1.1]  # Extend the range slightly beyond the max epoch\n",
    "        ),\n",
    "        yaxis=dict(\n",
    "            title='Number of Actions'\n",
    "        ),\n",
    "        zaxis=dict(\n",
    "            title='Loss'\n",
    "        )\n",
    "    ),\n",
    "    width=1000,\n",
    "    height=800\n",
    ")\n",
    "\n",
    "# Show the plot\n",
    "fig.show()"
   ]
  },
  {
   "cell_type": "code",
   "execution_count": 15,
   "metadata": {},
   "outputs": [
    {
     "data": {
      "application/vnd.plotly.v1+json": {
       "config": {
        "plotlyServerURL": "https://plot.ly"
       },
       "data": [
        {
         "hoverinfo": "text",
         "marker": {
          "color": "blue",
          "size": 5
         },
         "mode": "lines+markers",
         "text": [
          "Epoch: 0<br>Loss: 3938.574462890625",
          "Epoch: 1<br>Loss: 1765.619140625",
          "Epoch: 2<br>Loss: 245.81980895996094",
          "Epoch: 3<br>Loss: 3176.224853515625",
          "Epoch: 4<br>Loss: 1845.2789306640625",
          "Epoch: 5<br>Loss: 11.763319969177246",
          "Epoch: 6<br>Loss: 1863.6151123046875",
          "Epoch: 7<br>Loss: 298.4870910644531",
          "Epoch: 8<br>Loss: 334.4514465332031",
          "Epoch: 9<br>Loss: 215.33604431152344",
          "Epoch: 10<br>Loss: 97.53719329833984",
          "Epoch: 11<br>Loss: 274.9440002441406",
          "Epoch: 12<br>Loss: 2770.385498046875",
          "Epoch: 13<br>Loss: 2381.43212890625",
          "Epoch: 14<br>Loss: 587.6829223632812",
          "Epoch: 15<br>Loss: 1439.74853515625",
          "Epoch: 16<br>Loss: 3349.281982421875",
          "Epoch: 17<br>Loss: 449.4645080566406",
          "Epoch: 18<br>Loss: 2677.88671875",
          "Epoch: 19<br>Loss: 1024.82861328125",
          "Epoch: 20<br>Loss: 220.2887420654297",
          "Epoch: 21<br>Loss: 241.33644104003906",
          "Epoch: 22<br>Loss: 3987.154052734375",
          "Epoch: 23<br>Loss: 2113.924072265625",
          "Epoch: 24<br>Loss: 4531.04052734375",
          "Epoch: 25<br>Loss: 2554.266357421875",
          "Epoch: 26<br>Loss: 550.5336303710938",
          "Epoch: 27<br>Loss: 3566.3662109375",
          "Epoch: 28<br>Loss: 156.02288818359375",
          "Epoch: 29<br>Loss: 448.061279296875",
          "Epoch: 30<br>Loss: 801.8484497070312",
          "Epoch: 31<br>Loss: 2264.410400390625",
          "Epoch: 32<br>Loss: 1368.4146728515625",
          "Epoch: 33<br>Loss: 373.5373229980469",
          "Epoch: 34<br>Loss: 2097.471435546875",
          "Epoch: 35<br>Loss: 3895.4794921875",
          "Epoch: 36<br>Loss: 3764.6943359375",
          "Epoch: 37<br>Loss: 191.77723693847656",
          "Epoch: 38<br>Loss: 291.0339050292969",
          "Epoch: 39<br>Loss: 1479.6724853515625",
          "Epoch: 40<br>Loss: 1641.8720703125",
          "Epoch: 41<br>Loss: 2227.770263671875",
          "Epoch: 42<br>Loss: 1158.3826904296875",
          "Epoch: 43<br>Loss: 20.07832145690918",
          "Epoch: 44<br>Loss: 502.3917541503906",
          "Epoch: 45<br>Loss: 164.84149169921875",
          "Epoch: 46<br>Loss: 63.26450729370117",
          "Epoch: 47<br>Loss: 160.6374969482422",
          "Epoch: 48<br>Loss: 727.4691772460938",
          "Epoch: 49<br>Loss: 1214.04736328125",
          "Epoch: 50<br>Loss: 90.59265899658203",
          "Epoch: 51<br>Loss: 2278.656494140625",
          "Epoch: 52<br>Loss: 186.2096710205078",
          "Epoch: 53<br>Loss: 1159.13671875",
          "Epoch: 54<br>Loss: 167.07095336914062",
          "Epoch: 55<br>Loss: 826.2653198242188",
          "Epoch: 56<br>Loss: 1910.7996826171875",
          "Epoch: 57<br>Loss: 1426.0135498046875",
          "Epoch: 58<br>Loss: 604.0451049804688",
          "Epoch: 59<br>Loss: 817.9755859375",
          "Epoch: 60<br>Loss: 108.52863311767578",
          "Epoch: 61<br>Loss: 325.8682556152344",
          "Epoch: 62<br>Loss: 1973.1199951171875",
          "Epoch: 63<br>Loss: 1352.5093994140625",
          "Epoch: 64<br>Loss: 1468.5821533203125",
          "Epoch: 65<br>Loss: 76.4618911743164",
          "Epoch: 66<br>Loss: 37.6055908203125",
          "Epoch: 67<br>Loss: 1834.1285400390625",
          "Epoch: 68<br>Loss: 4323.31005859375",
          "Epoch: 69<br>Loss: 66.61842346191406",
          "Epoch: 70<br>Loss: 79.8929214477539",
          "Epoch: 71<br>Loss: 1375.3072509765625",
          "Epoch: 72<br>Loss: 3771.1689453125",
          "Epoch: 73<br>Loss: 240.9721221923828",
          "Epoch: 74<br>Loss: 38.85362243652344",
          "Epoch: 75<br>Loss: 3150.873046875",
          "Epoch: 76<br>Loss: 148.9847869873047",
          "Epoch: 77<br>Loss: 363.060302734375",
          "Epoch: 78<br>Loss: 229.28594970703125",
          "Epoch: 79<br>Loss: 915.2097778320312",
          "Epoch: 80<br>Loss: 31.566221237182617",
          "Epoch: 81<br>Loss: 750.1715698242188",
          "Epoch: 82<br>Loss: 1396.7816162109375",
          "Epoch: 83<br>Loss: 35.43059158325195",
          "Epoch: 84<br>Loss: 1207.3511962890625",
          "Epoch: 85<br>Loss: 2631.12548828125",
          "Epoch: 86<br>Loss: 137.7859344482422",
          "Epoch: 87<br>Loss: 746.9951782226562",
          "Epoch: 88<br>Loss: 392.9971618652344",
          "Epoch: 89<br>Loss: 256.27191162109375",
          "Epoch: 90<br>Loss: 580.3060913085938",
          "Epoch: 91<br>Loss: 35.5695915222168",
          "Epoch: 92<br>Loss: 113.32056427001953",
          "Epoch: 93<br>Loss: 895.8837890625",
          "Epoch: 94<br>Loss: 3683.495849609375",
          "Epoch: 95<br>Loss: 2097.966064453125",
          "Epoch: 96<br>Loss: 719.18994140625",
          "Epoch: 97<br>Loss: 1066.93798828125",
          "Epoch: 98<br>Loss: 11.200729370117188",
          "Epoch: 99<br>Loss: 2184.219482421875"
         ],
         "type": "scatter",
         "x": [
          0,
          1,
          2,
          3,
          4,
          5,
          6,
          7,
          8,
          9,
          10,
          11,
          12,
          13,
          14,
          15,
          16,
          17,
          18,
          19,
          20,
          21,
          22,
          23,
          24,
          25,
          26,
          27,
          28,
          29,
          30,
          31,
          32,
          33,
          34,
          35,
          36,
          37,
          38,
          39,
          40,
          41,
          42,
          43,
          44,
          45,
          46,
          47,
          48,
          49,
          50,
          51,
          52,
          53,
          54,
          55,
          56,
          57,
          58,
          59,
          60,
          61,
          62,
          63,
          64,
          65,
          66,
          67,
          68,
          69,
          70,
          71,
          72,
          73,
          74,
          75,
          76,
          77,
          78,
          79,
          80,
          81,
          82,
          83,
          84,
          85,
          86,
          87,
          88,
          89,
          90,
          91,
          92,
          93,
          94,
          95,
          96,
          97,
          98,
          99
         ],
         "y": [
          3938.574462890625,
          1765.619140625,
          245.81980895996094,
          3176.224853515625,
          1845.2789306640625,
          11.763319969177246,
          1863.6151123046875,
          298.4870910644531,
          334.4514465332031,
          215.33604431152344,
          97.53719329833984,
          274.9440002441406,
          2770.385498046875,
          2381.43212890625,
          587.6829223632812,
          1439.74853515625,
          3349.281982421875,
          449.4645080566406,
          2677.88671875,
          1024.82861328125,
          220.2887420654297,
          241.33644104003906,
          3987.154052734375,
          2113.924072265625,
          4531.04052734375,
          2554.266357421875,
          550.5336303710938,
          3566.3662109375,
          156.02288818359375,
          448.061279296875,
          801.8484497070312,
          2264.410400390625,
          1368.4146728515625,
          373.5373229980469,
          2097.471435546875,
          3895.4794921875,
          3764.6943359375,
          191.77723693847656,
          291.0339050292969,
          1479.6724853515625,
          1641.8720703125,
          2227.770263671875,
          1158.3826904296875,
          20.07832145690918,
          502.3917541503906,
          164.84149169921875,
          63.26450729370117,
          160.6374969482422,
          727.4691772460938,
          1214.04736328125,
          90.59265899658203,
          2278.656494140625,
          186.2096710205078,
          1159.13671875,
          167.07095336914062,
          826.2653198242188,
          1910.7996826171875,
          1426.0135498046875,
          604.0451049804688,
          817.9755859375,
          108.52863311767578,
          325.8682556152344,
          1973.1199951171875,
          1352.5093994140625,
          1468.5821533203125,
          76.4618911743164,
          37.6055908203125,
          1834.1285400390625,
          4323.31005859375,
          66.61842346191406,
          79.8929214477539,
          1375.3072509765625,
          3771.1689453125,
          240.9721221923828,
          38.85362243652344,
          3150.873046875,
          148.9847869873047,
          363.060302734375,
          229.28594970703125,
          915.2097778320312,
          31.566221237182617,
          750.1715698242188,
          1396.7816162109375,
          35.43059158325195,
          1207.3511962890625,
          2631.12548828125,
          137.7859344482422,
          746.9951782226562,
          392.9971618652344,
          256.27191162109375,
          580.3060913085938,
          35.5695915222168,
          113.32056427001953,
          895.8837890625,
          3683.495849609375,
          2097.966064453125,
          719.18994140625,
          1066.93798828125,
          11.200729370117188,
          2184.219482421875
         ]
        }
       ],
       "layout": {
        "height": 600,
        "template": {
         "data": {
          "bar": [
           {
            "error_x": {
             "color": "#2a3f5f"
            },
            "error_y": {
             "color": "#2a3f5f"
            },
            "marker": {
             "line": {
              "color": "#E5ECF6",
              "width": 0.5
             },
             "pattern": {
              "fillmode": "overlay",
              "size": 10,
              "solidity": 0.2
             }
            },
            "type": "bar"
           }
          ],
          "barpolar": [
           {
            "marker": {
             "line": {
              "color": "#E5ECF6",
              "width": 0.5
             },
             "pattern": {
              "fillmode": "overlay",
              "size": 10,
              "solidity": 0.2
             }
            },
            "type": "barpolar"
           }
          ],
          "carpet": [
           {
            "aaxis": {
             "endlinecolor": "#2a3f5f",
             "gridcolor": "white",
             "linecolor": "white",
             "minorgridcolor": "white",
             "startlinecolor": "#2a3f5f"
            },
            "baxis": {
             "endlinecolor": "#2a3f5f",
             "gridcolor": "white",
             "linecolor": "white",
             "minorgridcolor": "white",
             "startlinecolor": "#2a3f5f"
            },
            "type": "carpet"
           }
          ],
          "choropleth": [
           {
            "colorbar": {
             "outlinewidth": 0,
             "ticks": ""
            },
            "type": "choropleth"
           }
          ],
          "contour": [
           {
            "colorbar": {
             "outlinewidth": 0,
             "ticks": ""
            },
            "colorscale": [
             [
              0,
              "#0d0887"
             ],
             [
              0.1111111111111111,
              "#46039f"
             ],
             [
              0.2222222222222222,
              "#7201a8"
             ],
             [
              0.3333333333333333,
              "#9c179e"
             ],
             [
              0.4444444444444444,
              "#bd3786"
             ],
             [
              0.5555555555555556,
              "#d8576b"
             ],
             [
              0.6666666666666666,
              "#ed7953"
             ],
             [
              0.7777777777777778,
              "#fb9f3a"
             ],
             [
              0.8888888888888888,
              "#fdca26"
             ],
             [
              1,
              "#f0f921"
             ]
            ],
            "type": "contour"
           }
          ],
          "contourcarpet": [
           {
            "colorbar": {
             "outlinewidth": 0,
             "ticks": ""
            },
            "type": "contourcarpet"
           }
          ],
          "heatmap": [
           {
            "colorbar": {
             "outlinewidth": 0,
             "ticks": ""
            },
            "colorscale": [
             [
              0,
              "#0d0887"
             ],
             [
              0.1111111111111111,
              "#46039f"
             ],
             [
              0.2222222222222222,
              "#7201a8"
             ],
             [
              0.3333333333333333,
              "#9c179e"
             ],
             [
              0.4444444444444444,
              "#bd3786"
             ],
             [
              0.5555555555555556,
              "#d8576b"
             ],
             [
              0.6666666666666666,
              "#ed7953"
             ],
             [
              0.7777777777777778,
              "#fb9f3a"
             ],
             [
              0.8888888888888888,
              "#fdca26"
             ],
             [
              1,
              "#f0f921"
             ]
            ],
            "type": "heatmap"
           }
          ],
          "heatmapgl": [
           {
            "colorbar": {
             "outlinewidth": 0,
             "ticks": ""
            },
            "colorscale": [
             [
              0,
              "#0d0887"
             ],
             [
              0.1111111111111111,
              "#46039f"
             ],
             [
              0.2222222222222222,
              "#7201a8"
             ],
             [
              0.3333333333333333,
              "#9c179e"
             ],
             [
              0.4444444444444444,
              "#bd3786"
             ],
             [
              0.5555555555555556,
              "#d8576b"
             ],
             [
              0.6666666666666666,
              "#ed7953"
             ],
             [
              0.7777777777777778,
              "#fb9f3a"
             ],
             [
              0.8888888888888888,
              "#fdca26"
             ],
             [
              1,
              "#f0f921"
             ]
            ],
            "type": "heatmapgl"
           }
          ],
          "histogram": [
           {
            "marker": {
             "pattern": {
              "fillmode": "overlay",
              "size": 10,
              "solidity": 0.2
             }
            },
            "type": "histogram"
           }
          ],
          "histogram2d": [
           {
            "colorbar": {
             "outlinewidth": 0,
             "ticks": ""
            },
            "colorscale": [
             [
              0,
              "#0d0887"
             ],
             [
              0.1111111111111111,
              "#46039f"
             ],
             [
              0.2222222222222222,
              "#7201a8"
             ],
             [
              0.3333333333333333,
              "#9c179e"
             ],
             [
              0.4444444444444444,
              "#bd3786"
             ],
             [
              0.5555555555555556,
              "#d8576b"
             ],
             [
              0.6666666666666666,
              "#ed7953"
             ],
             [
              0.7777777777777778,
              "#fb9f3a"
             ],
             [
              0.8888888888888888,
              "#fdca26"
             ],
             [
              1,
              "#f0f921"
             ]
            ],
            "type": "histogram2d"
           }
          ],
          "histogram2dcontour": [
           {
            "colorbar": {
             "outlinewidth": 0,
             "ticks": ""
            },
            "colorscale": [
             [
              0,
              "#0d0887"
             ],
             [
              0.1111111111111111,
              "#46039f"
             ],
             [
              0.2222222222222222,
              "#7201a8"
             ],
             [
              0.3333333333333333,
              "#9c179e"
             ],
             [
              0.4444444444444444,
              "#bd3786"
             ],
             [
              0.5555555555555556,
              "#d8576b"
             ],
             [
              0.6666666666666666,
              "#ed7953"
             ],
             [
              0.7777777777777778,
              "#fb9f3a"
             ],
             [
              0.8888888888888888,
              "#fdca26"
             ],
             [
              1,
              "#f0f921"
             ]
            ],
            "type": "histogram2dcontour"
           }
          ],
          "mesh3d": [
           {
            "colorbar": {
             "outlinewidth": 0,
             "ticks": ""
            },
            "type": "mesh3d"
           }
          ],
          "parcoords": [
           {
            "line": {
             "colorbar": {
              "outlinewidth": 0,
              "ticks": ""
             }
            },
            "type": "parcoords"
           }
          ],
          "pie": [
           {
            "automargin": true,
            "type": "pie"
           }
          ],
          "scatter": [
           {
            "fillpattern": {
             "fillmode": "overlay",
             "size": 10,
             "solidity": 0.2
            },
            "type": "scatter"
           }
          ],
          "scatter3d": [
           {
            "line": {
             "colorbar": {
              "outlinewidth": 0,
              "ticks": ""
             }
            },
            "marker": {
             "colorbar": {
              "outlinewidth": 0,
              "ticks": ""
             }
            },
            "type": "scatter3d"
           }
          ],
          "scattercarpet": [
           {
            "marker": {
             "colorbar": {
              "outlinewidth": 0,
              "ticks": ""
             }
            },
            "type": "scattercarpet"
           }
          ],
          "scattergeo": [
           {
            "marker": {
             "colorbar": {
              "outlinewidth": 0,
              "ticks": ""
             }
            },
            "type": "scattergeo"
           }
          ],
          "scattergl": [
           {
            "marker": {
             "colorbar": {
              "outlinewidth": 0,
              "ticks": ""
             }
            },
            "type": "scattergl"
           }
          ],
          "scattermapbox": [
           {
            "marker": {
             "colorbar": {
              "outlinewidth": 0,
              "ticks": ""
             }
            },
            "type": "scattermapbox"
           }
          ],
          "scatterpolar": [
           {
            "marker": {
             "colorbar": {
              "outlinewidth": 0,
              "ticks": ""
             }
            },
            "type": "scatterpolar"
           }
          ],
          "scatterpolargl": [
           {
            "marker": {
             "colorbar": {
              "outlinewidth": 0,
              "ticks": ""
             }
            },
            "type": "scatterpolargl"
           }
          ],
          "scatterternary": [
           {
            "marker": {
             "colorbar": {
              "outlinewidth": 0,
              "ticks": ""
             }
            },
            "type": "scatterternary"
           }
          ],
          "surface": [
           {
            "colorbar": {
             "outlinewidth": 0,
             "ticks": ""
            },
            "colorscale": [
             [
              0,
              "#0d0887"
             ],
             [
              0.1111111111111111,
              "#46039f"
             ],
             [
              0.2222222222222222,
              "#7201a8"
             ],
             [
              0.3333333333333333,
              "#9c179e"
             ],
             [
              0.4444444444444444,
              "#bd3786"
             ],
             [
              0.5555555555555556,
              "#d8576b"
             ],
             [
              0.6666666666666666,
              "#ed7953"
             ],
             [
              0.7777777777777778,
              "#fb9f3a"
             ],
             [
              0.8888888888888888,
              "#fdca26"
             ],
             [
              1,
              "#f0f921"
             ]
            ],
            "type": "surface"
           }
          ],
          "table": [
           {
            "cells": {
             "fill": {
              "color": "#EBF0F8"
             },
             "line": {
              "color": "white"
             }
            },
            "header": {
             "fill": {
              "color": "#C8D4E3"
             },
             "line": {
              "color": "white"
             }
            },
            "type": "table"
           }
          ]
         },
         "layout": {
          "annotationdefaults": {
           "arrowcolor": "#2a3f5f",
           "arrowhead": 0,
           "arrowwidth": 1
          },
          "autotypenumbers": "strict",
          "coloraxis": {
           "colorbar": {
            "outlinewidth": 0,
            "ticks": ""
           }
          },
          "colorscale": {
           "diverging": [
            [
             0,
             "#8e0152"
            ],
            [
             0.1,
             "#c51b7d"
            ],
            [
             0.2,
             "#de77ae"
            ],
            [
             0.3,
             "#f1b6da"
            ],
            [
             0.4,
             "#fde0ef"
            ],
            [
             0.5,
             "#f7f7f7"
            ],
            [
             0.6,
             "#e6f5d0"
            ],
            [
             0.7,
             "#b8e186"
            ],
            [
             0.8,
             "#7fbc41"
            ],
            [
             0.9,
             "#4d9221"
            ],
            [
             1,
             "#276419"
            ]
           ],
           "sequential": [
            [
             0,
             "#0d0887"
            ],
            [
             0.1111111111111111,
             "#46039f"
            ],
            [
             0.2222222222222222,
             "#7201a8"
            ],
            [
             0.3333333333333333,
             "#9c179e"
            ],
            [
             0.4444444444444444,
             "#bd3786"
            ],
            [
             0.5555555555555556,
             "#d8576b"
            ],
            [
             0.6666666666666666,
             "#ed7953"
            ],
            [
             0.7777777777777778,
             "#fb9f3a"
            ],
            [
             0.8888888888888888,
             "#fdca26"
            ],
            [
             1,
             "#f0f921"
            ]
           ],
           "sequentialminus": [
            [
             0,
             "#0d0887"
            ],
            [
             0.1111111111111111,
             "#46039f"
            ],
            [
             0.2222222222222222,
             "#7201a8"
            ],
            [
             0.3333333333333333,
             "#9c179e"
            ],
            [
             0.4444444444444444,
             "#bd3786"
            ],
            [
             0.5555555555555556,
             "#d8576b"
            ],
            [
             0.6666666666666666,
             "#ed7953"
            ],
            [
             0.7777777777777778,
             "#fb9f3a"
            ],
            [
             0.8888888888888888,
             "#fdca26"
            ],
            [
             1,
             "#f0f921"
            ]
           ]
          },
          "colorway": [
           "#636efa",
           "#EF553B",
           "#00cc96",
           "#ab63fa",
           "#FFA15A",
           "#19d3f3",
           "#FF6692",
           "#B6E880",
           "#FF97FF",
           "#FECB52"
          ],
          "font": {
           "color": "#2a3f5f"
          },
          "geo": {
           "bgcolor": "white",
           "lakecolor": "white",
           "landcolor": "#E5ECF6",
           "showlakes": true,
           "showland": true,
           "subunitcolor": "white"
          },
          "hoverlabel": {
           "align": "left"
          },
          "hovermode": "closest",
          "mapbox": {
           "style": "light"
          },
          "paper_bgcolor": "white",
          "plot_bgcolor": "#E5ECF6",
          "polar": {
           "angularaxis": {
            "gridcolor": "white",
            "linecolor": "white",
            "ticks": ""
           },
           "bgcolor": "#E5ECF6",
           "radialaxis": {
            "gridcolor": "white",
            "linecolor": "white",
            "ticks": ""
           }
          },
          "scene": {
           "xaxis": {
            "backgroundcolor": "#E5ECF6",
            "gridcolor": "white",
            "gridwidth": 2,
            "linecolor": "white",
            "showbackground": true,
            "ticks": "",
            "zerolinecolor": "white"
           },
           "yaxis": {
            "backgroundcolor": "#E5ECF6",
            "gridcolor": "white",
            "gridwidth": 2,
            "linecolor": "white",
            "showbackground": true,
            "ticks": "",
            "zerolinecolor": "white"
           },
           "zaxis": {
            "backgroundcolor": "#E5ECF6",
            "gridcolor": "white",
            "gridwidth": 2,
            "linecolor": "white",
            "showbackground": true,
            "ticks": "",
            "zerolinecolor": "white"
           }
          },
          "shapedefaults": {
           "line": {
            "color": "#2a3f5f"
           }
          },
          "ternary": {
           "aaxis": {
            "gridcolor": "white",
            "linecolor": "white",
            "ticks": ""
           },
           "baxis": {
            "gridcolor": "white",
            "linecolor": "white",
            "ticks": ""
           },
           "bgcolor": "#E5ECF6",
           "caxis": {
            "gridcolor": "white",
            "linecolor": "white",
            "ticks": ""
           }
          },
          "title": {
           "x": 0.05
          },
          "xaxis": {
           "automargin": true,
           "gridcolor": "white",
           "linecolor": "white",
           "ticks": "",
           "title": {
            "standoff": 15
           },
           "zerolinecolor": "white",
           "zerolinewidth": 2
          },
          "yaxis": {
           "automargin": true,
           "gridcolor": "white",
           "linecolor": "white",
           "ticks": "",
           "title": {
            "standoff": 15
           },
           "zerolinecolor": "white",
           "zerolinewidth": 2
          }
         }
        },
        "title": {
         "text": "Epoch vs Loss"
        },
        "width": 1000,
        "xaxis": {
         "title": {
          "text": "Epoch"
         }
        },
        "yaxis": {
         "title": {
          "text": "Loss"
         }
        }
       }
      }
     },
     "metadata": {},
     "output_type": "display_data"
    }
   ],
   "source": [
    "# Extract the data\n",
    "epochs = report_data['epoch'].values\n",
    "losses = report_data['loss'].values\n",
    "\n",
    "# Create the 2D scatter plot\n",
    "fig = go.Figure(data=go.Scatter(\n",
    "    x=epochs,\n",
    "    y=losses,\n",
    "    mode='lines+markers',\n",
    "    marker=dict(\n",
    "        size=5,\n",
    "        color='blue'\n",
    "    ),\n",
    "    text=[f'Epoch: {e}<br>Loss: {l}' for e, l in zip(epochs, losses)],\n",
    "    hoverinfo='text'\n",
    "))\n",
    "\n",
    "# Update the layout\n",
    "fig.update_layout(\n",
    "    xaxis=dict(\n",
    "        title='Epoch'\n",
    "    ),\n",
    "    yaxis=dict(\n",
    "        title='Loss'\n",
    "    ),\n",
    "    width=1000,\n",
    "    height=600,\n",
    "    title='Epoch vs Loss'\n",
    ")\n",
    "\n",
    "# Show the plot\n",
    "fig.show()"
   ]
  },
  {
   "cell_type": "code",
   "execution_count": 16,
   "metadata": {},
   "outputs": [
    {
     "data": {
      "application/vnd.plotly.v1+json": {
       "config": {
        "plotlyServerURL": "https://plot.ly"
       },
       "data": [
        {
         "hoverinfo": "text",
         "marker": {
          "color": "blue",
          "size": 5
         },
         "mode": "markers",
         "name": "Loss",
         "text": [
          "Epoch: 0<br>Loss: 3938.574462890625",
          "Epoch: 1<br>Loss: 1765.619140625",
          "Epoch: 2<br>Loss: 245.81980895996094",
          "Epoch: 3<br>Loss: 3176.224853515625",
          "Epoch: 4<br>Loss: 1845.2789306640625",
          "Epoch: 5<br>Loss: 11.763319969177246",
          "Epoch: 6<br>Loss: 1863.6151123046875",
          "Epoch: 7<br>Loss: 298.4870910644531",
          "Epoch: 8<br>Loss: 334.4514465332031",
          "Epoch: 9<br>Loss: 215.33604431152344",
          "Epoch: 10<br>Loss: 97.53719329833984",
          "Epoch: 11<br>Loss: 274.9440002441406",
          "Epoch: 12<br>Loss: 2770.385498046875",
          "Epoch: 13<br>Loss: 2381.43212890625",
          "Epoch: 14<br>Loss: 587.6829223632812",
          "Epoch: 15<br>Loss: 1439.74853515625",
          "Epoch: 16<br>Loss: 3349.281982421875",
          "Epoch: 17<br>Loss: 449.4645080566406",
          "Epoch: 18<br>Loss: 2677.88671875",
          "Epoch: 19<br>Loss: 1024.82861328125",
          "Epoch: 20<br>Loss: 220.2887420654297",
          "Epoch: 21<br>Loss: 241.33644104003906",
          "Epoch: 22<br>Loss: 3987.154052734375",
          "Epoch: 23<br>Loss: 2113.924072265625",
          "Epoch: 24<br>Loss: 4531.04052734375",
          "Epoch: 25<br>Loss: 2554.266357421875",
          "Epoch: 26<br>Loss: 550.5336303710938",
          "Epoch: 27<br>Loss: 3566.3662109375",
          "Epoch: 28<br>Loss: 156.02288818359375",
          "Epoch: 29<br>Loss: 448.061279296875",
          "Epoch: 30<br>Loss: 801.8484497070312",
          "Epoch: 31<br>Loss: 2264.410400390625",
          "Epoch: 32<br>Loss: 1368.4146728515625",
          "Epoch: 33<br>Loss: 373.5373229980469",
          "Epoch: 34<br>Loss: 2097.471435546875",
          "Epoch: 35<br>Loss: 3895.4794921875",
          "Epoch: 36<br>Loss: 3764.6943359375",
          "Epoch: 37<br>Loss: 191.77723693847656",
          "Epoch: 38<br>Loss: 291.0339050292969",
          "Epoch: 39<br>Loss: 1479.6724853515625",
          "Epoch: 40<br>Loss: 1641.8720703125",
          "Epoch: 41<br>Loss: 2227.770263671875",
          "Epoch: 42<br>Loss: 1158.3826904296875",
          "Epoch: 43<br>Loss: 20.07832145690918",
          "Epoch: 44<br>Loss: 502.3917541503906",
          "Epoch: 45<br>Loss: 164.84149169921875",
          "Epoch: 46<br>Loss: 63.26450729370117",
          "Epoch: 47<br>Loss: 160.6374969482422",
          "Epoch: 48<br>Loss: 727.4691772460938",
          "Epoch: 49<br>Loss: 1214.04736328125",
          "Epoch: 50<br>Loss: 90.59265899658203",
          "Epoch: 51<br>Loss: 2278.656494140625",
          "Epoch: 52<br>Loss: 186.2096710205078",
          "Epoch: 53<br>Loss: 1159.13671875",
          "Epoch: 54<br>Loss: 167.07095336914062",
          "Epoch: 55<br>Loss: 826.2653198242188",
          "Epoch: 56<br>Loss: 1910.7996826171875",
          "Epoch: 57<br>Loss: 1426.0135498046875",
          "Epoch: 58<br>Loss: 604.0451049804688",
          "Epoch: 59<br>Loss: 817.9755859375",
          "Epoch: 60<br>Loss: 108.52863311767578",
          "Epoch: 61<br>Loss: 325.8682556152344",
          "Epoch: 62<br>Loss: 1973.1199951171875",
          "Epoch: 63<br>Loss: 1352.5093994140625",
          "Epoch: 64<br>Loss: 1468.5821533203125",
          "Epoch: 65<br>Loss: 76.4618911743164",
          "Epoch: 66<br>Loss: 37.6055908203125",
          "Epoch: 67<br>Loss: 1834.1285400390625",
          "Epoch: 68<br>Loss: 4323.31005859375",
          "Epoch: 69<br>Loss: 66.61842346191406",
          "Epoch: 70<br>Loss: 79.8929214477539",
          "Epoch: 71<br>Loss: 1375.3072509765625",
          "Epoch: 72<br>Loss: 3771.1689453125",
          "Epoch: 73<br>Loss: 240.9721221923828",
          "Epoch: 74<br>Loss: 38.85362243652344",
          "Epoch: 75<br>Loss: 3150.873046875",
          "Epoch: 76<br>Loss: 148.9847869873047",
          "Epoch: 77<br>Loss: 363.060302734375",
          "Epoch: 78<br>Loss: 229.28594970703125",
          "Epoch: 79<br>Loss: 915.2097778320312",
          "Epoch: 80<br>Loss: 31.566221237182617",
          "Epoch: 81<br>Loss: 750.1715698242188",
          "Epoch: 82<br>Loss: 1396.7816162109375",
          "Epoch: 83<br>Loss: 35.43059158325195",
          "Epoch: 84<br>Loss: 1207.3511962890625",
          "Epoch: 85<br>Loss: 2631.12548828125",
          "Epoch: 86<br>Loss: 137.7859344482422",
          "Epoch: 87<br>Loss: 746.9951782226562",
          "Epoch: 88<br>Loss: 392.9971618652344",
          "Epoch: 89<br>Loss: 256.27191162109375",
          "Epoch: 90<br>Loss: 580.3060913085938",
          "Epoch: 91<br>Loss: 35.5695915222168",
          "Epoch: 92<br>Loss: 113.32056427001953",
          "Epoch: 93<br>Loss: 895.8837890625",
          "Epoch: 94<br>Loss: 3683.495849609375",
          "Epoch: 95<br>Loss: 2097.966064453125",
          "Epoch: 96<br>Loss: 719.18994140625",
          "Epoch: 97<br>Loss: 1066.93798828125",
          "Epoch: 98<br>Loss: 11.200729370117188",
          "Epoch: 99<br>Loss: 2184.219482421875"
         ],
         "type": "scatter",
         "x": [
          0,
          1,
          2,
          3,
          4,
          5,
          6,
          7,
          8,
          9,
          10,
          11,
          12,
          13,
          14,
          15,
          16,
          17,
          18,
          19,
          20,
          21,
          22,
          23,
          24,
          25,
          26,
          27,
          28,
          29,
          30,
          31,
          32,
          33,
          34,
          35,
          36,
          37,
          38,
          39,
          40,
          41,
          42,
          43,
          44,
          45,
          46,
          47,
          48,
          49,
          50,
          51,
          52,
          53,
          54,
          55,
          56,
          57,
          58,
          59,
          60,
          61,
          62,
          63,
          64,
          65,
          66,
          67,
          68,
          69,
          70,
          71,
          72,
          73,
          74,
          75,
          76,
          77,
          78,
          79,
          80,
          81,
          82,
          83,
          84,
          85,
          86,
          87,
          88,
          89,
          90,
          91,
          92,
          93,
          94,
          95,
          96,
          97,
          98,
          99
         ],
         "y": [
          3938.574462890625,
          1765.619140625,
          245.81980895996094,
          3176.224853515625,
          1845.2789306640625,
          11.763319969177246,
          1863.6151123046875,
          298.4870910644531,
          334.4514465332031,
          215.33604431152344,
          97.53719329833984,
          274.9440002441406,
          2770.385498046875,
          2381.43212890625,
          587.6829223632812,
          1439.74853515625,
          3349.281982421875,
          449.4645080566406,
          2677.88671875,
          1024.82861328125,
          220.2887420654297,
          241.33644104003906,
          3987.154052734375,
          2113.924072265625,
          4531.04052734375,
          2554.266357421875,
          550.5336303710938,
          3566.3662109375,
          156.02288818359375,
          448.061279296875,
          801.8484497070312,
          2264.410400390625,
          1368.4146728515625,
          373.5373229980469,
          2097.471435546875,
          3895.4794921875,
          3764.6943359375,
          191.77723693847656,
          291.0339050292969,
          1479.6724853515625,
          1641.8720703125,
          2227.770263671875,
          1158.3826904296875,
          20.07832145690918,
          502.3917541503906,
          164.84149169921875,
          63.26450729370117,
          160.6374969482422,
          727.4691772460938,
          1214.04736328125,
          90.59265899658203,
          2278.656494140625,
          186.2096710205078,
          1159.13671875,
          167.07095336914062,
          826.2653198242188,
          1910.7996826171875,
          1426.0135498046875,
          604.0451049804688,
          817.9755859375,
          108.52863311767578,
          325.8682556152344,
          1973.1199951171875,
          1352.5093994140625,
          1468.5821533203125,
          76.4618911743164,
          37.6055908203125,
          1834.1285400390625,
          4323.31005859375,
          66.61842346191406,
          79.8929214477539,
          1375.3072509765625,
          3771.1689453125,
          240.9721221923828,
          38.85362243652344,
          3150.873046875,
          148.9847869873047,
          363.060302734375,
          229.28594970703125,
          915.2097778320312,
          31.566221237182617,
          750.1715698242188,
          1396.7816162109375,
          35.43059158325195,
          1207.3511962890625,
          2631.12548828125,
          137.7859344482422,
          746.9951782226562,
          392.9971618652344,
          256.27191162109375,
          580.3060913085938,
          35.5695915222168,
          113.32056427001953,
          895.8837890625,
          3683.495849609375,
          2097.966064453125,
          719.18994140625,
          1066.93798828125,
          11.200729370117188,
          2184.219482421875
         ]
        },
        {
         "line": {
          "color": "red"
         },
         "mode": "lines",
         "name": "Regression Line",
         "type": "scatter",
         "x": [
          0,
          1,
          2,
          3,
          4,
          5,
          6,
          7,
          8,
          9,
          10,
          11,
          12,
          13,
          14,
          15,
          16,
          17,
          18,
          19,
          20,
          21,
          22,
          23,
          24,
          25,
          26,
          27,
          28,
          29,
          30,
          31,
          32,
          33,
          34,
          35,
          36,
          37,
          38,
          39,
          40,
          41,
          42,
          43,
          44,
          45,
          46,
          47,
          48,
          49,
          50,
          51,
          52,
          53,
          54,
          55,
          56,
          57,
          58,
          59,
          60,
          61,
          62,
          63,
          64,
          65,
          66,
          67,
          68,
          69,
          70,
          71,
          72,
          73,
          74,
          75,
          76,
          77,
          78,
          79,
          80,
          81,
          82,
          83,
          84,
          85,
          86,
          87,
          88,
          89,
          90,
          91,
          92,
          93,
          94,
          95,
          96,
          97,
          98,
          99
         ],
         "y": [
          1604.7838898766393,
          1596.979796294153,
          1589.1757027116664,
          1581.3716091291801,
          1573.5675155466938,
          1565.7634219642073,
          1557.959328381721,
          1550.1552347992347,
          1542.3511412167481,
          1534.5470476342618,
          1526.7429540517755,
          1518.9388604692892,
          1511.1347668868027,
          1503.3306733043164,
          1495.52657972183,
          1487.7224861393436,
          1479.9183925568573,
          1472.114298974371,
          1464.3102053918844,
          1456.5061118093981,
          1448.7020182269118,
          1440.8979246444255,
          1433.093831061939,
          1425.2897374794527,
          1417.4856438969664,
          1409.6815503144799,
          1401.8774567319936,
          1394.0733631495073,
          1386.2692695670207,
          1378.4651759845344,
          1370.6610824020481,
          1362.8569888195616,
          1355.0528952370753,
          1347.248801654589,
          1339.4447080721025,
          1331.6406144896162,
          1323.8365209071299,
          1316.0324273246433,
          1308.228333742157,
          1300.4242401596707,
          1292.6201465771842,
          1284.8160529946979,
          1277.0119594122116,
          1269.207865829725,
          1261.4037722472387,
          1253.5996786647524,
          1245.795585082266,
          1237.9914914997796,
          1230.1873979172933,
          1222.383304334807,
          1214.5792107523207,
          1206.7751171698342,
          1198.9710235873479,
          1191.1669300048616,
          1183.362836422375,
          1175.5587428398887,
          1167.7546492574024,
          1159.950555674916,
          1152.1464620924296,
          1144.3423685099433,
          1136.5382749274568,
          1128.7341813449705,
          1120.9300877624842,
          1113.1259941799976,
          1105.3219005975113,
          1097.517807015025,
          1089.7137134325385,
          1081.9096198500522,
          1074.105526267566,
          1066.3014326850794,
          1058.497339102593,
          1050.6932455201068,
          1042.8891519376202,
          1035.085058355134,
          1027.2809647726476,
          1019.4768711901612,
          1011.6727776076748,
          1003.8686840251885,
          996.0645904427021,
          988.2604968602158,
          980.4564032777294,
          972.6523096952429,
          964.8482161127566,
          957.0441225302702,
          949.2400289477839,
          941.4359353652975,
          933.6318417828111,
          925.8277482003248,
          918.0236546178384,
          910.219561035352,
          902.4154674528656,
          894.6113738703792,
          886.8072802878928,
          879.0031867054065,
          871.1990931229201,
          863.3949995404338,
          855.5909059579474,
          847.786812375461,
          839.9827187929747,
          832.1786252104882
         ]
        }
       ],
       "layout": {
        "height": 600,
        "template": {
         "data": {
          "bar": [
           {
            "error_x": {
             "color": "#2a3f5f"
            },
            "error_y": {
             "color": "#2a3f5f"
            },
            "marker": {
             "line": {
              "color": "#E5ECF6",
              "width": 0.5
             },
             "pattern": {
              "fillmode": "overlay",
              "size": 10,
              "solidity": 0.2
             }
            },
            "type": "bar"
           }
          ],
          "barpolar": [
           {
            "marker": {
             "line": {
              "color": "#E5ECF6",
              "width": 0.5
             },
             "pattern": {
              "fillmode": "overlay",
              "size": 10,
              "solidity": 0.2
             }
            },
            "type": "barpolar"
           }
          ],
          "carpet": [
           {
            "aaxis": {
             "endlinecolor": "#2a3f5f",
             "gridcolor": "white",
             "linecolor": "white",
             "minorgridcolor": "white",
             "startlinecolor": "#2a3f5f"
            },
            "baxis": {
             "endlinecolor": "#2a3f5f",
             "gridcolor": "white",
             "linecolor": "white",
             "minorgridcolor": "white",
             "startlinecolor": "#2a3f5f"
            },
            "type": "carpet"
           }
          ],
          "choropleth": [
           {
            "colorbar": {
             "outlinewidth": 0,
             "ticks": ""
            },
            "type": "choropleth"
           }
          ],
          "contour": [
           {
            "colorbar": {
             "outlinewidth": 0,
             "ticks": ""
            },
            "colorscale": [
             [
              0,
              "#0d0887"
             ],
             [
              0.1111111111111111,
              "#46039f"
             ],
             [
              0.2222222222222222,
              "#7201a8"
             ],
             [
              0.3333333333333333,
              "#9c179e"
             ],
             [
              0.4444444444444444,
              "#bd3786"
             ],
             [
              0.5555555555555556,
              "#d8576b"
             ],
             [
              0.6666666666666666,
              "#ed7953"
             ],
             [
              0.7777777777777778,
              "#fb9f3a"
             ],
             [
              0.8888888888888888,
              "#fdca26"
             ],
             [
              1,
              "#f0f921"
             ]
            ],
            "type": "contour"
           }
          ],
          "contourcarpet": [
           {
            "colorbar": {
             "outlinewidth": 0,
             "ticks": ""
            },
            "type": "contourcarpet"
           }
          ],
          "heatmap": [
           {
            "colorbar": {
             "outlinewidth": 0,
             "ticks": ""
            },
            "colorscale": [
             [
              0,
              "#0d0887"
             ],
             [
              0.1111111111111111,
              "#46039f"
             ],
             [
              0.2222222222222222,
              "#7201a8"
             ],
             [
              0.3333333333333333,
              "#9c179e"
             ],
             [
              0.4444444444444444,
              "#bd3786"
             ],
             [
              0.5555555555555556,
              "#d8576b"
             ],
             [
              0.6666666666666666,
              "#ed7953"
             ],
             [
              0.7777777777777778,
              "#fb9f3a"
             ],
             [
              0.8888888888888888,
              "#fdca26"
             ],
             [
              1,
              "#f0f921"
             ]
            ],
            "type": "heatmap"
           }
          ],
          "heatmapgl": [
           {
            "colorbar": {
             "outlinewidth": 0,
             "ticks": ""
            },
            "colorscale": [
             [
              0,
              "#0d0887"
             ],
             [
              0.1111111111111111,
              "#46039f"
             ],
             [
              0.2222222222222222,
              "#7201a8"
             ],
             [
              0.3333333333333333,
              "#9c179e"
             ],
             [
              0.4444444444444444,
              "#bd3786"
             ],
             [
              0.5555555555555556,
              "#d8576b"
             ],
             [
              0.6666666666666666,
              "#ed7953"
             ],
             [
              0.7777777777777778,
              "#fb9f3a"
             ],
             [
              0.8888888888888888,
              "#fdca26"
             ],
             [
              1,
              "#f0f921"
             ]
            ],
            "type": "heatmapgl"
           }
          ],
          "histogram": [
           {
            "marker": {
             "pattern": {
              "fillmode": "overlay",
              "size": 10,
              "solidity": 0.2
             }
            },
            "type": "histogram"
           }
          ],
          "histogram2d": [
           {
            "colorbar": {
             "outlinewidth": 0,
             "ticks": ""
            },
            "colorscale": [
             [
              0,
              "#0d0887"
             ],
             [
              0.1111111111111111,
              "#46039f"
             ],
             [
              0.2222222222222222,
              "#7201a8"
             ],
             [
              0.3333333333333333,
              "#9c179e"
             ],
             [
              0.4444444444444444,
              "#bd3786"
             ],
             [
              0.5555555555555556,
              "#d8576b"
             ],
             [
              0.6666666666666666,
              "#ed7953"
             ],
             [
              0.7777777777777778,
              "#fb9f3a"
             ],
             [
              0.8888888888888888,
              "#fdca26"
             ],
             [
              1,
              "#f0f921"
             ]
            ],
            "type": "histogram2d"
           }
          ],
          "histogram2dcontour": [
           {
            "colorbar": {
             "outlinewidth": 0,
             "ticks": ""
            },
            "colorscale": [
             [
              0,
              "#0d0887"
             ],
             [
              0.1111111111111111,
              "#46039f"
             ],
             [
              0.2222222222222222,
              "#7201a8"
             ],
             [
              0.3333333333333333,
              "#9c179e"
             ],
             [
              0.4444444444444444,
              "#bd3786"
             ],
             [
              0.5555555555555556,
              "#d8576b"
             ],
             [
              0.6666666666666666,
              "#ed7953"
             ],
             [
              0.7777777777777778,
              "#fb9f3a"
             ],
             [
              0.8888888888888888,
              "#fdca26"
             ],
             [
              1,
              "#f0f921"
             ]
            ],
            "type": "histogram2dcontour"
           }
          ],
          "mesh3d": [
           {
            "colorbar": {
             "outlinewidth": 0,
             "ticks": ""
            },
            "type": "mesh3d"
           }
          ],
          "parcoords": [
           {
            "line": {
             "colorbar": {
              "outlinewidth": 0,
              "ticks": ""
             }
            },
            "type": "parcoords"
           }
          ],
          "pie": [
           {
            "automargin": true,
            "type": "pie"
           }
          ],
          "scatter": [
           {
            "fillpattern": {
             "fillmode": "overlay",
             "size": 10,
             "solidity": 0.2
            },
            "type": "scatter"
           }
          ],
          "scatter3d": [
           {
            "line": {
             "colorbar": {
              "outlinewidth": 0,
              "ticks": ""
             }
            },
            "marker": {
             "colorbar": {
              "outlinewidth": 0,
              "ticks": ""
             }
            },
            "type": "scatter3d"
           }
          ],
          "scattercarpet": [
           {
            "marker": {
             "colorbar": {
              "outlinewidth": 0,
              "ticks": ""
             }
            },
            "type": "scattercarpet"
           }
          ],
          "scattergeo": [
           {
            "marker": {
             "colorbar": {
              "outlinewidth": 0,
              "ticks": ""
             }
            },
            "type": "scattergeo"
           }
          ],
          "scattergl": [
           {
            "marker": {
             "colorbar": {
              "outlinewidth": 0,
              "ticks": ""
             }
            },
            "type": "scattergl"
           }
          ],
          "scattermapbox": [
           {
            "marker": {
             "colorbar": {
              "outlinewidth": 0,
              "ticks": ""
             }
            },
            "type": "scattermapbox"
           }
          ],
          "scatterpolar": [
           {
            "marker": {
             "colorbar": {
              "outlinewidth": 0,
              "ticks": ""
             }
            },
            "type": "scatterpolar"
           }
          ],
          "scatterpolargl": [
           {
            "marker": {
             "colorbar": {
              "outlinewidth": 0,
              "ticks": ""
             }
            },
            "type": "scatterpolargl"
           }
          ],
          "scatterternary": [
           {
            "marker": {
             "colorbar": {
              "outlinewidth": 0,
              "ticks": ""
             }
            },
            "type": "scatterternary"
           }
          ],
          "surface": [
           {
            "colorbar": {
             "outlinewidth": 0,
             "ticks": ""
            },
            "colorscale": [
             [
              0,
              "#0d0887"
             ],
             [
              0.1111111111111111,
              "#46039f"
             ],
             [
              0.2222222222222222,
              "#7201a8"
             ],
             [
              0.3333333333333333,
              "#9c179e"
             ],
             [
              0.4444444444444444,
              "#bd3786"
             ],
             [
              0.5555555555555556,
              "#d8576b"
             ],
             [
              0.6666666666666666,
              "#ed7953"
             ],
             [
              0.7777777777777778,
              "#fb9f3a"
             ],
             [
              0.8888888888888888,
              "#fdca26"
             ],
             [
              1,
              "#f0f921"
             ]
            ],
            "type": "surface"
           }
          ],
          "table": [
           {
            "cells": {
             "fill": {
              "color": "#EBF0F8"
             },
             "line": {
              "color": "white"
             }
            },
            "header": {
             "fill": {
              "color": "#C8D4E3"
             },
             "line": {
              "color": "white"
             }
            },
            "type": "table"
           }
          ]
         },
         "layout": {
          "annotationdefaults": {
           "arrowcolor": "#2a3f5f",
           "arrowhead": 0,
           "arrowwidth": 1
          },
          "autotypenumbers": "strict",
          "coloraxis": {
           "colorbar": {
            "outlinewidth": 0,
            "ticks": ""
           }
          },
          "colorscale": {
           "diverging": [
            [
             0,
             "#8e0152"
            ],
            [
             0.1,
             "#c51b7d"
            ],
            [
             0.2,
             "#de77ae"
            ],
            [
             0.3,
             "#f1b6da"
            ],
            [
             0.4,
             "#fde0ef"
            ],
            [
             0.5,
             "#f7f7f7"
            ],
            [
             0.6,
             "#e6f5d0"
            ],
            [
             0.7,
             "#b8e186"
            ],
            [
             0.8,
             "#7fbc41"
            ],
            [
             0.9,
             "#4d9221"
            ],
            [
             1,
             "#276419"
            ]
           ],
           "sequential": [
            [
             0,
             "#0d0887"
            ],
            [
             0.1111111111111111,
             "#46039f"
            ],
            [
             0.2222222222222222,
             "#7201a8"
            ],
            [
             0.3333333333333333,
             "#9c179e"
            ],
            [
             0.4444444444444444,
             "#bd3786"
            ],
            [
             0.5555555555555556,
             "#d8576b"
            ],
            [
             0.6666666666666666,
             "#ed7953"
            ],
            [
             0.7777777777777778,
             "#fb9f3a"
            ],
            [
             0.8888888888888888,
             "#fdca26"
            ],
            [
             1,
             "#f0f921"
            ]
           ],
           "sequentialminus": [
            [
             0,
             "#0d0887"
            ],
            [
             0.1111111111111111,
             "#46039f"
            ],
            [
             0.2222222222222222,
             "#7201a8"
            ],
            [
             0.3333333333333333,
             "#9c179e"
            ],
            [
             0.4444444444444444,
             "#bd3786"
            ],
            [
             0.5555555555555556,
             "#d8576b"
            ],
            [
             0.6666666666666666,
             "#ed7953"
            ],
            [
             0.7777777777777778,
             "#fb9f3a"
            ],
            [
             0.8888888888888888,
             "#fdca26"
            ],
            [
             1,
             "#f0f921"
            ]
           ]
          },
          "colorway": [
           "#636efa",
           "#EF553B",
           "#00cc96",
           "#ab63fa",
           "#FFA15A",
           "#19d3f3",
           "#FF6692",
           "#B6E880",
           "#FF97FF",
           "#FECB52"
          ],
          "font": {
           "color": "#2a3f5f"
          },
          "geo": {
           "bgcolor": "white",
           "lakecolor": "white",
           "landcolor": "#E5ECF6",
           "showlakes": true,
           "showland": true,
           "subunitcolor": "white"
          },
          "hoverlabel": {
           "align": "left"
          },
          "hovermode": "closest",
          "mapbox": {
           "style": "light"
          },
          "paper_bgcolor": "white",
          "plot_bgcolor": "#E5ECF6",
          "polar": {
           "angularaxis": {
            "gridcolor": "white",
            "linecolor": "white",
            "ticks": ""
           },
           "bgcolor": "#E5ECF6",
           "radialaxis": {
            "gridcolor": "white",
            "linecolor": "white",
            "ticks": ""
           }
          },
          "scene": {
           "xaxis": {
            "backgroundcolor": "#E5ECF6",
            "gridcolor": "white",
            "gridwidth": 2,
            "linecolor": "white",
            "showbackground": true,
            "ticks": "",
            "zerolinecolor": "white"
           },
           "yaxis": {
            "backgroundcolor": "#E5ECF6",
            "gridcolor": "white",
            "gridwidth": 2,
            "linecolor": "white",
            "showbackground": true,
            "ticks": "",
            "zerolinecolor": "white"
           },
           "zaxis": {
            "backgroundcolor": "#E5ECF6",
            "gridcolor": "white",
            "gridwidth": 2,
            "linecolor": "white",
            "showbackground": true,
            "ticks": "",
            "zerolinecolor": "white"
           }
          },
          "shapedefaults": {
           "line": {
            "color": "#2a3f5f"
           }
          },
          "ternary": {
           "aaxis": {
            "gridcolor": "white",
            "linecolor": "white",
            "ticks": ""
           },
           "baxis": {
            "gridcolor": "white",
            "linecolor": "white",
            "ticks": ""
           },
           "bgcolor": "#E5ECF6",
           "caxis": {
            "gridcolor": "white",
            "linecolor": "white",
            "ticks": ""
           }
          },
          "title": {
           "x": 0.05
          },
          "xaxis": {
           "automargin": true,
           "gridcolor": "white",
           "linecolor": "white",
           "ticks": "",
           "title": {
            "standoff": 15
           },
           "zerolinecolor": "white",
           "zerolinewidth": 2
          },
          "yaxis": {
           "automargin": true,
           "gridcolor": "white",
           "linecolor": "white",
           "ticks": "",
           "title": {
            "standoff": 15
           },
           "zerolinecolor": "white",
           "zerolinewidth": 2
          }
         }
        },
        "title": {
         "text": "Epoch vs Loss (Slope: -7.8041)"
        },
        "width": 1000,
        "xaxis": {
         "title": {
          "text": "Epoch"
         }
        },
        "yaxis": {
         "title": {
          "text": "Loss"
         }
        }
       }
      }
     },
     "metadata": {},
     "output_type": "display_data"
    },
    {
     "name": "stdout",
     "output_type": "stream",
     "text": [
      "The slope of the regression line is -7.8041\n",
      "The values are trending down.\n"
     ]
    }
   ],
   "source": [
    "import pandas as pd\n",
    "import plotly.graph_objects as go\n",
    "from sklearn.linear_model import LinearRegression\n",
    "import numpy as np\n",
    "\n",
    "# Extract the data\n",
    "epochs = report_data['epoch'].values.reshape(-1, 1)\n",
    "losses = report_data['loss'].values\n",
    "\n",
    "# Perform linear regression\n",
    "reg = LinearRegression().fit(epochs, losses)\n",
    "slope = reg.coef_[0]\n",
    "intercept = reg.intercept_\n",
    "\n",
    "# Calculate the regression line\n",
    "regression_line = reg.predict(epochs)\n",
    "\n",
    "# Create the 2D scatter plot\n",
    "fig = go.Figure()\n",
    "\n",
    "# Add the original data\n",
    "fig.add_trace(go.Scatter(\n",
    "    x=report_data['epoch'],\n",
    "    y=report_data['loss'],\n",
    "    mode='markers',\n",
    "    marker=dict(\n",
    "        size=5,\n",
    "        color='blue'\n",
    "    ),\n",
    "    name='Loss',\n",
    "    text=[f'Epoch: {e}<br>Loss: {l}' for e, l in zip(report_data['epoch'], report_data['loss'])],\n",
    "    hoverinfo='text'\n",
    "))\n",
    "\n",
    "# Add the regression line\n",
    "fig.add_trace(go.Scatter(\n",
    "    x=report_data['epoch'],\n",
    "    y=regression_line,\n",
    "    mode='lines',\n",
    "    line=dict(\n",
    "        color='red'\n",
    "    ),\n",
    "    name='Regression Line'\n",
    "))\n",
    "\n",
    "# Update the layout\n",
    "fig.update_layout(\n",
    "    xaxis=dict(\n",
    "        title='Epoch'\n",
    "    ),\n",
    "    yaxis=dict(\n",
    "        title='Loss'\n",
    "    ),\n",
    "    width=1000,\n",
    "    height=600,\n",
    "    title=f'Epoch vs Loss (Slope: {slope:.4f})'\n",
    ")\n",
    "\n",
    "# Show the plot\n",
    "fig.show()\n",
    "\n",
    "# Print the slope to determine the trend\n",
    "print(f\"The slope of the regression line is {slope:.4f}\")\n",
    "if slope < 0:\n",
    "    print(\"The values are trending down.\")\n",
    "elif slope > 0:\n",
    "    print(\"The values are trending up.\")\n",
    "else:\n",
    "    print(\"The values are constant.\")"
   ]
  },
  {
   "cell_type": "markdown",
   "metadata": {},
   "source": []
  },
  {
   "cell_type": "code",
   "execution_count": 17,
   "metadata": {},
   "outputs": [
    {
     "data": {
      "text/plain": [
       "tensor([[263,  39,  60],\n",
       "        [154, 209, 133],\n",
       "        [209, 301, 152],\n",
       "        [173, 112, 135],\n",
       "        [192, 169, 321],\n",
       "        [ 57,  22, 191],\n",
       "        [ 39, 226, 171],\n",
       "        [267,  97, 192],\n",
       "        [283, 285,  40],\n",
       "        [ 97, 249, 116],\n",
       "        [150, 111, 266],\n",
       "        [149,   2, 249],\n",
       "        [  0, 304,  39],\n",
       "        [ 21,  36,   0],\n",
       "        [228, 116, 111],\n",
       "        [285,  74, 304],\n",
       "        [ 36,   0,  93],\n",
       "        [ 59,  95,  98],\n",
       "        [170, 211, 245],\n",
       "        [ 95, 246, 208],\n",
       "        [188, 114, 264],\n",
       "        [ 98, 115,  38],\n",
       "        [116, 267,   1],\n",
       "        [229, 323,  36],\n",
       "        [112,  93,   2],\n",
       "        [ 18, 171,  94],\n",
       "        [ 38,  77,  77],\n",
       "        [324, 150,  19],\n",
       "        [ -1, 133, 284],\n",
       "        [ -1, 266, 305],\n",
       "        [ -1, 268, 154],\n",
       "        [ -1, 230, 212],\n",
       "        [ -1,   1,  18],\n",
       "        [ -1,  98, 267],\n",
       "        [ -1,  19, 246],\n",
       "        [ -1, 305,  95],\n",
       "        [ -1, 153, 302],\n",
       "        [ -1, 229,  59],\n",
       "        [ -1, 207, 170],\n",
       "        [ -1, 154, 323],\n",
       "        [ -1, 212,  97],\n",
       "        [ -1, 263, 247],\n",
       "        [ -1, 132, 174],\n",
       "        [ -1, 188, 187],\n",
       "        [ -1,  18, 285],\n",
       "        [ -1, 264, 230],\n",
       "        [ -1,  55, 228],\n",
       "        [ -1, 187, 229],\n",
       "        [ -1,  40, 112],\n",
       "        [ -1,  78, 153],\n",
       "        [ -1, 225, 250],\n",
       "        [ -1, 324, 287],\n",
       "        [ -1,  -1,  22],\n",
       "        [ -1,  -1, 209],\n",
       "        [ -1,  -1,  55],\n",
       "        [ -1,  -1, 301],\n",
       "        [ -1,  -1, 226],\n",
       "        [ -1,  -1, 207],\n",
       "        [ -1,  -1, 190],\n",
       "        [ -1,  -1,  74],\n",
       "        [ -1,  -1, 114],\n",
       "        [ -1,  -1, 225],\n",
       "        [ -1,  -1, 136],\n",
       "        [ -1,  -1,  76],\n",
       "        [ -1,  -1, 150],\n",
       "        [ -1,  -1, 268],\n",
       "        [ -1,  -1,  56],\n",
       "        [ -1,  -1,  57],\n",
       "        [ -1,  -1, 132],\n",
       "        [ -1,  -1, 173],\n",
       "        [ -1,  -1, 115],\n",
       "        [ -1,  -1, 131],\n",
       "        [ -1,  -1,  21],\n",
       "        [ -1,  -1,  73],\n",
       "        [ -1,  -1, 324]])"
      ]
     },
     "execution_count": 17,
     "metadata": {},
     "output_type": "execute_result"
    }
   ],
   "source": [
    "log._actions\n"
   ]
  },
  {
   "cell_type": "code",
   "execution_count": 18,
   "metadata": {},
   "outputs": [],
   "source": [
    "# Function to check for duplicates across columns\n",
    "def find_column_duplicates(tensor, check_value=None):\n",
    "    num_columns = tensor.size(1)\n",
    "    duplicates = {}\n",
    "    check_value_duplicates = {}\n",
    "    \n",
    "    for col in range(num_columns):\n",
    "        seen = set()\n",
    "        col_duplicates = set()\n",
    "        for row in range(tensor.size(0)):\n",
    "            value = tensor[row, col].item()\n",
    "            if value in seen:\n",
    "                col_duplicates.add(value)\n",
    "            seen.add(value)\n",
    "        \n",
    "        if col_duplicates:\n",
    "            duplicates[col] = col_duplicates\n",
    "        \n",
    "        if check_value is not None and check_value in seen:\n",
    "            check_value_duplicates[col] = check_value in col_duplicates\n",
    "    \n",
    "    return duplicates, check_value_duplicates"
   ]
  },
  {
   "cell_type": "code",
   "execution_count": 19,
   "metadata": {},
   "outputs": [
    {
     "name": "stdout",
     "output_type": "stream",
     "text": [
      "Duplicate values by column: {0: {-1}, 1: {-1}}\n",
      "Is -1 a duplicate in each column: {0: True, 1: True}\n"
     ]
    }
   ],
   "source": [
    "duplicates, is_negative_one_duplicate = find_column_duplicates(log._actions, check_value=-1)\n",
    "print(\"Duplicate values by column:\", duplicates)\n",
    "print(\"Is -1 a duplicate in each column:\", is_negative_one_duplicate)\n",
    "    \n"
   ]
  },
  {
   "cell_type": "code",
   "execution_count": 20,
   "metadata": {},
   "outputs": [
    {
     "data": {
      "text/plain": [
       "{0: {-1}, 1: {-1}}"
      ]
     },
     "execution_count": 20,
     "metadata": {},
     "output_type": "execute_result"
    }
   ],
   "source": [
    "duplicates"
   ]
  },
  {
   "cell_type": "code",
   "execution_count": 21,
   "metadata": {},
   "outputs": [
    {
     "name": "stdout",
     "output_type": "stream",
     "text": [
      "{0: {-1}, 1: {-1}}\n"
     ]
    }
   ],
   "source": [
    "print(duplicates)"
   ]
  },
  {
   "cell_type": "code",
   "execution_count": 22,
   "metadata": {},
   "outputs": [
    {
     "ename": "AttributeError",
     "evalue": "'NoneType' object has no attribute '_actions'",
     "output_type": "error",
     "traceback": [
      "\u001b[0;31m---------------------------------------------------------------------------\u001b[0m",
      "\u001b[0;31mAttributeError\u001b[0m                            Traceback (most recent call last)",
      "Cell \u001b[0;32mIn[22], line 3\u001b[0m\n\u001b[1;32m      1\u001b[0m \u001b[38;5;66;03m# Sample and plot final states\u001b[39;00m\n\u001b[1;32m      2\u001b[0m s0 \u001b[38;5;241m=\u001b[39m one_hot(torch\u001b[38;5;241m.\u001b[39mzeros(\u001b[38;5;241m10\u001b[39m\u001b[38;5;241m*\u001b[39m\u001b[38;5;241m*\u001b[39m\u001b[38;5;241m4\u001b[39m)\u001b[38;5;241m.\u001b[39mlong(), env\u001b[38;5;241m.\u001b[39mstate_dim)\u001b[38;5;241m.\u001b[39mfloat()\n\u001b[0;32m----> 3\u001b[0m s \u001b[38;5;241m=\u001b[39m \u001b[43mmodel\u001b[49m\u001b[38;5;241;43m.\u001b[39;49m\u001b[43msample_states\u001b[49m\u001b[43m(\u001b[49m\u001b[43ms0\u001b[49m\u001b[43m,\u001b[49m\u001b[43m \u001b[49m\u001b[43mreturn_log\u001b[49m\u001b[38;5;241;43m=\u001b[39;49m\u001b[38;5;28;43;01mFalse\u001b[39;49;00m\u001b[43m)\u001b[49m\n\u001b[1;32m      4\u001b[0m \u001b[38;5;66;03m# Implement your plot function or use another way to visualize the results\u001b[39;00m\n\u001b[1;32m      5\u001b[0m \u001b[38;5;66;03m# plot(s, env, matrix_size)\u001b[39;00m\n",
      "File \u001b[0;32m~/Documents/Machine_Learning/Thesis_Coding/gflownet-spai/gflownet/gflownet.py:114\u001b[0m, in \u001b[0;36mGFlowNet.sample_states\u001b[0;34m(self, s0, return_log)\u001b[0m\n\u001b[1;32m    110\u001b[0m done_iterations \u001b[38;5;241m+\u001b[39m\u001b[38;5;241m=\u001b[39m \u001b[38;5;241m1\u001b[39m\n\u001b[1;32m    112\u001b[0m \u001b[38;5;66;03m#Generate actions for all samples for logging\u001b[39;00m\n\u001b[1;32m    113\u001b[0m \u001b[38;5;66;03m#print(f\"Type for _actions: {type(log._actions)}\")\u001b[39;00m\n\u001b[0;32m--> 114\u001b[0m probs_all, _ \u001b[38;5;241m=\u001b[39m \u001b[38;5;28mself\u001b[39m\u001b[38;5;241m.\u001b[39mforward_probs(s, \u001b[43mlog\u001b[49m\u001b[38;5;241;43m.\u001b[39;49m\u001b[43m_actions\u001b[49m)\n\u001b[1;32m    115\u001b[0m \u001b[38;5;66;03m#print(f\"Probs from Policy: {probs_all}\")\u001b[39;00m\n\u001b[1;32m    116\u001b[0m actions_all \u001b[38;5;241m=\u001b[39m Categorical(probs_all)\u001b[38;5;241m.\u001b[39msample()\n",
      "\u001b[0;31mAttributeError\u001b[0m: 'NoneType' object has no attribute '_actions'"
     ]
    }
   ],
   "source": [
    "# Sample and plot final states\n",
    "s0 = one_hot(torch.zeros(10**4).long(), env.state_dim).float()\n",
    "s = model.sample_states(s0, return_log=False)\n",
    "# Implement your plot function or use another way to visualize the results\n",
    "# plot(s, env, matrix_size)"
   ]
  }
 ],
 "metadata": {
  "kernelspec": {
   "display_name": "ML2",
   "language": "python",
   "name": "python3"
  },
  "language_info": {
   "codemirror_mode": {
    "name": "ipython",
    "version": 3
   },
   "file_extension": ".py",
   "mimetype": "text/x-python",
   "name": "python",
   "nbconvert_exporter": "python",
   "pygments_lexer": "ipython3",
   "version": "3.9.15"
  }
 },
 "nbformat": 4,
 "nbformat_minor": 2
}
