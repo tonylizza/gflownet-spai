{
 "cells": [
  {
   "cell_type": "code",
   "execution_count": 7,
   "metadata": {},
   "outputs": [],
   "source": [
    "import os\n",
    "import numpy as np\n",
    "import scipy.sparse as sp\n",
    "import scipy.sparse.linalg as spla\n",
    "from scipy.io import mmread, mmwrite\n",
    "import torch\n",
    "from scipy.sparse import csr_matrix\n",
    "\n",
    "def save_ilu_matrix(input_mtx_file, output_folder):\n",
    "    # Load the sparse matrix from the .mtx file\n",
    "    A = mmread(input_mtx_file).tocsc()  # Ensure the matrix is in CSC format\n",
    "    \n",
    "    # Perform ILU factorization\n",
    "    ilu = spla.spilu(A)\n",
    "\n",
    "    L_mid = ilu.L - csr_matrix(np.eye(A.shape[0]))\n",
    "    \n",
    "    ilu_matrix = L_mid + ilu.U\n",
    "\n",
    "\n",
    "\n",
    "    # Construct output filename and save the LU matrix as an .mtx file\n",
    "    original_filename = os.path.splitext(os.path.basename(input_mtx_file))[0]\n",
    "    output_file = os.path.join(output_folder, f\"{original_filename}_ilu.mtx\")\n",
    "    \n",
    "    # Save the LU matrix to the specified output folder\n",
    "    mmwrite(output_file, ilu_matrix)\n",
    "    print(f\"ILU matrix saved to {output_file}\")\n",
    "\n",
    "# Example usage\n",
    "# save_ilu_matrix('path/to/input_file.mtx', 'path/to/output_folder')\n"
   ]
  },
  {
   "cell_type": "code",
   "execution_count": 8,
   "metadata": {},
   "outputs": [
    {
     "name": "stdout",
     "output_type": "stream",
     "text": [
      "ILU matrix saved to data/medium_ILU/ilu_matrices/Spectro_10NN_ilu.mtx\n",
      "ILU matrix saved to data/medium_ILU/ilu_matrices/dw256A_ilu.mtx\n",
      "ILU matrix saved to data/medium_ILU/ilu_matrices/dw256B_ilu.mtx\n",
      "ILU matrix saved to data/medium_ILU/ilu_matrices/dwa512_ilu.mtx\n",
      "ILU matrix saved to data/medium_ILU/ilu_matrices/dwb512_ilu.mtx\n",
      "ILU matrix saved to data/medium_ILU/ilu_matrices/fs_541_1_ilu.mtx\n",
      "ILU matrix saved to data/medium_ILU/ilu_matrices/fs_541_2_ilu.mtx\n",
      "ILU matrix saved to data/medium_ILU/ilu_matrices/fs_541_3_ilu.mtx\n",
      "ILU matrix saved to data/medium_ILU/ilu_matrices/fs_541_4_ilu.mtx\n"
     ]
    },
    {
     "ename": "RuntimeError",
     "evalue": "Factor is exactly singular",
     "output_type": "error",
     "traceback": [
      "\u001b[0;31m---------------------------------------------------------------------------\u001b[0m",
      "\u001b[0;31mRuntimeError\u001b[0m                              Traceback (most recent call last)",
      "Cell \u001b[0;32mIn[8], line 6\u001b[0m\n\u001b[1;32m      3\u001b[0m small_matrices \u001b[38;5;241m=\u001b[39m [leading_path \u001b[38;5;241m+\u001b[39m \u001b[38;5;124m'\u001b[39m\u001b[38;5;124mSpectro_10NN.mtx\u001b[39m\u001b[38;5;124m'\u001b[39m, leading_path \u001b[38;5;241m+\u001b[39m \u001b[38;5;124m'\u001b[39m\u001b[38;5;124mdw256A.mtx\u001b[39m\u001b[38;5;124m'\u001b[39m, leading_path \u001b[38;5;241m+\u001b[39m \u001b[38;5;124m'\u001b[39m\u001b[38;5;124mdw256B.mtx\u001b[39m\u001b[38;5;124m'\u001b[39m, leading_path \u001b[38;5;241m+\u001b[39m \u001b[38;5;124m'\u001b[39m\u001b[38;5;124mdwa512.mtx\u001b[39m\u001b[38;5;124m'\u001b[39m, leading_path \u001b[38;5;241m+\u001b[39m \u001b[38;5;124m'\u001b[39m\u001b[38;5;124mdwb512.mtx\u001b[39m\u001b[38;5;124m'\u001b[39m, leading_path \u001b[38;5;241m+\u001b[39m \u001b[38;5;124m'\u001b[39m\u001b[38;5;124mfs_541_1.mtx\u001b[39m\u001b[38;5;124m'\u001b[39m, leading_path \u001b[38;5;241m+\u001b[39m \u001b[38;5;124m'\u001b[39m\u001b[38;5;124mfs_541_2.mtx\u001b[39m\u001b[38;5;124m'\u001b[39m, leading_path \u001b[38;5;241m+\u001b[39m \u001b[38;5;124m'\u001b[39m\u001b[38;5;124mfs_541_3.mtx\u001b[39m\u001b[38;5;124m'\u001b[39m, leading_path \u001b[38;5;241m+\u001b[39m \u001b[38;5;124m'\u001b[39m\u001b[38;5;124mfs_541_4.mtx\u001b[39m\u001b[38;5;124m'\u001b[39m, leading_path \u001b[38;5;241m+\u001b[39m \u001b[38;5;124m'\u001b[39m\u001b[38;5;124mlns_511.mtx\u001b[39m\u001b[38;5;124m'\u001b[39m, leading_path \u001b[38;5;241m+\u001b[39m \u001b[38;5;124m'\u001b[39m\u001b[38;5;124mlnsp_511.mtx\u001b[39m\u001b[38;5;124m'\u001b[39m, leading_path \u001b[38;5;241m+\u001b[39m \u001b[38;5;124m'\u001b[39m\u001b[38;5;124mmatrices.txt\u001b[39m\u001b[38;5;124m'\u001b[39m, leading_path \u001b[38;5;241m+\u001b[39m \u001b[38;5;124m'\u001b[39m\u001b[38;5;124mpores_3.mtx\u001b[39m\u001b[38;5;124m'\u001b[39m, leading_path \u001b[38;5;241m+\u001b[39m \u001b[38;5;124m'\u001b[39m\u001b[38;5;124mtomography.mtx\u001b[39m\u001b[38;5;124m'\u001b[39m]\n\u001b[1;32m      5\u001b[0m \u001b[38;5;28;01mfor\u001b[39;00m i \u001b[38;5;129;01min\u001b[39;00m small_matrices:\n\u001b[0;32m----> 6\u001b[0m     \u001b[43msave_ilu_matrix\u001b[49m\u001b[43m(\u001b[49m\u001b[43mi\u001b[49m\u001b[43m,\u001b[49m\u001b[43m \u001b[49m\u001b[38;5;124;43m'\u001b[39;49m\u001b[38;5;124;43mdata/medium_ILU/ilu_matrices\u001b[39;49m\u001b[38;5;124;43m'\u001b[39;49m\u001b[43m)\u001b[49m\n",
      "Cell \u001b[0;32mIn[7], line 14\u001b[0m, in \u001b[0;36msave_ilu_matrix\u001b[0;34m(input_mtx_file, output_folder)\u001b[0m\n\u001b[1;32m     11\u001b[0m A \u001b[38;5;241m=\u001b[39m mmread(input_mtx_file)\u001b[38;5;241m.\u001b[39mtocsc()  \u001b[38;5;66;03m# Ensure the matrix is in CSC format\u001b[39;00m\n\u001b[1;32m     13\u001b[0m \u001b[38;5;66;03m# Perform ILU factorization\u001b[39;00m\n\u001b[0;32m---> 14\u001b[0m ilu \u001b[38;5;241m=\u001b[39m \u001b[43mspla\u001b[49m\u001b[38;5;241;43m.\u001b[39;49m\u001b[43mspilu\u001b[49m\u001b[43m(\u001b[49m\u001b[43mA\u001b[49m\u001b[43m)\u001b[49m\n\u001b[1;32m     16\u001b[0m L_mid \u001b[38;5;241m=\u001b[39m ilu\u001b[38;5;241m.\u001b[39mL \u001b[38;5;241m-\u001b[39m csr_matrix(np\u001b[38;5;241m.\u001b[39meye(A\u001b[38;5;241m.\u001b[39mshape[\u001b[38;5;241m0\u001b[39m]))\n\u001b[1;32m     18\u001b[0m ilu_matrix \u001b[38;5;241m=\u001b[39m L_mid \u001b[38;5;241m+\u001b[39m ilu\u001b[38;5;241m.\u001b[39mU\n",
      "File \u001b[0;32m~/opt/anaconda3/envs/ML2/lib/python3.9/site-packages/scipy/sparse/linalg/_dsolve/linsolve.py:459\u001b[0m, in \u001b[0;36mspilu\u001b[0;34m(A, drop_tol, fill_factor, drop_rule, permc_spec, diag_pivot_thresh, relax, panel_size, options)\u001b[0m\n\u001b[1;32m    456\u001b[0m \u001b[38;5;28;01mif\u001b[39;00m (_options[\u001b[38;5;124m\"\u001b[39m\u001b[38;5;124mColPerm\u001b[39m\u001b[38;5;124m\"\u001b[39m] \u001b[38;5;241m==\u001b[39m \u001b[38;5;124m\"\u001b[39m\u001b[38;5;124mNATURAL\u001b[39m\u001b[38;5;124m\"\u001b[39m):\n\u001b[1;32m    457\u001b[0m     _options[\u001b[38;5;124m\"\u001b[39m\u001b[38;5;124mSymmetricMode\u001b[39m\u001b[38;5;124m\"\u001b[39m] \u001b[38;5;241m=\u001b[39m \u001b[38;5;28;01mTrue\u001b[39;00m\n\u001b[0;32m--> 459\u001b[0m \u001b[38;5;28;01mreturn\u001b[39;00m \u001b[43m_superlu\u001b[49m\u001b[38;5;241;43m.\u001b[39;49m\u001b[43mgstrf\u001b[49m\u001b[43m(\u001b[49m\u001b[43mN\u001b[49m\u001b[43m,\u001b[49m\u001b[43m \u001b[49m\u001b[43mA\u001b[49m\u001b[38;5;241;43m.\u001b[39;49m\u001b[43mnnz\u001b[49m\u001b[43m,\u001b[49m\u001b[43m \u001b[49m\u001b[43mA\u001b[49m\u001b[38;5;241;43m.\u001b[39;49m\u001b[43mdata\u001b[49m\u001b[43m,\u001b[49m\u001b[43m \u001b[49m\u001b[43mA\u001b[49m\u001b[38;5;241;43m.\u001b[39;49m\u001b[43mindices\u001b[49m\u001b[43m,\u001b[49m\u001b[43m \u001b[49m\u001b[43mA\u001b[49m\u001b[38;5;241;43m.\u001b[39;49m\u001b[43mindptr\u001b[49m\u001b[43m,\u001b[49m\n\u001b[1;32m    460\u001b[0m \u001b[43m                      \u001b[49m\u001b[43mcsc_construct_func\u001b[49m\u001b[38;5;241;43m=\u001b[39;49m\u001b[43mcsc_construct_func\u001b[49m\u001b[43m,\u001b[49m\n\u001b[1;32m    461\u001b[0m \u001b[43m                      \u001b[49m\u001b[43milu\u001b[49m\u001b[38;5;241;43m=\u001b[39;49m\u001b[38;5;28;43;01mTrue\u001b[39;49;00m\u001b[43m,\u001b[49m\u001b[43m \u001b[49m\u001b[43moptions\u001b[49m\u001b[38;5;241;43m=\u001b[39;49m\u001b[43m_options\u001b[49m\u001b[43m)\u001b[49m\n",
      "\u001b[0;31mRuntimeError\u001b[0m: Factor is exactly singular"
     ]
    }
   ],
   "source": [
    "leading_path = '/Users/tonylizza/Documents/Machine_Learning/Thesis_Coding/gflownet-spai/data/medium_ILU/matrices/'\n",
    "\n",
    "small_matrices = [leading_path + 'lnsp_511.mtx', leading_path + 'pores_3.mtx', leading_path + 'tomography.mtx']\n",
    "\n",
    "for i in small_matrices:\n",
    "    save_ilu_matrix(i, 'data/medium_ILU/ilu_matrices')"
   ]
  }
 ],
 "metadata": {
  "kernelspec": {
   "display_name": "ML2",
   "language": "python",
   "name": "python3"
  },
  "language_info": {
   "codemirror_mode": {
    "name": "ipython",
    "version": 3
   },
   "file_extension": ".py",
   "mimetype": "text/x-python",
   "name": "python",
   "nbconvert_exporter": "python",
   "pygments_lexer": "ipython3",
   "version": "3.9.15"
  }
 },
 "nbformat": 4,
 "nbformat_minor": 2
}
