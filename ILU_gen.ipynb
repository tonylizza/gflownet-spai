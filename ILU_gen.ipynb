{
 "cells": [
  {
   "cell_type": "code",
   "execution_count": 5,
   "metadata": {},
   "outputs": [],
   "source": [
    "import os\n",
    "import numpy as np\n",
    "import scipy.sparse as sp\n",
    "import scipy.sparse.linalg as spla\n",
    "from scipy.io import mmread, mmwrite\n",
    "import torch\n",
    "from scipy.sparse import csr_matrix\n",
    "\n",
    "def save_ilu_matrix(input_mtx_file, output_folder):\n",
    "    # Load the sparse matrix from the .mtx file\n",
    "    A = mmread(input_mtx_file).tocsc()  # Ensure the matrix is in CSC format\n",
    "    \n",
    "    # Perform ILU factorization\n",
    "    ilu = spla.spilu(A)\n",
    "\n",
    "    L_mid = ilu.L - csr_matrix(np.eye(A.shape[0]))\n",
    "    \n",
    "    ilu_matrix = L_mid + ilu.U\n",
    "\n",
    "\n",
    "\n",
    "    # Construct output filename and save the LU matrix as an .mtx file\n",
    "    original_filename = os.path.splitext(os.path.basename(input_mtx_file))[0]\n",
    "    output_file = os.path.join(output_folder, f\"{original_filename}_ilu.mtx\")\n",
    "    \n",
    "    # Save the LU matrix to the specified output folder\n",
    "    mmwrite(output_file, ilu_matrix)\n",
    "    print(f\"ILU matrix saved to {output_file}\")\n",
    "\n",
    "# Example usage\n",
    "# save_ilu_matrix('path/to/input_file.mtx', 'path/to/output_folder')\n"
   ]
  },
  {
   "cell_type": "code",
   "execution_count": 6,
   "metadata": {},
   "outputs": [
    {
     "name": "stdout",
     "output_type": "stream",
     "text": [
      "ILU matrix saved to data/small_ILU/ilu_matrices/LF10_ilu.mtx\n",
      "ILU matrix saved to data/small_ILU/ilu_matrices/Trefethen_20_ilu.mtx\n",
      "ILU matrix saved to data/small_ILU/ilu_matrices/bcspwr01_ilu.mtx\n",
      "ILU matrix saved to data/small_ILU/ilu_matrices/can_24_ilu.mtx\n",
      "ILU matrix saved to data/small_ILU/ilu_matrices/pores_1_ilu.mtx\n"
     ]
    }
   ],
   "source": [
    "leading_path = '/Users/tonylizza/Documents/Machine_Learning/Thesis_Coding/gflownet-spai/data/small_ILU/matrices/'\n",
    "\n",
    "small_matrices = [leading_path + 'LF10.mtx', leading_path + 'Trefethen_20.mtx', leading_path + 'bcspwr01.mtx', leading_path + 'can_24.mtx', leading_path + 'pores_1.mtx']\n",
    "\n",
    "for i in small_matrices:\n",
    "    save_ilu_matrix(i, 'data/small_ILU/ilu_matrices')"
   ]
  }
 ],
 "metadata": {
  "kernelspec": {
   "display_name": "ML2",
   "language": "python",
   "name": "python3"
  },
  "language_info": {
   "codemirror_mode": {
    "name": "ipython",
    "version": 3
   },
   "file_extension": ".py",
   "mimetype": "text/x-python",
   "name": "python",
   "nbconvert_exporter": "python",
   "pygments_lexer": "ipython3",
   "version": "3.9.15"
  }
 },
 "nbformat": 4,
 "nbformat_minor": 2
}
