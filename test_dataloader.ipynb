{
 "cells": [
  {
   "cell_type": "code",
   "execution_count": 1,
   "metadata": {},
   "outputs": [
    {
     "name": "stdout",
     "output_type": "stream",
     "text": [
      "['data/small_ILU/LF10_ilu.mtx', 'data/small_ILU/can_24_ilu.mtx', 'data/small_ILU/Trefethen_20_ilu.mtx']\n",
      "Batch 1:\n",
      "Batch Data: DataBatch(x=[20, 1], edge_index=[2, 208], edge_attr=[208], batch=[20], ptr=[2])\n",
      "Batch Flops: tensor([8320])\n",
      "Batch Matrix Side tensor([20])\n",
      "Batch 2:\n",
      "Batch Data: DataBatch(x=[18, 1], edge_index=[2, 90], edge_attr=[90], batch=[18], ptr=[2])\n",
      "Batch Flops: tensor([3240])\n",
      "Batch Matrix Side tensor([18])\n",
      "Batch 3:\n",
      "Batch Data: DataBatch(x=[24, 1], edge_index=[2, 160], edge_attr=[160], batch=[24], ptr=[2])\n",
      "Batch Flops: tensor([7680])\n",
      "Batch Matrix Side tensor([24])\n"
     ]
    },
    {
     "name": "stderr",
     "output_type": "stream",
     "text": [
      "/Users/tonylizza/Documents/Machine_Learning/Thesis_Coding/gflownet-spai/gflownet/dataset.py:22: UserWarning: Creating a tensor from a list of numpy.ndarrays is extremely slow. Please consider converting the list to a single numpy.ndarray with numpy.array() before converting to a tensor. (Triggered internally at /Users/runner/miniforge3/conda-bld/pytorch-recipe_1670284382755/work/torch/csrc/utils/tensor_new.cpp:233.)\n",
      "  indices = torch.tensor([matrix.row, matrix.col], dtype=torch.long)\n"
     ]
    }
   ],
   "source": [
    "import torch\n",
    "from torch_geometric.data import Batch\n",
    "from gflownet.dataset import MatrixDataModule\n",
    "\n",
    "\n",
    "# Assuming you have a MatrixDataset class as described previously\n",
    "matrix_dir = 'data/small_ILU'\n",
    "\n",
    "# Create an instance of your MatrixDataModule\n",
    "data_module = MatrixDataModule(matrix_dir)\n",
    "\n",
    "# Call the setup method to initialize the data module (if needed)\n",
    "data_module.setup()\n",
    "\n",
    "# Get the DataLoader using the train_dataloader() method\n",
    "data_loader = data_module.train_dataloader()\n",
    "\n",
    "# Iterate through the DataLoader to test it\n",
    "for batch_idx, batch in enumerate(data_loader):\n",
    "    # Now, batch is a Batch object from PyTorch Geometric\n",
    "    print(f\"Batch {batch_idx + 1}:\")\n",
    "    #print(f\"Batch: {batch}\")\n",
    "    print(f\"Batch Data: {batch['data']}\")\n",
    "    print(f\"Batch Flops: {batch['starting_flops']}\")\n",
    "    print(f\"Batch Matrix Side {batch['matrix_sq_side']}\")\n",
    "\n"
   ]
  }
 ],
 "metadata": {
  "kernelspec": {
   "display_name": "ML2",
   "language": "python",
   "name": "python3"
  },
  "language_info": {
   "codemirror_mode": {
    "name": "ipython",
    "version": 3
   },
   "file_extension": ".py",
   "mimetype": "text/x-python",
   "name": "python",
   "nbconvert_exporter": "python",
   "pygments_lexer": "ipython3",
   "version": "3.9.15"
  }
 },
 "nbformat": 4,
 "nbformat_minor": 2
}
